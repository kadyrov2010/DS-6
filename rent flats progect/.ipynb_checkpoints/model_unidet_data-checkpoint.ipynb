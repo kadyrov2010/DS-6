{
 "cells": [
  {
   "cell_type": "code",
   "execution_count": 1,
   "metadata": {},
   "outputs": [],
   "source": [
    "import matplotlib.pyplot as plt\n",
    "import numpy as np\n",
    "from sklearn.linear_model import LinearRegression"
   ]
  },
  {
   "cell_type": "code",
   "execution_count": 3,
   "metadata": {},
   "outputs": [],
   "source": [
    "import pandas as pd\n",
    "import numpy as np\n",
    "import matplotlib.pyplot as plt\n",
    "import seaborn as sns\n",
    "%matplotlib inline"
   ]
  },
  {
   "cell_type": "code",
   "execution_count": 6,
   "metadata": {},
   "outputs": [
    {
     "data": {
      "text/html": [
       "<div>\n",
       "<style scoped>\n",
       "    .dataframe tbody tr th:only-of-type {\n",
       "        vertical-align: middle;\n",
       "    }\n",
       "\n",
       "    .dataframe tbody tr th {\n",
       "        vertical-align: top;\n",
       "    }\n",
       "\n",
       "    .dataframe thead th {\n",
       "        text-align: right;\n",
       "    }\n",
       "</style>\n",
       "<table border=\"1\" class=\"dataframe\">\n",
       "  <thead>\n",
       "    <tr style=\"text-align: right;\">\n",
       "      <th></th>\n",
       "      <th>district</th>\n",
       "      <th>metro</th>\n",
       "      <th>area</th>\n",
       "      <th>rooms</th>\n",
       "      <th>floor</th>\n",
       "      <th>gk</th>\n",
       "      <th>price</th>\n",
       "      <th>adress</th>\n",
       "    </tr>\n",
       "  </thead>\n",
       "  <tbody>\n",
       "    <tr>\n",
       "      <th>0</th>\n",
       "      <td>2.87</td>\n",
       "      <td>3</td>\n",
       "      <td>118.0</td>\n",
       "      <td>3</td>\n",
       "      <td>4</td>\n",
       "      <td>0</td>\n",
       "      <td>67900</td>\n",
       "      <td>\\nул. Старонаводницкая, 6б, Киев\\n</td>\n",
       "    </tr>\n",
       "    <tr>\n",
       "      <th>1</th>\n",
       "      <td>1.19</td>\n",
       "      <td>1</td>\n",
       "      <td>85.0</td>\n",
       "      <td>2</td>\n",
       "      <td>4</td>\n",
       "      <td>0</td>\n",
       "      <td>40800</td>\n",
       "      <td>\\nул. Липкивского Василия (Урицкого), 18, Киев\\n</td>\n",
       "    </tr>\n",
       "    <tr>\n",
       "      <th>2</th>\n",
       "      <td>1.74</td>\n",
       "      <td>3</td>\n",
       "      <td>90.0</td>\n",
       "      <td>3</td>\n",
       "      <td>4</td>\n",
       "      <td>0</td>\n",
       "      <td>19000</td>\n",
       "      <td>\\nул. Дмитриевская, 82, Киев\\n</td>\n",
       "    </tr>\n",
       "    <tr>\n",
       "      <th>3</th>\n",
       "      <td>1.53</td>\n",
       "      <td>3</td>\n",
       "      <td>228.0</td>\n",
       "      <td>7</td>\n",
       "      <td>4</td>\n",
       "      <td>0</td>\n",
       "      <td>163000</td>\n",
       "      <td>\\nТолстого Льва пл., 11, Киев\\n</td>\n",
       "    </tr>\n",
       "    <tr>\n",
       "      <th>4</th>\n",
       "      <td>1.53</td>\n",
       "      <td>3</td>\n",
       "      <td>39.0</td>\n",
       "      <td>1</td>\n",
       "      <td>3</td>\n",
       "      <td>0</td>\n",
       "      <td>14900</td>\n",
       "      <td>\\nул. Дубинина Володи, 7/14, Киев\\n</td>\n",
       "    </tr>\n",
       "    <tr>\n",
       "      <th>...</th>\n",
       "      <td>...</td>\n",
       "      <td>...</td>\n",
       "      <td>...</td>\n",
       "      <td>...</td>\n",
       "      <td>...</td>\n",
       "      <td>...</td>\n",
       "      <td>...</td>\n",
       "      <td>...</td>\n",
       "    </tr>\n",
       "    <tr>\n",
       "      <th>8174</th>\n",
       "      <td>1.00</td>\n",
       "      <td>3</td>\n",
       "      <td>32.0</td>\n",
       "      <td>1</td>\n",
       "      <td>6</td>\n",
       "      <td>0</td>\n",
       "      <td>6500</td>\n",
       "      <td>\\nул. Милютенко, 5а, Киев\\n</td>\n",
       "    </tr>\n",
       "    <tr>\n",
       "      <th>8175</th>\n",
       "      <td>1.22</td>\n",
       "      <td>1</td>\n",
       "      <td>48.0</td>\n",
       "      <td>1</td>\n",
       "      <td>4</td>\n",
       "      <td>1</td>\n",
       "      <td>11800</td>\n",
       "      <td>\\nул. Кондратюка Юрия, 3, Киев\\n</td>\n",
       "    </tr>\n",
       "    <tr>\n",
       "      <th>8176</th>\n",
       "      <td>1.53</td>\n",
       "      <td>3</td>\n",
       "      <td>55.0</td>\n",
       "      <td>1</td>\n",
       "      <td>4</td>\n",
       "      <td>1</td>\n",
       "      <td>27200</td>\n",
       "      <td>\\nул. Жилянская, 68, Киев\\n</td>\n",
       "    </tr>\n",
       "    <tr>\n",
       "      <th>8177</th>\n",
       "      <td>2.87</td>\n",
       "      <td>3</td>\n",
       "      <td>58.0</td>\n",
       "      <td>2</td>\n",
       "      <td>10</td>\n",
       "      <td>1</td>\n",
       "      <td>38000</td>\n",
       "      <td>\\nул. Драгомирова Михаила, 17, Киев\\n</td>\n",
       "    </tr>\n",
       "    <tr>\n",
       "      <th>8178</th>\n",
       "      <td>1.53</td>\n",
       "      <td>3</td>\n",
       "      <td>55.0</td>\n",
       "      <td>2</td>\n",
       "      <td>4</td>\n",
       "      <td>0</td>\n",
       "      <td>11000</td>\n",
       "      <td>\\nул. Заболотного Академика, 82, Киев\\n</td>\n",
       "    </tr>\n",
       "  </tbody>\n",
       "</table>\n",
       "<p>8179 rows × 8 columns</p>\n",
       "</div>"
      ],
      "text/plain": [
       "      district  metro   area  rooms  floor  gk   price  \\\n",
       "0         2.87      3  118.0      3      4   0   67900   \n",
       "1         1.19      1   85.0      2      4   0   40800   \n",
       "2         1.74      3   90.0      3      4   0   19000   \n",
       "3         1.53      3  228.0      7      4   0  163000   \n",
       "4         1.53      3   39.0      1      3   0   14900   \n",
       "...        ...    ...    ...    ...    ...  ..     ...   \n",
       "8174      1.00      3   32.0      1      6   0    6500   \n",
       "8175      1.22      1   48.0      1      4   1   11800   \n",
       "8176      1.53      3   55.0      1      4   1   27200   \n",
       "8177      2.87      3   58.0      2     10   1   38000   \n",
       "8178      1.53      3   55.0      2      4   0   11000   \n",
       "\n",
       "                                                adress  \n",
       "0                   \\nул. Старонаводницкая, 6б, Киев\\n  \n",
       "1     \\nул. Липкивского Василия (Урицкого), 18, Киев\\n  \n",
       "2                       \\nул. Дмитриевская, 82, Киев\\n  \n",
       "3                      \\nТолстого Льва пл., 11, Киев\\n  \n",
       "4                  \\nул. Дубинина Володи, 7/14, Киев\\n  \n",
       "...                                                ...  \n",
       "8174                       \\nул. Милютенко, 5а, Киев\\n  \n",
       "8175                  \\nул. Кондратюка Юрия, 3, Киев\\n  \n",
       "8176                       \\nул. Жилянская, 68, Киев\\n  \n",
       "8177             \\nул. Драгомирова Михаила, 17, Киев\\n  \n",
       "8178           \\nул. Заболотного Академика, 82, Киев\\n  \n",
       "\n",
       "[8179 rows x 8 columns]"
      ]
     },
     "execution_count": 6,
     "metadata": {},
     "output_type": "execute_result"
    }
   ],
   "source": [
    "base_100rielt = pd.read_csv('rent100riel_new.csv')\n",
    "base_100rielt"
   ]
  },
  {
   "cell_type": "code",
   "execution_count": 7,
   "metadata": {},
   "outputs": [
    {
     "data": {
      "text/html": [
       "<div>\n",
       "<style scoped>\n",
       "    .dataframe tbody tr th:only-of-type {\n",
       "        vertical-align: middle;\n",
       "    }\n",
       "\n",
       "    .dataframe tbody tr th {\n",
       "        vertical-align: top;\n",
       "    }\n",
       "\n",
       "    .dataframe thead th {\n",
       "        text-align: right;\n",
       "    }\n",
       "</style>\n",
       "<table border=\"1\" class=\"dataframe\">\n",
       "  <thead>\n",
       "    <tr style=\"text-align: right;\">\n",
       "      <th></th>\n",
       "      <th>district</th>\n",
       "      <th>metro</th>\n",
       "      <th>area</th>\n",
       "      <th>rooms</th>\n",
       "      <th>floor</th>\n",
       "      <th>gk</th>\n",
       "      <th>price</th>\n",
       "      <th>adress</th>\n",
       "    </tr>\n",
       "  </thead>\n",
       "  <tbody>\n",
       "    <tr>\n",
       "      <th>0</th>\n",
       "      <td>2.87</td>\n",
       "      <td>3.0</td>\n",
       "      <td>30.0</td>\n",
       "      <td>1</td>\n",
       "      <td>7.0</td>\n",
       "      <td>0</td>\n",
       "      <td>11000.0</td>\n",
       "      <td>Кловский спуск, 20, Печерский р-н</td>\n",
       "    </tr>\n",
       "    <tr>\n",
       "      <th>1</th>\n",
       "      <td>1.74</td>\n",
       "      <td>3.0</td>\n",
       "      <td>100.0</td>\n",
       "      <td>3</td>\n",
       "      <td>11.0</td>\n",
       "      <td>1</td>\n",
       "      <td>27500.0</td>\n",
       "      <td>Жилянская ул., 118, Шевченковский р-н</td>\n",
       "    </tr>\n",
       "    <tr>\n",
       "      <th>2</th>\n",
       "      <td>2.87</td>\n",
       "      <td>3.0</td>\n",
       "      <td>120.0</td>\n",
       "      <td>3</td>\n",
       "      <td>5.0</td>\n",
       "      <td>1</td>\n",
       "      <td>90750.0</td>\n",
       "      <td>Драгомирова ул., 20, Печерский р-н</td>\n",
       "    </tr>\n",
       "    <tr>\n",
       "      <th>3</th>\n",
       "      <td>1.74</td>\n",
       "      <td>3.0</td>\n",
       "      <td>45.0</td>\n",
       "      <td>1</td>\n",
       "      <td>2.0</td>\n",
       "      <td>0</td>\n",
       "      <td>21000.0</td>\n",
       "      <td>Вячеслава Липинского, 1/16, Шевченковский р-н</td>\n",
       "    </tr>\n",
       "    <tr>\n",
       "      <th>4</th>\n",
       "      <td>1.74</td>\n",
       "      <td>3.0</td>\n",
       "      <td>90.0</td>\n",
       "      <td>3</td>\n",
       "      <td>10.0</td>\n",
       "      <td>0</td>\n",
       "      <td>27500.0</td>\n",
       "      <td>Тургеневская ул., 29-33, Шевченковский р-н</td>\n",
       "    </tr>\n",
       "    <tr>\n",
       "      <th>...</th>\n",
       "      <td>...</td>\n",
       "      <td>...</td>\n",
       "      <td>...</td>\n",
       "      <td>...</td>\n",
       "      <td>...</td>\n",
       "      <td>...</td>\n",
       "      <td>...</td>\n",
       "      <td>...</td>\n",
       "    </tr>\n",
       "    <tr>\n",
       "      <th>3273</th>\n",
       "      <td>1.00</td>\n",
       "      <td>3.0</td>\n",
       "      <td>36.0</td>\n",
       "      <td>1</td>\n",
       "      <td>7.0</td>\n",
       "      <td>0</td>\n",
       "      <td>6999.0</td>\n",
       "      <td>Шолом-Алейхема ул., Деснянский р-н</td>\n",
       "    </tr>\n",
       "    <tr>\n",
       "      <th>3274</th>\n",
       "      <td>1.00</td>\n",
       "      <td>3.0</td>\n",
       "      <td>36.0</td>\n",
       "      <td>1</td>\n",
       "      <td>7.0</td>\n",
       "      <td>0</td>\n",
       "      <td>6999.0</td>\n",
       "      <td>Шолом-Алейхема ул., Деснянский р-н</td>\n",
       "    </tr>\n",
       "    <tr>\n",
       "      <th>3275</th>\n",
       "      <td>1.19</td>\n",
       "      <td>3.0</td>\n",
       "      <td>35.0</td>\n",
       "      <td>1</td>\n",
       "      <td>8.0</td>\n",
       "      <td>0</td>\n",
       "      <td>7000.0</td>\n",
       "      <td>Окипной Раисы ул., Днепровский р-н</td>\n",
       "    </tr>\n",
       "    <tr>\n",
       "      <th>3276</th>\n",
       "      <td>1.19</td>\n",
       "      <td>1.0</td>\n",
       "      <td>35.0</td>\n",
       "      <td>1</td>\n",
       "      <td>11.0</td>\n",
       "      <td>0</td>\n",
       "      <td>8800.0</td>\n",
       "      <td>Малышка Андрея ул., Днепровский р-н</td>\n",
       "    </tr>\n",
       "    <tr>\n",
       "      <th>3277</th>\n",
       "      <td>1.53</td>\n",
       "      <td>1.0</td>\n",
       "      <td>34.0</td>\n",
       "      <td>1</td>\n",
       "      <td>2.0</td>\n",
       "      <td>0</td>\n",
       "      <td>9500.0</td>\n",
       "      <td>Вильямса академика ул., Голосеевский р-н</td>\n",
       "    </tr>\n",
       "  </tbody>\n",
       "</table>\n",
       "<p>3278 rows × 8 columns</p>\n",
       "</div>"
      ],
      "text/plain": [
       "      district  metro   area  rooms  floor  gk    price  \\\n",
       "0         2.87    3.0   30.0      1    7.0   0  11000.0   \n",
       "1         1.74    3.0  100.0      3   11.0   1  27500.0   \n",
       "2         2.87    3.0  120.0      3    5.0   1  90750.0   \n",
       "3         1.74    3.0   45.0      1    2.0   0  21000.0   \n",
       "4         1.74    3.0   90.0      3   10.0   0  27500.0   \n",
       "...        ...    ...    ...    ...    ...  ..      ...   \n",
       "3273      1.00    3.0   36.0      1    7.0   0   6999.0   \n",
       "3274      1.00    3.0   36.0      1    7.0   0   6999.0   \n",
       "3275      1.19    3.0   35.0      1    8.0   0   7000.0   \n",
       "3276      1.19    1.0   35.0      1   11.0   0   8800.0   \n",
       "3277      1.53    1.0   34.0      1    2.0   0   9500.0   \n",
       "\n",
       "                                             adress  \n",
       "0                 Кловский спуск, 20, Печерский р-н  \n",
       "1             Жилянская ул., 118, Шевченковский р-н  \n",
       "2                Драгомирова ул., 20, Печерский р-н  \n",
       "3     Вячеслава Липинского, 1/16, Шевченковский р-н  \n",
       "4        Тургеневская ул., 29-33, Шевченковский р-н  \n",
       "...                                             ...  \n",
       "3273             Шолом-Алейхема ул., Деснянский р-н  \n",
       "3274             Шолом-Алейхема ул., Деснянский р-н  \n",
       "3275             Окипной Раисы ул., Днепровский р-н  \n",
       "3276            Малышка Андрея ул., Днепровский р-н  \n",
       "3277       Вильямса академика ул., Голосеевский р-н  \n",
       "\n",
       "[3278 rows x 8 columns]"
      ]
     },
     "execution_count": 7,
     "metadata": {},
     "output_type": "execute_result"
    }
   ],
   "source": [
    "base_rielt = pd.read_csv('rent_rielt_new.csv')\n",
    "base_rielt"
   ]
  },
  {
   "cell_type": "code",
   "execution_count": 8,
   "metadata": {},
   "outputs": [
    {
     "data": {
      "text/html": [
       "<div>\n",
       "<style scoped>\n",
       "    .dataframe tbody tr th:only-of-type {\n",
       "        vertical-align: middle;\n",
       "    }\n",
       "\n",
       "    .dataframe tbody tr th {\n",
       "        vertical-align: top;\n",
       "    }\n",
       "\n",
       "    .dataframe thead th {\n",
       "        text-align: right;\n",
       "    }\n",
       "</style>\n",
       "<table border=\"1\" class=\"dataframe\">\n",
       "  <thead>\n",
       "    <tr style=\"text-align: right;\">\n",
       "      <th></th>\n",
       "      <th>district</th>\n",
       "      <th>metro</th>\n",
       "      <th>area</th>\n",
       "      <th>rooms</th>\n",
       "      <th>floor</th>\n",
       "      <th>gk</th>\n",
       "      <th>price</th>\n",
       "      <th>adress</th>\n",
       "    </tr>\n",
       "  </thead>\n",
       "  <tbody>\n",
       "    <tr>\n",
       "      <th>0</th>\n",
       "      <td>2.87</td>\n",
       "      <td>3.0</td>\n",
       "      <td>118.0</td>\n",
       "      <td>3</td>\n",
       "      <td>4.0</td>\n",
       "      <td>0</td>\n",
       "      <td>67900.0</td>\n",
       "      <td>\\nул. Старонаводницкая, 6б, Киев\\n</td>\n",
       "    </tr>\n",
       "    <tr>\n",
       "      <th>1</th>\n",
       "      <td>1.19</td>\n",
       "      <td>1.0</td>\n",
       "      <td>85.0</td>\n",
       "      <td>2</td>\n",
       "      <td>4.0</td>\n",
       "      <td>0</td>\n",
       "      <td>40800.0</td>\n",
       "      <td>\\nул. Липкивского Василия (Урицкого), 18, Киев\\n</td>\n",
       "    </tr>\n",
       "    <tr>\n",
       "      <th>2</th>\n",
       "      <td>1.74</td>\n",
       "      <td>3.0</td>\n",
       "      <td>90.0</td>\n",
       "      <td>3</td>\n",
       "      <td>4.0</td>\n",
       "      <td>0</td>\n",
       "      <td>19000.0</td>\n",
       "      <td>\\nул. Дмитриевская, 82, Киев\\n</td>\n",
       "    </tr>\n",
       "    <tr>\n",
       "      <th>3</th>\n",
       "      <td>1.53</td>\n",
       "      <td>3.0</td>\n",
       "      <td>228.0</td>\n",
       "      <td>7</td>\n",
       "      <td>4.0</td>\n",
       "      <td>0</td>\n",
       "      <td>163000.0</td>\n",
       "      <td>\\nТолстого Льва пл., 11, Киев\\n</td>\n",
       "    </tr>\n",
       "    <tr>\n",
       "      <th>4</th>\n",
       "      <td>1.53</td>\n",
       "      <td>3.0</td>\n",
       "      <td>39.0</td>\n",
       "      <td>1</td>\n",
       "      <td>3.0</td>\n",
       "      <td>0</td>\n",
       "      <td>14900.0</td>\n",
       "      <td>\\nул. Дубинина Володи, 7/14, Киев\\n</td>\n",
       "    </tr>\n",
       "    <tr>\n",
       "      <th>...</th>\n",
       "      <td>...</td>\n",
       "      <td>...</td>\n",
       "      <td>...</td>\n",
       "      <td>...</td>\n",
       "      <td>...</td>\n",
       "      <td>...</td>\n",
       "      <td>...</td>\n",
       "      <td>...</td>\n",
       "    </tr>\n",
       "    <tr>\n",
       "      <th>11452</th>\n",
       "      <td>1.00</td>\n",
       "      <td>3.0</td>\n",
       "      <td>36.0</td>\n",
       "      <td>1</td>\n",
       "      <td>7.0</td>\n",
       "      <td>0</td>\n",
       "      <td>6999.0</td>\n",
       "      <td>Шолом-Алейхема ул., Деснянский р-н</td>\n",
       "    </tr>\n",
       "    <tr>\n",
       "      <th>11453</th>\n",
       "      <td>1.00</td>\n",
       "      <td>3.0</td>\n",
       "      <td>36.0</td>\n",
       "      <td>1</td>\n",
       "      <td>7.0</td>\n",
       "      <td>0</td>\n",
       "      <td>6999.0</td>\n",
       "      <td>Шолом-Алейхема ул., Деснянский р-н</td>\n",
       "    </tr>\n",
       "    <tr>\n",
       "      <th>11454</th>\n",
       "      <td>1.19</td>\n",
       "      <td>3.0</td>\n",
       "      <td>35.0</td>\n",
       "      <td>1</td>\n",
       "      <td>8.0</td>\n",
       "      <td>0</td>\n",
       "      <td>7000.0</td>\n",
       "      <td>Окипной Раисы ул., Днепровский р-н</td>\n",
       "    </tr>\n",
       "    <tr>\n",
       "      <th>11455</th>\n",
       "      <td>1.19</td>\n",
       "      <td>1.0</td>\n",
       "      <td>35.0</td>\n",
       "      <td>1</td>\n",
       "      <td>11.0</td>\n",
       "      <td>0</td>\n",
       "      <td>8800.0</td>\n",
       "      <td>Малышка Андрея ул., Днепровский р-н</td>\n",
       "    </tr>\n",
       "    <tr>\n",
       "      <th>11456</th>\n",
       "      <td>1.53</td>\n",
       "      <td>1.0</td>\n",
       "      <td>34.0</td>\n",
       "      <td>1</td>\n",
       "      <td>2.0</td>\n",
       "      <td>0</td>\n",
       "      <td>9500.0</td>\n",
       "      <td>Вильямса академика ул., Голосеевский р-н</td>\n",
       "    </tr>\n",
       "  </tbody>\n",
       "</table>\n",
       "<p>11457 rows × 8 columns</p>\n",
       "</div>"
      ],
      "text/plain": [
       "       district  metro   area  rooms  floor  gk     price  \\\n",
       "0          2.87    3.0  118.0      3    4.0   0   67900.0   \n",
       "1          1.19    1.0   85.0      2    4.0   0   40800.0   \n",
       "2          1.74    3.0   90.0      3    4.0   0   19000.0   \n",
       "3          1.53    3.0  228.0      7    4.0   0  163000.0   \n",
       "4          1.53    3.0   39.0      1    3.0   0   14900.0   \n",
       "...         ...    ...    ...    ...    ...  ..       ...   \n",
       "11452      1.00    3.0   36.0      1    7.0   0    6999.0   \n",
       "11453      1.00    3.0   36.0      1    7.0   0    6999.0   \n",
       "11454      1.19    3.0   35.0      1    8.0   0    7000.0   \n",
       "11455      1.19    1.0   35.0      1   11.0   0    8800.0   \n",
       "11456      1.53    1.0   34.0      1    2.0   0    9500.0   \n",
       "\n",
       "                                                 adress  \n",
       "0                    \\nул. Старонаводницкая, 6б, Киев\\n  \n",
       "1      \\nул. Липкивского Василия (Урицкого), 18, Киев\\n  \n",
       "2                        \\nул. Дмитриевская, 82, Киев\\n  \n",
       "3                       \\nТолстого Льва пл., 11, Киев\\n  \n",
       "4                   \\nул. Дубинина Володи, 7/14, Киев\\n  \n",
       "...                                                 ...  \n",
       "11452                Шолом-Алейхема ул., Деснянский р-н  \n",
       "11453                Шолом-Алейхема ул., Деснянский р-н  \n",
       "11454                Окипной Раисы ул., Днепровский р-н  \n",
       "11455               Малышка Андрея ул., Днепровский р-н  \n",
       "11456          Вильямса академика ул., Голосеевский р-н  \n",
       "\n",
       "[11457 rows x 8 columns]"
      ]
     },
     "execution_count": 8,
     "metadata": {},
     "output_type": "execute_result"
    }
   ],
   "source": [
    "united_data = pd.concat([base_100rielt, base_rielt], ignore_index=True)\n",
    "united_data"
   ]
  },
  {
   "cell_type": "code",
   "execution_count": 9,
   "metadata": {},
   "outputs": [
    {
     "name": "stderr",
     "output_type": "stream",
     "text": [
      "C:\\ProgramData\\Anaconda3\\lib\\site-packages\\seaborn\\distributions.py:2551: FutureWarning: `distplot` is a deprecated function and will be removed in a future version. Please adapt your code to use either `displot` (a figure-level function with similar flexibility) or `histplot` (an axes-level function for histograms).\n",
      "  warnings.warn(msg, FutureWarning)\n"
     ]
    },
    {
     "data": {
      "text/plain": [
       "<AxesSubplot:xlabel='price', ylabel='Density'>"
      ]
     },
     "execution_count": 9,
     "metadata": {},
     "output_type": "execute_result"
    },
    {
     "data": {
      "image/png": "[encoded data removed]",
      "text/plain": [
       "<Figure size 432x288 with 1 Axes>"
      ]
     },
     "metadata": {
      "needs_background": "light"
     },
     "output_type": "display_data"
    }
   ],
   "source": [
    "sns.distplot(united_data['price'])"
   ]
  },
  {
   "cell_type": "code",
   "execution_count": 10,
   "metadata": {},
   "outputs": [
    {
     "data": {
      "text/plain": [
       "<seaborn.axisgrid.FacetGrid at 0x28b25e8be80>"
      ]
     },
     "execution_count": 10,
     "metadata": {},
     "output_type": "execute_result"
    },
    {
     "data": {
      "image/png": "[encoded data removed]",
      "text/plain": [
       "<Figure size 360x360 with 1 Axes>"
      ]
     },
     "metadata": {
      "needs_background": "light"
     },
     "output_type": "display_data"
    }
   ],
   "source": [
    "sns.lmplot(x='area', y='price', data=united_data)"
   ]
  },
  {
   "cell_type": "code",
   "execution_count": 12,
   "metadata": {},
   "outputs": [],
   "source": [
    "X = united_data[['district', 'metro', 'area',\n",
    "               'rooms', 'floor', 'gk']]\n",
    "y = united_data['price']"
   ]
  },
  {
   "cell_type": "code",
   "execution_count": 33,
   "metadata": {},
   "outputs": [],
   "source": [
    "from sklearn.model_selection import train_test_split\n",
    "X_train, X_test, y_train, y_test = train_test_split(X, y, test_size=0.4,)"
   ]
  },
  {
   "cell_type": "code",
   "execution_count": 14,
   "metadata": {},
   "outputs": [
    {
     "data": {
      "text/plain": [
       "LinearRegression()"
      ]
     },
     "execution_count": 14,
     "metadata": {},
     "output_type": "execute_result"
    }
   ],
   "source": [
    "lm = LinearRegression()\n",
    "lm.fit(X_train,y_train)"
   ]
  },
  {
   "cell_type": "code",
   "execution_count": 15,
   "metadata": {
    "scrolled": true
   },
   "outputs": [
    {
     "data": {
      "text/plain": [
       "array([ 8080.34686789,  1803.47906423,   143.83241798, 10316.66285151,\n",
       "         218.30503232,  8343.65474063])"
      ]
     },
     "execution_count": 15,
     "metadata": {},
     "output_type": "execute_result"
    }
   ],
   "source": [
    "lm.coef_"
   ]
  },
  {
   "cell_type": "code",
   "execution_count": 16,
   "metadata": {},
   "outputs": [
    {
     "data": {
      "text/plain": [
       "0.5124124529637162"
      ]
     },
     "execution_count": 16,
     "metadata": {},
     "output_type": "execute_result"
    }
   ],
   "source": [
    "lm.score(X_train,y_train)"
   ]
  },
  {
   "cell_type": "code",
   "execution_count": 17,
   "metadata": {},
   "outputs": [
    {
     "data": {
      "text/plain": [
       "0.4985257355870799"
      ]
     },
     "execution_count": 17,
     "metadata": {},
     "output_type": "execute_result"
    }
   ],
   "source": [
    "lm.score(X_test, y_test)"
   ]
  },
  {
   "cell_type": "code",
   "execution_count": 18,
   "metadata": {},
   "outputs": [
    {
     "data": {
      "text/plain": [
       "array([16614.39471016])"
      ]
     },
     "execution_count": 18,
     "metadata": {},
     "output_type": "execute_result"
    }
   ],
   "source": [
    "predictions = lm.predict(np.array([1.18, 3, 46, 1, 12, 1]).reshape(1, -1))\n",
    "predictions"
   ]
  },
  {
   "cell_type": "code",
   "execution_count": null,
   "metadata": {},
   "outputs": [],
   "source": []
  },
  {
   "cell_type": "code",
   "execution_count": 20,
   "metadata": {},
   "outputs": [],
   "source": [
    "predictions = lm.predict(X_test)"
   ]
  },
  {
   "cell_type": "code",
   "execution_count": 21,
   "metadata": {},
   "outputs": [
    {
     "name": "stdout",
     "output_type": "stream",
     "text": [
      "MAE: 10496.483932693645\n",
      "MSE: 333891200.71750075\n",
      "RMSE: 18272.69002411798\n"
     ]
    }
   ],
   "source": [
    "from sklearn import metrics\n",
    "print('MAE:', metrics.mean_absolute_error(y_test, predictions))\n",
    "print('MSE:', metrics.mean_squared_error(y_test, predictions))\n",
    "print('RMSE:', np.sqrt(metrics.mean_squared_error(y_test, predictions)))"
   ]
  },
  {
   "cell_type": "code",
   "execution_count": 34,
   "metadata": {},
   "outputs": [
    {
     "name": "stdout",
     "output_type": "stream",
     "text": [
      "0.9284177269792697\n"
     ]
    }
   ],
   "source": [
    "from sklearn.ensemble import RandomForestRegressor\n",
    "model_3 = RandomForestRegressor()\n",
    "model_3.fit(X_train, y_train)\n",
    "print(model_3.score(X_train, y_train))"
   ]
  },
  {
   "cell_type": "code",
   "execution_count": 35,
   "metadata": {},
   "outputs": [
    {
     "data": {
      "text/plain": [
       "0.7021856148825156"
      ]
     },
     "execution_count": 35,
     "metadata": {},
     "output_type": "execute_result"
    }
   ],
   "source": [
    "model_3.score(X_test, y_test)"
   ]
  },
  {
   "cell_type": "code",
   "execution_count": 45,
   "metadata": {},
   "outputs": [
    {
     "data": {
      "text/plain": [
       "array([16771.74])"
      ]
     },
     "execution_count": 45,
     "metadata": {},
     "output_type": "execute_result"
    }
   ],
   "source": [
    "predictions = model_3.predict(np.array([1.22, 3, 54, 2, 7, 0]).reshape(1, -1))\n",
    "predictions"
   ]
  },
  {
   "cell_type": "code",
   "execution_count": 44,
   "metadata": {},
   "outputs": [],
   "source": [
    "import pickle\n",
    "\n",
    "with open(r'United_data_model_random_forest.pickle', 'wb') as f:\n",
    "    pickle.dump(model_3, f)"
   ]
  }
 ],
 "metadata": {
  "kernelspec": {
   "display_name": "Python 3",
   "language": "python",
   "name": "python3"
  },
  "language_info": {
   "codemirror_mode": {
    "name": "ipython",
    "version": 3
   },
   "file_extension": ".py",
   "mimetype": "text/x-python",
   "name": "python",
   "nbconvert_exporter": "python",
   "pygments_lexer": "ipython3",
   "version": "3.8.5"
  }
 },
 "nbformat": 4,
 "nbformat_minor": 4
}
