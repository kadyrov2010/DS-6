{
 "cells": [
  {
   "cell_type": "markdown",
   "metadata": {},
   "source": [
    "___\n",
    "\n",
    "<a href='https://mainacademy.ua/'> <img src='https://mainacademy.ua/wp-content/uploads/2019/03/logo-main.png' alt = 'Хмм, щось з інтернетом'/></a>\n",
    "___\n",
    "\n",
    "# Module 4: Work with data professionally!"
   ]
  },
  {
   "cell_type": "markdown",
   "metadata": {},
   "source": [
    "## Lab work 4\n",
    "\n"
   ]
  },
  {
   "cell_type": "markdown",
   "metadata": {},
   "source": [
    "#### Мета: \n",
    "\n",
    "* навчитися обробляти дані\n",
    "* \"парсити\" сайти"
   ]
  },
  {
   "cell_type": "markdown",
   "metadata": {},
   "source": [
    "### Завдання 1:"
   ]
  },
  {
   "cell_type": "markdown",
   "metadata": {},
   "source": [
    "#### Ознайомитися із API Національного банку \n",
    "https://old.bank.gov.ua/control/uk/publish/article?art_id=38441973&cat_id=38459171#exchange\n",
    "\n"
   ]
  },
  {
   "cell_type": "markdown",
   "metadata": {},
   "source": [
    "1. Підключитися до API.\n"
   ]
  },
  {
   "cell_type": "code",
   "execution_count": 1,
   "metadata": {},
   "outputs": [],
   "source": [
    "import requests\n",
    "r = requests.get('https://bank.gov.ua/NBUStatService/v1/statdirectory/exchange?json').json()"
   ]
  },
  {
   "cell_type": "markdown",
   "metadata": {},
   "source": [
    "2. Отримати курс долара за останній рік."
   ]
  },
  {
   "cell_type": "code",
   "execution_count": 2,
   "metadata": {},
   "outputs": [
    {
     "name": "stdout",
     "output_type": "stream",
     "text": [
      "{datetime.datetime(2021, 4, 18, 10, 24, 41, 808081): 27.9592, datetime.datetime(2021, 4, 17, 10, 24, 41, 808081): 27.9592, datetime.datetime(2021, 4, 16, 10, 24, 41, 808081): 27.9592, datetime.datetime(2021, 4, 15, 10, 24, 41, 808081): 27.9765, datetime.datetime(2021, 4, 14, 10, 24, 41, 808081): 28.0156, datetime.datetime(2021, 4, 13, 10, 24, 41, 808081): 27.9335, datetime.datetime(2021, 4, 12, 10, 24, 41, 808081): 27.9094, datetime.datetime(2021, 4, 11, 10, 24, 41, 808081): 27.9768, datetime.datetime(2021, 4, 10, 10, 24, 41, 808081): 27.9768, datetime.datetime(2021, 4, 9, 10, 24, 41, 808081): 27.9768, datetime.datetime(2021, 4, 8, 10, 24, 41, 808081): 27.8923, datetime.datetime(2021, 4, 7, 10, 24, 41, 808081): 27.8384, datetime.datetime(2021, 4, 6, 10, 24, 41, 808081): 27.939, datetime.datetime(2021, 4, 5, 10, 24, 41, 808081): 27.9555, datetime.datetime(2021, 4, 4, 10, 24, 41, 808081): 27.8324, datetime.datetime(2021, 4, 3, 10, 24, 41, 808081): 27.8324, datetime.datetime(2021, 4, 2, 10, 24, 41, 808081): 27.8324, datetime.datetime(2021, 4, 1, 10, 24, 41, 808081): 27.8226, datetime.datetime(2021, 3, 31, 10, 24, 41, 808081): 27.8852, datetime.datetime(2021, 3, 30, 10, 24, 41, 808081): 27.9694, datetime.datetime(2021, 3, 29, 10, 24, 41, 808081): 27.9679, datetime.datetime(2021, 3, 28, 10, 24, 41, 808081): 27.9698, datetime.datetime(2021, 3, 27, 10, 24, 41, 808081): 27.9698, datetime.datetime(2021, 3, 26, 10, 24, 41, 808081): 27.9698, datetime.datetime(2021, 3, 25, 10, 24, 41, 808081): 27.8706, datetime.datetime(2021, 3, 24, 10, 24, 41, 808081): 27.7295, datetime.datetime(2021, 3, 23, 10, 24, 41, 808081): 27.6871, datetime.datetime(2021, 3, 22, 10, 24, 41, 808081): 27.7184, datetime.datetime(2021, 3, 21, 10, 24, 41, 808081): 27.6828, datetime.datetime(2021, 3, 20, 10, 24, 41, 808081): 27.6828, datetime.datetime(2021, 3, 19, 10, 24, 41, 808081): 27.6828, datetime.datetime(2021, 3, 18, 10, 24, 41, 808081): 27.6978, datetime.datetime(2021, 3, 17, 10, 24, 41, 808081): 27.6525, datetime.datetime(2021, 3, 16, 10, 24, 41, 808081): 27.6434, datetime.datetime(2021, 3, 15, 10, 24, 41, 808081): 27.7305, datetime.datetime(2021, 3, 14, 10, 24, 41, 808081): 27.7486, datetime.datetime(2021, 3, 13, 10, 24, 41, 808081): 27.7486, datetime.datetime(2021, 3, 12, 10, 24, 41, 808081): 27.7486, datetime.datetime(2021, 3, 11, 10, 24, 41, 808081): 27.7016, datetime.datetime(2021, 3, 10, 10, 24, 41, 808081): 27.7431, datetime.datetime(2021, 3, 9, 10, 24, 41, 808081): 27.7091, datetime.datetime(2021, 3, 8, 10, 24, 41, 808081): 27.7564, datetime.datetime(2021, 3, 7, 10, 24, 41, 808081): 27.7564, datetime.datetime(2021, 3, 6, 10, 24, 41, 808081): 27.7564, datetime.datetime(2021, 3, 5, 10, 24, 41, 808081): 27.7564, datetime.datetime(2021, 3, 4, 10, 24, 41, 808081): 27.8477, datetime.datetime(2021, 3, 3, 10, 24, 41, 808081): 27.933, datetime.datetime(2021, 3, 2, 10, 24, 41, 808081): 28.0007, datetime.datetime(2021, 3, 1, 10, 24, 41, 808081): 27.9456, datetime.datetime(2021, 2, 28, 10, 24, 41, 808081): 27.9301, datetime.datetime(2021, 2, 27, 10, 24, 41, 808081): 27.9301, datetime.datetime(2021, 2, 26, 10, 24, 41, 808081): 27.9301, datetime.datetime(2021, 2, 25, 10, 24, 41, 808081): 27.9492, datetime.datetime(2021, 2, 24, 10, 24, 41, 808081): 27.8976, datetime.datetime(2021, 2, 23, 10, 24, 41, 808081): 27.9304, datetime.datetime(2021, 2, 22, 10, 24, 41, 808081): 27.8468, datetime.datetime(2021, 2, 21, 10, 24, 41, 808081): 27.8461, datetime.datetime(2021, 2, 20, 10, 24, 41, 808081): 27.8461, datetime.datetime(2021, 2, 19, 10, 24, 41, 808081): 27.8461, datetime.datetime(2021, 2, 18, 10, 24, 41, 808081): 27.9038, datetime.datetime(2021, 2, 17, 10, 24, 41, 808081): 27.8304, datetime.datetime(2021, 2, 16, 10, 24, 41, 808081): 27.9671, datetime.datetime(2021, 2, 15, 10, 24, 41, 808081): 27.844, datetime.datetime(2021, 2, 14, 10, 24, 41, 808081): 27.8384, datetime.datetime(2021, 2, 13, 10, 24, 41, 808081): 27.8384, datetime.datetime(2021, 2, 12, 10, 24, 41, 808081): 27.8384, datetime.datetime(2021, 2, 11, 10, 24, 41, 808081): 27.7665, datetime.datetime(2021, 2, 10, 10, 24, 41, 808081): 27.6426, datetime.datetime(2021, 2, 9, 10, 24, 41, 808081): 27.6651, datetime.datetime(2021, 2, 8, 10, 24, 41, 808081): 27.7711, datetime.datetime(2021, 2, 7, 10, 24, 41, 808081): 27.8885, datetime.datetime(2021, 2, 6, 10, 24, 41, 808081): 27.8885, datetime.datetime(2021, 2, 5, 10, 24, 41, 808081): 27.8885, datetime.datetime(2021, 2, 4, 10, 24, 41, 808081): 27.995, datetime.datetime(2021, 2, 3, 10, 24, 41, 808081): 28.0589, datetime.datetime(2021, 2, 2, 10, 24, 41, 808081): 28.0603, datetime.datetime(2021, 2, 1, 10, 24, 41, 808081): 28.1324, datetime.datetime(2021, 1, 31, 10, 24, 41, 808081): 28.1929, datetime.datetime(2021, 1, 30, 10, 24, 41, 808081): 28.1929, datetime.datetime(2021, 1, 29, 10, 24, 41, 808081): 28.1929, datetime.datetime(2021, 1, 28, 10, 24, 41, 808081): 28.1652, datetime.datetime(2021, 1, 27, 10, 24, 41, 808081): 28.1524, datetime.datetime(2021, 1, 26, 10, 24, 41, 808081): 28.1665, datetime.datetime(2021, 1, 25, 10, 24, 41, 808081): 28.1648, datetime.datetime(2021, 1, 24, 10, 24, 41, 808081): 28.2561, datetime.datetime(2021, 1, 23, 10, 24, 41, 808081): 28.2561, datetime.datetime(2021, 1, 22, 10, 24, 41, 808081): 28.2561, datetime.datetime(2021, 1, 21, 10, 24, 41, 808081): 28.2035, datetime.datetime(2021, 1, 20, 10, 24, 41, 808081): 28.1544, datetime.datetime(2021, 1, 19, 10, 24, 41, 808081): 28.1926, datetime.datetime(2021, 1, 18, 10, 24, 41, 808081): 28.0524, datetime.datetime(2021, 1, 17, 10, 24, 41, 808081): 28.0524, datetime.datetime(2021, 1, 16, 10, 24, 41, 808081): 28.0524, datetime.datetime(2021, 1, 15, 10, 24, 41, 808081): 28.0609, datetime.datetime(2021, 1, 14, 10, 24, 41, 808081): 27.9705, datetime.datetime(2021, 1, 13, 10, 24, 41, 808081): 28.046, datetime.datetime(2021, 1, 12, 10, 24, 41, 808081): 28.2038, datetime.datetime(2021, 1, 11, 10, 24, 41, 808081): 28.2847, datetime.datetime(2021, 1, 10, 10, 24, 41, 808081): 28.4028, datetime.datetime(2021, 1, 9, 10, 24, 41, 808081): 28.4028, datetime.datetime(2021, 1, 8, 10, 24, 41, 808081): 28.4028, datetime.datetime(2021, 1, 7, 10, 24, 41, 808081): 28.4028, datetime.datetime(2021, 1, 6, 10, 24, 41, 808081): 28.4028, datetime.datetime(2021, 1, 5, 10, 24, 41, 808081): 28.431, datetime.datetime(2021, 1, 4, 10, 24, 41, 808081): 28.2746, datetime.datetime(2021, 1, 3, 10, 24, 41, 808081): 28.2746, datetime.datetime(2021, 1, 2, 10, 24, 41, 808081): 28.2746, datetime.datetime(2021, 1, 1, 10, 24, 41, 808081): 28.2746, datetime.datetime(2020, 12, 31, 10, 24, 41, 808081): 28.2746, datetime.datetime(2020, 12, 30, 10, 24, 41, 808081): 28.2605, datetime.datetime(2020, 12, 29, 10, 24, 41, 808081): 28.3668, datetime.datetime(2020, 12, 28, 10, 24, 41, 808081): 28.3547, datetime.datetime(2020, 12, 27, 10, 24, 41, 808081): 28.4551, datetime.datetime(2020, 12, 26, 10, 24, 41, 808081): 28.4551, datetime.datetime(2020, 12, 25, 10, 24, 41, 808081): 28.4551, datetime.datetime(2020, 12, 24, 10, 24, 41, 808081): 28.4551, datetime.datetime(2020, 12, 23, 10, 24, 41, 808081): 28.2513, datetime.datetime(2020, 12, 22, 10, 24, 41, 808081): 28.0391, datetime.datetime(2020, 12, 21, 10, 24, 41, 808081): 27.828, datetime.datetime(2020, 12, 20, 10, 24, 41, 808081): 27.8184, datetime.datetime(2020, 12, 19, 10, 24, 41, 808081): 27.8184, datetime.datetime(2020, 12, 18, 10, 24, 41, 808081): 27.8184, datetime.datetime(2020, 12, 17, 10, 24, 41, 808081): 27.7373, datetime.datetime(2020, 12, 16, 10, 24, 41, 808081): 27.759, datetime.datetime(2020, 12, 15, 10, 24, 41, 808081): 27.8661, datetime.datetime(2020, 12, 14, 10, 24, 41, 808081): 27.9666, datetime.datetime(2020, 12, 13, 10, 24, 41, 808081): 28.075, datetime.datetime(2020, 12, 12, 10, 24, 41, 808081): 28.075, datetime.datetime(2020, 12, 11, 10, 24, 41, 808081): 28.075, datetime.datetime(2020, 12, 10, 10, 24, 41, 808081): 28.0406, datetime.datetime(2020, 12, 9, 10, 24, 41, 808081): 28.0828, datetime.datetime(2020, 12, 8, 10, 24, 41, 808081): 28.2394, datetime.datetime(2020, 12, 7, 10, 24, 41, 808081): 28.2913, datetime.datetime(2020, 12, 6, 10, 24, 41, 808081): 28.3038, datetime.datetime(2020, 12, 5, 10, 24, 41, 808081): 28.3038, datetime.datetime(2020, 12, 4, 10, 24, 41, 808081): 28.3038, datetime.datetime(2020, 12, 3, 10, 24, 41, 808081): 28.4367, datetime.datetime(2020, 12, 2, 10, 24, 41, 808081): 28.5583, datetime.datetime(2020, 12, 1, 10, 24, 41, 808081): 28.4962, datetime.datetime(2020, 11, 30, 10, 24, 41, 808081): 28.4681, datetime.datetime(2020, 11, 29, 10, 24, 41, 808081): 28.4428, datetime.datetime(2020, 11, 28, 10, 24, 41, 808081): 28.4428, datetime.datetime(2020, 11, 27, 10, 24, 41, 808081): 28.4428, datetime.datetime(2020, 11, 26, 10, 24, 41, 808081): 28.3816, datetime.datetime(2020, 11, 25, 10, 24, 41, 808081): 28.3741, datetime.datetime(2020, 11, 24, 10, 24, 41, 808081): 28.3694, datetime.datetime(2020, 11, 23, 10, 24, 41, 808081): 28.3553, datetime.datetime(2020, 11, 22, 10, 24, 41, 808081): 28.2572, datetime.datetime(2020, 11, 21, 10, 24, 41, 808081): 28.2572, datetime.datetime(2020, 11, 20, 10, 24, 41, 808081): 28.2572, datetime.datetime(2020, 11, 19, 10, 24, 41, 808081): 28.13, datetime.datetime(2020, 11, 18, 10, 24, 41, 808081): 28.1067, datetime.datetime(2020, 11, 17, 10, 24, 41, 808081): 28.112, datetime.datetime(2020, 11, 16, 10, 24, 41, 808081): 28.1158, datetime.datetime(2020, 11, 15, 10, 24, 41, 808081): 28.1963, datetime.datetime(2020, 11, 14, 10, 24, 41, 808081): 28.1963, datetime.datetime(2020, 11, 13, 10, 24, 41, 808081): 28.1963, datetime.datetime(2020, 11, 12, 10, 24, 41, 808081): 28.161, datetime.datetime(2020, 11, 11, 10, 24, 41, 808081): 28.1206, datetime.datetime(2020, 11, 10, 10, 24, 41, 808081): 28.1116, datetime.datetime(2020, 11, 9, 10, 24, 41, 808081): 28.1375, datetime.datetime(2020, 11, 8, 10, 24, 41, 808081): 28.3643, datetime.datetime(2020, 11, 7, 10, 24, 41, 808081): 28.3643, datetime.datetime(2020, 11, 6, 10, 24, 41, 808081): 28.3643, datetime.datetime(2020, 11, 5, 10, 24, 41, 808081): 28.5074, datetime.datetime(2020, 11, 4, 10, 24, 41, 808081): 28.6, datetime.datetime(2020, 11, 3, 10, 24, 41, 808081): 28.5827, datetime.datetime(2020, 11, 2, 10, 24, 41, 808081): 28.4507, datetime.datetime(2020, 11, 1, 10, 24, 41, 808081): 28.4383, datetime.datetime(2020, 10, 31, 10, 24, 41, 808081): 28.4383, datetime.datetime(2020, 10, 30, 10, 24, 41, 808081): 28.4383, datetime.datetime(2020, 10, 29, 10, 24, 41, 808081): 28.3989, datetime.datetime(2020, 10, 28, 10, 24, 41, 808081): 28.3655, datetime.datetime(2020, 10, 27, 10, 24, 41, 808081): 28.3352, datetime.datetime(2020, 10, 26, 10, 24, 41, 808081): 28.2911, datetime.datetime(2020, 10, 25, 10, 24, 41, 808081): 28.265, datetime.datetime(2020, 10, 24, 10, 24, 41, 808081): 28.265, datetime.datetime(2020, 10, 23, 10, 24, 41, 808081): 28.265, datetime.datetime(2020, 10, 22, 10, 24, 41, 808081): 28.2737, datetime.datetime(2020, 10, 21, 10, 24, 41, 808081): 28.3707, datetime.datetime(2020, 10, 20, 10, 24, 41, 808081): 28.3762, datetime.datetime(2020, 10, 19, 10, 24, 41, 808081): 28.3649, datetime.datetime(2020, 10, 18, 10, 24, 41, 808081): 28.3365, datetime.datetime(2020, 10, 17, 10, 24, 41, 808081): 28.3365, datetime.datetime(2020, 10, 16, 10, 24, 41, 808081): 28.3365, datetime.datetime(2020, 10, 15, 10, 24, 41, 808081): 28.3164, datetime.datetime(2020, 10, 14, 10, 24, 41, 808081): 28.2481, datetime.datetime(2020, 10, 13, 10, 24, 41, 808081): 28.2481, datetime.datetime(2020, 10, 12, 10, 24, 41, 808081): 28.2098, datetime.datetime(2020, 10, 11, 10, 24, 41, 808081): 28.2836, datetime.datetime(2020, 10, 10, 10, 24, 41, 808081): 28.2836, datetime.datetime(2020, 10, 9, 10, 24, 41, 808081): 28.2836, datetime.datetime(2020, 10, 8, 10, 24, 41, 808081): 28.324, datetime.datetime(2020, 10, 7, 10, 24, 41, 808081): 28.3639, datetime.datetime(2020, 10, 6, 10, 24, 41, 808081): 28.4009, datetime.datetime(2020, 10, 5, 10, 24, 41, 808081): 28.3408, datetime.datetime(2020, 10, 4, 10, 24, 41, 808081): 28.3343, datetime.datetime(2020, 10, 3, 10, 24, 41, 808081): 28.3343, datetime.datetime(2020, 10, 2, 10, 24, 41, 808081): 28.3343, datetime.datetime(2020, 10, 1, 10, 24, 41, 808081): 28.3105, datetime.datetime(2020, 9, 30, 10, 24, 41, 808081): 28.2989, datetime.datetime(2020, 9, 29, 10, 24, 41, 808081): 28.3062, datetime.datetime(2020, 9, 28, 10, 24, 41, 808081): 28.2673, datetime.datetime(2020, 9, 27, 10, 24, 41, 808081): 28.2487, datetime.datetime(2020, 9, 26, 10, 24, 41, 808081): 28.2487, datetime.datetime(2020, 9, 25, 10, 24, 41, 808081): 28.2487, datetime.datetime(2020, 9, 24, 10, 24, 41, 808081): 28.1874, datetime.datetime(2020, 9, 23, 10, 24, 41, 808081): 28.2059, datetime.datetime(2020, 9, 22, 10, 24, 41, 808081): 28.2022, datetime.datetime(2020, 9, 21, 10, 24, 41, 808081): 28.1718, datetime.datetime(2020, 9, 20, 10, 24, 41, 808081): 28.1127, datetime.datetime(2020, 9, 19, 10, 24, 41, 808081): 28.1127, datetime.datetime(2020, 9, 18, 10, 24, 41, 808081): 28.1127, datetime.datetime(2020, 9, 17, 10, 24, 41, 808081): 28.1195, datetime.datetime(2020, 9, 16, 10, 24, 41, 808081): 28.0556, datetime.datetime(2020, 9, 15, 10, 24, 41, 808081): 28.0003, datetime.datetime(2020, 9, 14, 10, 24, 41, 808081): 27.9003, datetime.datetime(2020, 9, 13, 10, 24, 41, 808081): 27.8346, datetime.datetime(2020, 9, 12, 10, 24, 41, 808081): 27.8346, datetime.datetime(2020, 9, 11, 10, 24, 41, 808081): 27.8346, datetime.datetime(2020, 9, 10, 10, 24, 41, 808081): 27.8296, datetime.datetime(2020, 9, 9, 10, 24, 41, 808081): 27.8032, datetime.datetime(2020, 9, 8, 10, 24, 41, 808081): 27.7509, datetime.datetime(2020, 9, 7, 10, 24, 41, 808081): 27.7325, datetime.datetime(2020, 9, 6, 10, 24, 41, 808081): 27.6908, datetime.datetime(2020, 9, 5, 10, 24, 41, 808081): 27.6908, datetime.datetime(2020, 9, 4, 10, 24, 41, 808081): 27.6908, datetime.datetime(2020, 9, 3, 10, 24, 41, 808081): 27.6428, datetime.datetime(2020, 9, 2, 10, 24, 41, 808081): 27.6049, datetime.datetime(2020, 9, 1, 10, 24, 41, 808081): 27.5618, datetime.datetime(2020, 8, 31, 10, 24, 41, 808081): 27.4759, datetime.datetime(2020, 8, 30, 10, 24, 41, 808081): 27.4615, datetime.datetime(2020, 8, 29, 10, 24, 41, 808081): 27.4615, datetime.datetime(2020, 8, 28, 10, 24, 41, 808081): 27.4615, datetime.datetime(2020, 8, 27, 10, 24, 41, 808081): 27.386, datetime.datetime(2020, 8, 26, 10, 24, 41, 808081): 27.4383, datetime.datetime(2020, 8, 25, 10, 24, 41, 808081): 27.3942, datetime.datetime(2020, 8, 24, 10, 24, 41, 808081): 27.4812, datetime.datetime(2020, 8, 23, 10, 24, 41, 808081): 27.4812, datetime.datetime(2020, 8, 22, 10, 24, 41, 808081): 27.4812, datetime.datetime(2020, 8, 21, 10, 24, 41, 808081): 27.4812, datetime.datetime(2020, 8, 20, 10, 24, 41, 808081): 27.316, datetime.datetime(2020, 8, 19, 10, 24, 41, 808081): 27.2297, datetime.datetime(2020, 8, 18, 10, 24, 41, 808081): 27.3061, datetime.datetime(2020, 8, 17, 10, 24, 41, 808081): 27.3474, datetime.datetime(2020, 8, 16, 10, 24, 41, 808081): 27.4083, datetime.datetime(2020, 8, 15, 10, 24, 41, 808081): 27.4083, datetime.datetime(2020, 8, 14, 10, 24, 41, 808081): 27.4083, datetime.datetime(2020, 8, 13, 10, 24, 41, 808081): 27.5266, datetime.datetime(2020, 8, 12, 10, 24, 41, 808081): 27.5982, datetime.datetime(2020, 8, 11, 10, 24, 41, 808081): 27.6007, datetime.datetime(2020, 8, 10, 10, 24, 41, 808081): 27.6486, datetime.datetime(2020, 8, 9, 10, 24, 41, 808081): 27.6793, datetime.datetime(2020, 8, 8, 10, 24, 41, 808081): 27.6793, datetime.datetime(2020, 8, 7, 10, 24, 41, 808081): 27.6793, datetime.datetime(2020, 8, 6, 10, 24, 41, 808081): 27.7028, datetime.datetime(2020, 8, 5, 10, 24, 41, 808081): 27.8225, datetime.datetime(2020, 8, 4, 10, 24, 41, 808081): 27.7365, datetime.datetime(2020, 8, 3, 10, 24, 41, 808081): 27.6798, datetime.datetime(2020, 8, 2, 10, 24, 41, 808081): 27.6913, datetime.datetime(2020, 8, 1, 10, 24, 41, 808081): 27.6913, datetime.datetime(2020, 7, 31, 10, 24, 41, 808081): 27.6913, datetime.datetime(2020, 7, 30, 10, 24, 41, 808081): 27.6867, datetime.datetime(2020, 7, 29, 10, 24, 41, 808081): 27.6851, datetime.datetime(2020, 7, 28, 10, 24, 41, 808081): 27.7571, datetime.datetime(2020, 7, 27, 10, 24, 41, 808081): 27.7559, datetime.datetime(2020, 7, 26, 10, 24, 41, 808081): 27.8779, datetime.datetime(2020, 7, 25, 10, 24, 41, 808081): 27.8779, datetime.datetime(2020, 7, 24, 10, 24, 41, 808081): 27.8779, datetime.datetime(2020, 7, 23, 10, 24, 41, 808081): 27.7798, datetime.datetime(2020, 7, 22, 10, 24, 41, 808081): 27.6647, datetime.datetime(2020, 7, 21, 10, 24, 41, 808081): 27.6011, datetime.datetime(2020, 7, 20, 10, 24, 41, 808081): 27.3606, datetime.datetime(2020, 7, 19, 10, 24, 41, 808081): 27.2738, datetime.datetime(2020, 7, 18, 10, 24, 41, 808081): 27.2738, datetime.datetime(2020, 7, 17, 10, 24, 41, 808081): 27.2738, datetime.datetime(2020, 7, 16, 10, 24, 41, 808081): 27.119, datetime.datetime(2020, 7, 15, 10, 24, 41, 808081): 27.1436, datetime.datetime(2020, 7, 14, 10, 24, 41, 808081): 27.0883, datetime.datetime(2020, 7, 13, 10, 24, 41, 808081): 26.9505, datetime.datetime(2020, 7, 12, 10, 24, 41, 808081): 26.9335, datetime.datetime(2020, 7, 11, 10, 24, 41, 808081): 26.9335, datetime.datetime(2020, 7, 10, 10, 24, 41, 808081): 26.9335, datetime.datetime(2020, 7, 9, 10, 24, 41, 808081): 26.9514, datetime.datetime(2020, 7, 8, 10, 24, 41, 808081): 26.9309, datetime.datetime(2020, 7, 7, 10, 24, 41, 808081): 27.1269, datetime.datetime(2020, 7, 6, 10, 24, 41, 808081): 27.1716, datetime.datetime(2020, 7, 5, 10, 24, 41, 808081): 27.1801, datetime.datetime(2020, 7, 4, 10, 24, 41, 808081): 27.1801, datetime.datetime(2020, 7, 3, 10, 24, 41, 808081): 27.1801, datetime.datetime(2020, 7, 2, 10, 24, 41, 808081): 26.77, datetime.datetime(2020, 7, 1, 10, 24, 41, 808081): 26.6676, datetime.datetime(2020, 6, 30, 10, 24, 41, 808081): 26.6922, datetime.datetime(2020, 6, 29, 10, 24, 41, 808081): 26.7002, datetime.datetime(2020, 6, 28, 10, 24, 41, 808081): 26.7002, datetime.datetime(2020, 6, 27, 10, 24, 41, 808081): 26.7002, datetime.datetime(2020, 6, 26, 10, 24, 41, 808081): 26.7002, datetime.datetime(2020, 6, 25, 10, 24, 41, 808081): 26.6509, datetime.datetime(2020, 6, 24, 10, 24, 41, 808081): 26.6078, datetime.datetime(2020, 6, 23, 10, 24, 41, 808081): 26.6695, datetime.datetime(2020, 6, 22, 10, 24, 41, 808081): 26.7207, datetime.datetime(2020, 6, 21, 10, 24, 41, 808081): 26.7633, datetime.datetime(2020, 6, 20, 10, 24, 41, 808081): 26.7633, datetime.datetime(2020, 6, 19, 10, 24, 41, 808081): 26.7633, datetime.datetime(2020, 6, 18, 10, 24, 41, 808081): 26.776, datetime.datetime(2020, 6, 17, 10, 24, 41, 808081): 26.7424, datetime.datetime(2020, 6, 16, 10, 24, 41, 808081): 26.844, datetime.datetime(2020, 6, 15, 10, 24, 41, 808081): 26.7303, datetime.datetime(2020, 6, 14, 10, 24, 41, 808081): 26.5999, datetime.datetime(2020, 6, 13, 10, 24, 41, 808081): 26.5999, datetime.datetime(2020, 6, 12, 10, 24, 41, 808081): 26.5999, datetime.datetime(2020, 6, 11, 10, 24, 41, 808081): 26.6367, datetime.datetime(2020, 6, 10, 10, 24, 41, 808081): 26.6412, datetime.datetime(2020, 6, 9, 10, 24, 41, 808081): 26.6005, datetime.datetime(2020, 6, 8, 10, 24, 41, 808081): 26.6953, datetime.datetime(2020, 6, 7, 10, 24, 41, 808081): 26.6953, datetime.datetime(2020, 6, 6, 10, 24, 41, 808081): 26.6953, datetime.datetime(2020, 6, 5, 10, 24, 41, 808081): 26.6953, datetime.datetime(2020, 6, 4, 10, 24, 41, 808081): 26.7544, datetime.datetime(2020, 6, 3, 10, 24, 41, 808081): 26.7955, datetime.datetime(2020, 6, 2, 10, 24, 41, 808081): 26.8181, datetime.datetime(2020, 6, 1, 10, 24, 41, 808081): 26.8685, datetime.datetime(2020, 5, 31, 10, 24, 41, 808081): 26.9059, datetime.datetime(2020, 5, 30, 10, 24, 41, 808081): 26.9059, datetime.datetime(2020, 5, 29, 10, 24, 41, 808081): 26.9059, datetime.datetime(2020, 5, 28, 10, 24, 41, 808081): 27.0002, datetime.datetime(2020, 5, 27, 10, 24, 41, 808081): 26.9029, datetime.datetime(2020, 5, 26, 10, 24, 41, 808081): 26.8742, datetime.datetime(2020, 5, 25, 10, 24, 41, 808081): 26.7556, datetime.datetime(2020, 5, 24, 10, 24, 41, 808081): 26.7699, datetime.datetime(2020, 5, 23, 10, 24, 41, 808081): 26.7699, datetime.datetime(2020, 5, 22, 10, 24, 41, 808081): 26.7699, datetime.datetime(2020, 5, 21, 10, 24, 41, 808081): 26.5854, datetime.datetime(2020, 5, 20, 10, 24, 41, 808081): 26.5159, datetime.datetime(2020, 5, 19, 10, 24, 41, 808081): 26.571, datetime.datetime(2020, 5, 18, 10, 24, 41, 808081): 26.638, datetime.datetime(2020, 5, 17, 10, 24, 41, 808081): 26.6792, datetime.datetime(2020, 5, 16, 10, 24, 41, 808081): 26.6792, datetime.datetime(2020, 5, 15, 10, 24, 41, 808081): 26.6792, datetime.datetime(2020, 5, 14, 10, 24, 41, 808081): 26.6897, datetime.datetime(2020, 5, 13, 10, 24, 41, 808081): 26.7947, datetime.datetime(2020, 5, 12, 10, 24, 41, 808081): 26.8196, datetime.datetime(2020, 5, 11, 10, 24, 41, 808081): 26.8185, datetime.datetime(2020, 5, 10, 10, 24, 41, 808081): 26.8185, datetime.datetime(2020, 5, 9, 10, 24, 41, 808081): 26.8185, datetime.datetime(2020, 5, 8, 10, 24, 41, 808081): 26.8185, datetime.datetime(2020, 5, 7, 10, 24, 41, 808081): 26.9323, datetime.datetime(2020, 5, 6, 10, 24, 41, 808081): 26.9774, datetime.datetime(2020, 5, 5, 10, 24, 41, 808081): 26.9749, datetime.datetime(2020, 5, 4, 10, 24, 41, 808081): 26.9592, datetime.datetime(2020, 5, 3, 10, 24, 41, 808081): 26.9714, datetime.datetime(2020, 5, 2, 10, 24, 41, 808081): 26.9714, datetime.datetime(2020, 5, 1, 10, 24, 41, 808081): 26.9714, datetime.datetime(2020, 4, 30, 10, 24, 41, 808081): 26.9714, datetime.datetime(2020, 4, 29, 10, 24, 41, 808081): 27.0485, datetime.datetime(2020, 4, 28, 10, 24, 41, 808081): 27.1025, datetime.datetime(2020, 4, 27, 10, 24, 41, 808081): 27.1441, datetime.datetime(2020, 4, 26, 10, 24, 41, 808081): 27.0137, datetime.datetime(2020, 4, 25, 10, 24, 41, 808081): 27.0137, datetime.datetime(2020, 4, 24, 10, 24, 41, 808081): 27.0137, datetime.datetime(2020, 4, 23, 10, 24, 41, 808081): 27.0536, datetime.datetime(2020, 4, 22, 10, 24, 41, 808081): 27.0815, datetime.datetime(2020, 4, 21, 10, 24, 41, 808081): 27.0774, datetime.datetime(2020, 4, 20, 10, 24, 41, 808081): 27.2022, datetime.datetime(2020, 4, 19, 10, 24, 41, 808081): 27.2022}\n"
     ]
    }
   ],
   "source": [
    "import requests\n",
    "from datetime import datetime, timedelta\n",
    "\n",
    "BASE = {}\n",
    "\n",
    "def con_to_api(date):\n",
    "    param = {'date' : date.strftime('%Y%m%d')}\n",
    "    r = requests.get('https://bank.gov.ua/NBUStatService/v1/statdirectory/exchange?json', params=param)\n",
    "    if r.status_code == 200:\n",
    "        return r.json()\n",
    "    return None\n",
    "date = datetime.today()\n",
    "for i in range(365):\n",
    "    date = date - timedelta(days=1)\n",
    "    r = con_to_api(date)\n",
    "    for el in r:\n",
    "        if el['cc'] == 'USD':\n",
    "            BASE[date] = el[\"rate\"]\n",
    "            \n",
    "print(BASE)"
   ]
  },
  {
   "cell_type": "markdown",
   "metadata": {},
   "source": [
    "3. Вивести середнє значення та відхилення курсу за кожний місяць."
   ]
  },
  {
   "cell_type": "code",
   "execution_count": 3,
   "metadata": {},
   "outputs": [
    {
     "data": {
      "text/plain": [
       "{4: (27.919642105263158, 0.062217631618461014),\n",
       " 3: (27.7970064516129, 0.11694869797047422),\n",
       " 2: (27.89404642857143, 0.12105005540146793),\n",
       " 1: (28.2224064516129, 0.12343287767172319),\n",
       " 12: (28.17596129032258, 0.2548431291041863),\n",
       " 11: (28.30916, 0.14990632155242592),\n",
       " 10: (28.32045483870968, 0.05153356730461981),\n",
       " 9: (27.949283333333334, 0.24966056002077097),\n",
       " 8: (27.528367741935483, 0.15101206880488424),\n",
       " 7: (27.280609677419356, 0.37368535191596586),\n",
       " 6: (26.714466666666667, 0.08127598505786574),\n",
       " 5: (26.81644193548387, 0.13668813841294206)}"
      ]
     },
     "execution_count": 3,
     "metadata": {},
     "output_type": "execute_result"
    }
   ],
   "source": [
    "from statistics import stdev, mean\n",
    "# Переводимо словник до списку кортежів\n",
    "dict_to_list = [i for i in BASE.items()]\n",
    "\n",
    "month_dict = {}\n",
    "list_month = []\n",
    "\n",
    "# Отримуємо перший місяць\n",
    "first_month = dict_to_list[0][0].month\n",
    "\n",
    "for i in dict_to_list:\n",
    "    m = i[0].month\n",
    "    list_month.append(i[1])\n",
    "    if first_month != m:\n",
    "        # Наповнюэмо словник де ключем є місяць, а значенням кортеж зі значеннямми: середнього та відхилення\n",
    "        month_dict[first_month] = (mean(list_month), stdev(list_month))\n",
    "        list_month = []\n",
    "        first_month = m\n",
    "            \n",
    "\n",
    "month_dict  "
   ]
  },
  {
   "cell_type": "code",
   "execution_count": 142,
   "metadata": {},
   "outputs": [
    {
     "data": {
      "text/html": [
       "<div>\n",
       "<style scoped>\n",
       "    .dataframe tbody tr th:only-of-type {\n",
       "        vertical-align: middle;\n",
       "    }\n",
       "\n",
       "    .dataframe tbody tr th {\n",
       "        vertical-align: top;\n",
       "    }\n",
       "\n",
       "    .dataframe thead th {\n",
       "        text-align: right;\n",
       "    }\n",
       "</style>\n",
       "<table border=\"1\" class=\"dataframe\">\n",
       "  <thead>\n",
       "    <tr style=\"text-align: right;\">\n",
       "      <th></th>\n",
       "      <th>total</th>\n",
       "      <th>transport</th>\n",
       "      <th>infrastructure</th>\n",
       "      <th>rest</th>\n",
       "      <th>security</th>\n",
       "      <th>eko</th>\n",
       "    </tr>\n",
       "  </thead>\n",
       "  <tbody>\n",
       "    <tr>\n",
       "      <th>Голосіїв</th>\n",
       "      <td>10.0</td>\n",
       "      <td>10.0</td>\n",
       "      <td>10.0</td>\n",
       "      <td>10.0</td>\n",
       "      <td>10.0</td>\n",
       "      <td>10.0</td>\n",
       "    </tr>\n",
       "    <tr>\n",
       "      <th>Оболонь</th>\n",
       "      <td>9.7</td>\n",
       "      <td>9.7</td>\n",
       "      <td>9.9</td>\n",
       "      <td>9.8</td>\n",
       "      <td>9.7</td>\n",
       "      <td>9.6</td>\n",
       "    </tr>\n",
       "    <tr>\n",
       "      <th>Мишоловка</th>\n",
       "      <td>9.6</td>\n",
       "      <td>8.0</td>\n",
       "      <td>10.0</td>\n",
       "      <td>10.0</td>\n",
       "      <td>10.0</td>\n",
       "      <td>10.0</td>\n",
       "    </tr>\n",
       "    <tr>\n",
       "      <th>Теремки-2</th>\n",
       "      <td>9.0</td>\n",
       "      <td>9.0</td>\n",
       "      <td>9.0</td>\n",
       "      <td>9.0</td>\n",
       "      <td>9.0</td>\n",
       "      <td>9.0</td>\n",
       "    </tr>\n",
       "    <tr>\n",
       "      <th>Китаїв</th>\n",
       "      <td>8.7</td>\n",
       "      <td>8.8</td>\n",
       "      <td>6.0</td>\n",
       "      <td>9.3</td>\n",
       "      <td>9.5</td>\n",
       "      <td>10.0</td>\n",
       "    </tr>\n",
       "    <tr>\n",
       "      <th>...</th>\n",
       "      <td>...</td>\n",
       "      <td>...</td>\n",
       "      <td>...</td>\n",
       "      <td>...</td>\n",
       "      <td>...</td>\n",
       "      <td>...</td>\n",
       "    </tr>\n",
       "    <tr>\n",
       "      <th>Монтажник</th>\n",
       "      <td>1.0</td>\n",
       "      <td>1.0</td>\n",
       "      <td>1.0</td>\n",
       "      <td>1.0</td>\n",
       "      <td>1.0</td>\n",
       "      <td>1.0</td>\n",
       "    </tr>\n",
       "    <tr>\n",
       "      <th>Жовтневе</th>\n",
       "      <td>1.0</td>\n",
       "      <td>1.0</td>\n",
       "      <td>1.0</td>\n",
       "      <td>1.0</td>\n",
       "      <td>1.0</td>\n",
       "      <td>1.0</td>\n",
       "    </tr>\n",
       "    <tr>\n",
       "      <th>Петрівка</th>\n",
       "      <td>1.0</td>\n",
       "      <td>1.0</td>\n",
       "      <td>1.0</td>\n",
       "      <td>1.0</td>\n",
       "      <td>1.0</td>\n",
       "      <td>1.0</td>\n",
       "    </tr>\n",
       "    <tr>\n",
       "      <th>Перемога</th>\n",
       "      <td>1.0</td>\n",
       "      <td>1.0</td>\n",
       "      <td>1.0</td>\n",
       "      <td>1.0</td>\n",
       "      <td>1.0</td>\n",
       "      <td>1.0</td>\n",
       "    </tr>\n",
       "    <tr>\n",
       "      <th>Кудрявець</th>\n",
       "      <td>1.0</td>\n",
       "      <td>1.0</td>\n",
       "      <td>1.0</td>\n",
       "      <td>1.0</td>\n",
       "      <td>1.0</td>\n",
       "      <td>1.0</td>\n",
       "    </tr>\n",
       "  </tbody>\n",
       "</table>\n",
       "<p>99 rows × 6 columns</p>\n",
       "</div>"
      ],
      "text/plain": [
       "          total transport infrastructure  rest security   eko\n",
       "Голосіїв   10.0      10.0           10.0  10.0     10.0  10.0\n",
       "Оболонь     9.7       9.7            9.9   9.8      9.7   9.6\n",
       "Мишоловка   9.6       8.0           10.0  10.0     10.0  10.0\n",
       "Теремки-2   9.0       9.0            9.0   9.0      9.0   9.0\n",
       "Китаїв      8.7       8.8            6.0   9.3      9.5  10.0\n",
       "...         ...       ...            ...   ...      ...   ...\n",
       "Монтажник   1.0       1.0            1.0   1.0      1.0   1.0\n",
       "Жовтневе    1.0       1.0            1.0   1.0      1.0   1.0\n",
       "Петрівка    1.0       1.0            1.0   1.0      1.0   1.0\n",
       "Перемога    1.0       1.0            1.0   1.0      1.0   1.0\n",
       "Кудрявець   1.0       1.0            1.0   1.0      1.0   1.0\n",
       "\n",
       "[99 rows x 6 columns]"
      ]
     },
     "execution_count": 142,
     "metadata": {},
     "output_type": "execute_result"
    }
   ],
   "source": [
    "import pickle \n",
    "with open(r'C:\\Users\\Алекс\\Documents\\github\\DS-6\\Lab work 4\\districts.pickle', 'rb') as f:     #pickle працює в бінарному режимі \n",
    "    res = pickle.load(f) \n",
    "    \n",
    "res"
   ]
  },
  {
   "cell_type": "code",
   "execution_count": 193,
   "metadata": {},
   "outputs": [
    {
     "data": {
      "text/html": [
       "<div>\n",
       "<style scoped>\n",
       "    .dataframe tbody tr th:only-of-type {\n",
       "        vertical-align: middle;\n",
       "    }\n",
       "\n",
       "    .dataframe tbody tr th {\n",
       "        vertical-align: top;\n",
       "    }\n",
       "\n",
       "    .dataframe thead th {\n",
       "        text-align: right;\n",
       "    }\n",
       "</style>\n",
       "<table border=\"1\" class=\"dataframe\">\n",
       "  <thead>\n",
       "    <tr style=\"text-align: right;\">\n",
       "      <th></th>\n",
       "      <th>district</th>\n",
       "      <th>metro</th>\n",
       "      <th>area</th>\n",
       "      <th>rooms</th>\n",
       "      <th>floor</th>\n",
       "      <th>gk</th>\n",
       "      <th>price</th>\n",
       "      <th>adress</th>\n",
       "    </tr>\n",
       "  </thead>\n",
       "  <tbody>\n",
       "    <tr>\n",
       "      <th>0</th>\n",
       "      <td>2.87</td>\n",
       "      <td>1</td>\n",
       "      <td>70.0</td>\n",
       "      <td>2.0</td>\n",
       "      <td>18.0</td>\n",
       "      <td>1</td>\n",
       "      <td>33000.0</td>\n",
       "      <td>Евгения Коновальца ул. (Щорса), 44а, Печерский...</td>\n",
       "    </tr>\n",
       "    <tr>\n",
       "      <th>1</th>\n",
       "      <td>1.53</td>\n",
       "      <td>3</td>\n",
       "      <td>75.0</td>\n",
       "      <td>3.0</td>\n",
       "      <td>4.0</td>\n",
       "      <td>0</td>\n",
       "      <td>46750.0</td>\n",
       "      <td>Деловая ул., 13, Голосеевский р-н</td>\n",
       "    </tr>\n",
       "    <tr>\n",
       "      <th>2</th>\n",
       "      <td>2.87</td>\n",
       "      <td>1</td>\n",
       "      <td>96.0</td>\n",
       "      <td>2.0</td>\n",
       "      <td>10.0</td>\n",
       "      <td>0</td>\n",
       "      <td>35750.0</td>\n",
       "      <td>Михаила Омеляновича-Павленка ул. (Суворова), П...</td>\n",
       "    </tr>\n",
       "    <tr>\n",
       "      <th>3</th>\n",
       "      <td>2.87</td>\n",
       "      <td>1</td>\n",
       "      <td>120.0</td>\n",
       "      <td>3.0</td>\n",
       "      <td>5.0</td>\n",
       "      <td>1</td>\n",
       "      <td>95975.0</td>\n",
       "      <td>Драгомирова ул., 20, Печерский р-н</td>\n",
       "    </tr>\n",
       "    <tr>\n",
       "      <th>4</th>\n",
       "      <td>1.74</td>\n",
       "      <td>1</td>\n",
       "      <td>50.0</td>\n",
       "      <td>2.0</td>\n",
       "      <td>11.0</td>\n",
       "      <td>1</td>\n",
       "      <td>27500.0</td>\n",
       "      <td>Златоустовская ул., 30, Шевченковский р-н</td>\n",
       "    </tr>\n",
       "    <tr>\n",
       "      <th>...</th>\n",
       "      <td>...</td>\n",
       "      <td>...</td>\n",
       "      <td>...</td>\n",
       "      <td>...</td>\n",
       "      <td>...</td>\n",
       "      <td>...</td>\n",
       "      <td>...</td>\n",
       "      <td>...</td>\n",
       "    </tr>\n",
       "    <tr>\n",
       "      <th>3735</th>\n",
       "      <td>1.18</td>\n",
       "      <td>3</td>\n",
       "      <td>25.0</td>\n",
       "      <td>1.0</td>\n",
       "      <td>2.0</td>\n",
       "      <td>0</td>\n",
       "      <td>4700.0</td>\n",
       "      <td>Семьи Сосниных ул., Святошинский р-н</td>\n",
       "    </tr>\n",
       "    <tr>\n",
       "      <th>3736</th>\n",
       "      <td>1.19</td>\n",
       "      <td>3</td>\n",
       "      <td>33.0</td>\n",
       "      <td>1.0</td>\n",
       "      <td>1.0</td>\n",
       "      <td>0</td>\n",
       "      <td>7500.0</td>\n",
       "      <td>Соборности просп. (Воссоединения), Днепровский...</td>\n",
       "    </tr>\n",
       "    <tr>\n",
       "      <th>3737</th>\n",
       "      <td>1.18</td>\n",
       "      <td>1</td>\n",
       "      <td>55.0</td>\n",
       "      <td>1.0</td>\n",
       "      <td>1.0</td>\n",
       "      <td>0</td>\n",
       "      <td>3500.0</td>\n",
       "      <td>Тулузы ул., Святошинский р-н</td>\n",
       "    </tr>\n",
       "    <tr>\n",
       "      <th>3738</th>\n",
       "      <td>1.22</td>\n",
       "      <td>3</td>\n",
       "      <td>70.0</td>\n",
       "      <td>3.0</td>\n",
       "      <td>7.0</td>\n",
       "      <td>0</td>\n",
       "      <td>3000.0</td>\n",
       "      <td>Полярная ул., Оболонский р-н</td>\n",
       "    </tr>\n",
       "    <tr>\n",
       "      <th>3739</th>\n",
       "      <td>NaN</td>\n",
       "      <td>3</td>\n",
       "      <td>60.0</td>\n",
       "      <td>2.0</td>\n",
       "      <td>6.0</td>\n",
       "      <td>0</td>\n",
       "      <td>7000.0</td>\n",
       "      <td>Жукова</td>\n",
       "    </tr>\n",
       "  </tbody>\n",
       "</table>\n",
       "<p>3740 rows × 8 columns</p>\n",
       "</div>"
      ],
      "text/plain": [
       "      district  metro   area  rooms  floor  gk    price  \\\n",
       "0         2.87      1   70.0    2.0   18.0   1  33000.0   \n",
       "1         1.53      3   75.0    3.0    4.0   0  46750.0   \n",
       "2         2.87      1   96.0    2.0   10.0   0  35750.0   \n",
       "3         2.87      1  120.0    3.0    5.0   1  95975.0   \n",
       "4         1.74      1   50.0    2.0   11.0   1  27500.0   \n",
       "...        ...    ...    ...    ...    ...  ..      ...   \n",
       "3735      1.18      3   25.0    1.0    2.0   0   4700.0   \n",
       "3736      1.19      3   33.0    1.0    1.0   0   7500.0   \n",
       "3737      1.18      1   55.0    1.0    1.0   0   3500.0   \n",
       "3738      1.22      3   70.0    3.0    7.0   0   3000.0   \n",
       "3739       NaN      3   60.0    2.0    6.0   0   7000.0   \n",
       "\n",
       "                                                 adress  \n",
       "0     Евгения Коновальца ул. (Щорса), 44а, Печерский...  \n",
       "1                     Деловая ул., 13, Голосеевский р-н  \n",
       "2     Михаила Омеляновича-Павленка ул. (Суворова), П...  \n",
       "3                    Драгомирова ул., 20, Печерский р-н  \n",
       "4             Златоустовская ул., 30, Шевченковский р-н  \n",
       "...                                                 ...  \n",
       "3735               Семьи Сосниных ул., Святошинский р-н  \n",
       "3736  Соборности просп. (Воссоединения), Днепровский...  \n",
       "3737                       Тулузы ул., Святошинский р-н  \n",
       "3738                       Полярная ул., Оболонский р-н  \n",
       "3739                                             Жукова  \n",
       "\n",
       "[3740 rows x 8 columns]"
      ]
     },
     "execution_count": 193,
     "metadata": {},
     "output_type": "execute_result"
    }
   ],
   "source": [
    "import requests\n",
    "from bs4 import BeautifulSoup\n",
    "import re\n",
    "import pandas as pd\n",
    "\n",
    "HEADERS = {\n",
    "            'User-Agent': 'Mozilla/5.0 (Linux; Android 6.0; Nexus 5 Build/MRA58N) AppleWebKit/537.36 (KHTML, like Gecko) Chrome/90.0.4430.212 Mobile Safari/537.36',\n",
    "            'Accept': 'text/html,application/xhtml+xml,application/xml;q=0.9,image/avif,image/webp,image/apng,*/*;q=0.8,application/signed-exchange;v=b3;q=0.9',\n",
    "            'Accept-Language': 'ru-RU,ru;q=0.8,en-US;q=0.5,en;q=0.3',\n",
    "            'Accept-Encoding': 'gzip, deflate, br',\n",
    "            'DNT': '1',\n",
    "            'Connection': 'keep-alive',\n",
    "        }\n",
    "\n",
    "metro_district = ['Печерский', 'Шевченковский']\n",
    "district_dict = {'Печерский': 2.87, 'Шевченковский': 1.74, 'Голосеевский': 1.53, 'Подольский': 1.29, 'Оболонский': 1.22, 'Соломенский': 1.19, 'Днепровский': 1.19, 'Святошинский': 1.18, 'Дарницкий': 1.12, 'Деснянский': 1.00}\n",
    "\n",
    "district_list = []\n",
    "area_list = []\n",
    "rooms_list = []\n",
    "floor_list = []\n",
    "near_metro_list = []\n",
    "gk_list = []\n",
    "adress_list = []\n",
    "price_list = []\n",
    "\n",
    "\n",
    "\n",
    "\n",
    "for page in range (1, 188):\n",
    "    SITE = f'https://rieltor.ua/ru/flats-rent/?page={page}'\n",
    "\n",
    "    r = requests.get(SITE, headers=HEADERS)\n",
    "\n",
    "    if r.status_code == 200:\n",
    "        soup = BeautifulSoup(r.text, 'lxml')\n",
    "\n",
    "\n",
    "        for el in soup.find_all('div', class_='catalog-item'):\n",
    "            adress = el.find_all('a')[1].text.split()\n",
    "            str_adres = ' '.join(adress)\n",
    "            try:\n",
    "                adress_list.append(str_adres)# адрес (район)\n",
    "            except ValueError as e:\n",
    "                adress_list.append(None)\n",
    "            try:\n",
    "                district = el.find_all('a')[1].text.split()[-2]\n",
    "                number_distr = district_dict.get(district)\n",
    "                district_list.append(number_distr)# number район\n",
    "            except IndexError as e:\n",
    "                district_list.append(None)\n",
    "            metro = el.find_all('a')[2].text.split()\n",
    "            #print(metro)\n",
    "            # метро\n",
    "            try:\n",
    "                if '(M)' in metro:\n",
    "                    #print(1, 'metro')\n",
    "                    near_metro_list.append(1)\n",
    "                elif district in metro_district:\n",
    "                    #print(1, 'metro po rayonu')\n",
    "                    near_metro_list.append(1)\n",
    "                \n",
    "#                 elif el.find('p', class_='catalog-item_info-item-row catalog-item_info-description') != None:\n",
    "#                     if 'метро' in el.find('p', class_='catalog-item_info-item-row catalog-item_info-description').text:\n",
    "#                         near_metro_list.append(2)\n",
    "                    \n",
    "                    \n",
    "                else:\n",
    "                    near_metro_list.append(3)\n",
    "                    \n",
    "            except AttributeError as e:\n",
    "                near_metro_list.append(None)\n",
    "\n",
    "\n",
    "            price = el.find('strong', class_='catalog-item__price').text # цена\n",
    "            if '$/мес' in price:\n",
    "                price_list.append(int(price.rstrip('$/мес').replace(' ', '')) * 27.5)\n",
    "            else:\n",
    "                price_list.append(int(price.rstrip('грн/мес').replace(' ', ''))) \n",
    "            try:\n",
    "                rooms = int(el.find('div', class_='catalog-item_info-item-row').text.split()[0])\n",
    "                rooms_list.append(rooms)#комнаты\n",
    "            except ValueError as e:\n",
    "                rooms_list.append(None)\n",
    "\n",
    "            try:\n",
    "                floor = int(el.find('div', class_='catalog-item_info-item-row').text.split()[2])\n",
    "                floor_list.append(floor)   # этаж\n",
    "            except ValueError as e:\n",
    "                floor_list.append(None)\n",
    "            try:    \n",
    "                area = float(el.find('div', class_='catalog-item_info-item-row').text.split()[-6])\n",
    "                area_list.append(area)# площадь\n",
    "            except ValueError as e:\n",
    "                area_list.append(None)\n",
    "            try:\n",
    "                gk = el.find('p', class_='catalog-item_info-item-row catalog-item_info-description').text\n",
    "                if 'ЖК' in gk:\n",
    "                    #print(int(1))\n",
    "                    gk_list.append(1)\n",
    "                elif 'комплекс%' in gk:\n",
    "                    gk_list.append(1)\n",
    "                else:\n",
    "                    #print(int(0))\n",
    "                    gk_list.append(0)\n",
    "            except AttributeError as e:\n",
    "                    gk = None\n",
    "                    #print(int(0))\n",
    "                    gk_list.append(0)\n",
    "\n",
    "\n",
    "    df = pd.DataFrame({'district': district_list, 'metro': near_metro_list, 'area': area_list, 'rooms': rooms_list, 'floor': floor_list, 'gk': gk_list, 'price': price_list, 'adress': adress_list})\n",
    "\n",
    "            \n",
    "df       \n",
    "#         l = el.find('a')\n",
    "#         link = l.get('href')\n",
    "#         r1 = requests.get(link, headers = HEADERS)\n",
    "#         soup1 = BeautifulSoup(r1.text, 'lxml')\n",
    "#         bd_list1.append(\n",
    "#                 (int(soup1.find('span', class_='sku').text[5:]),\n",
    "#                 soup1.find_all('h2')[1].text,\n",
    "#                 float(soup1.find('span', class_='regular-price').text.rstrip(' грн\\n').replace(' ', '')),\n",
    "#                 soup1.find_all('p')[6].text)\n",
    "#             )\n",
    "\n",
    "\n",
    "#bd_list1\n",
    "\n",
    "\n",
    "# conn = sqlite3.connect('data_shop.sqlite3')\n",
    "# curs = conn.cursor()\n",
    "\n",
    "# script = \"\"\"CREATE TABLE IF NOT EXISTS dobriva ( \n",
    "#                 dobriva_id INT PRIMARY KEY,\n",
    "#                 name TEXT NOT NULL,\n",
    "#                 price DECIMAL(8,2) NOT NULL,\n",
    "#                 weight TEXT\n",
    "#                 );\n",
    "# \"\"\"\n",
    "\n",
    "# curs.executescript(script)\n",
    "# conn.close()\n",
    "\n",
    "# for product_info in bd_list:\n",
    "#     conn = sqlite3.connect('data_shop.sqlite3')\n",
    "#     curs = conn.cursor()\n",
    "\n",
    "#     s = \"INSERT INTO dobriva VALUES (?, ?, ?, ?)\"\n",
    "#     try:\n",
    "#         curs.execute(s, product_info)\n",
    "#         conn.commit()\n",
    "#     except Exception as e:\n",
    "#         print(e)\n",
    "\n",
    "#     conn.close()"
   ]
  },
  {
   "cell_type": "markdown",
   "metadata": {},
   "source": [
    "4. Дану інформацію записати у файл за допомогою pickle."
   ]
  },
  {
   "cell_type": "code",
   "execution_count": 4,
   "metadata": {},
   "outputs": [],
   "source": [
    "import pickle\n",
    "\n",
    "with open(r'month_mean_dev.pickle', 'wb') as f:\n",
    "    pickle.dump(month_dict, f)"
   ]
  },
  {
   "cell_type": "markdown",
   "metadata": {},
   "source": [
    "### Завдання 2:"
   ]
  },
  {
   "cell_type": "markdown",
   "metadata": {},
   "source": [
    "Потрібно проаналізувати всі товари на сайті: \n",
    "https://smallpacking.agrosem.ua/shop/"
   ]
  },
  {
   "cell_type": "markdown",
   "metadata": {},
   "source": [
    "Створіть базу даних, що містить таблицю із такими стовбцями: \n",
    "    - артикул товару\n",
    "    - найменування\n",
    "    - ціна \n",
    "    - вага"
   ]
  },
  {
   "cell_type": "code",
   "execution_count": null,
   "metadata": {},
   "outputs": [],
   "source": []
  },
  {
   "cell_type": "markdown",
   "metadata": {},
   "source": [
    "### Завдання 3: "
   ]
  },
  {
   "cell_type": "markdown",
   "metadata": {},
   "source": [
    "Ознайомтеся із роботою SQLite та відповідним модулем у Python.\n",
    "Завантажте базу даних для виконання лабораторної роботи.\n",
    "Підключіться до завантаженої бази SQLite."
   ]
  },
  {
   "cell_type": "markdown",
   "metadata": {},
   "source": [
    "1. Виведіть інформацію про дану базу."
   ]
  },
  {
   "cell_type": "code",
   "execution_count": 15,
   "metadata": {},
   "outputs": [
    {
     "name": "stdout",
     "output_type": "stream",
     "text": [
      "Customers\n",
      "(0, 'cust_id', 'char(10)', 1, None, 1)\n",
      "(1, 'cust_name', 'char(50)', 1, None, 0)\n",
      "(2, 'cust_address', 'char(50)', 0, None, 0)\n",
      "(3, 'cust_city', 'char(50)', 0, None, 0)\n",
      "(4, 'cust_state', 'char(5)', 0, None, 0)\n",
      "(5, 'cust_zip', 'char(10)', 0, None, 0)\n",
      "(6, 'cust_country', 'char(50)', 0, None, 0)\n",
      "(7, 'cust_contact', 'char(50)', 0, None, 0)\n",
      "(8, 'cust_email', 'char(255)', 0, None, 0)\n",
      "OrderItems\n",
      "(0, 'order_num', 'int', 1, None, 1)\n",
      "(1, 'order_item', 'int', 1, None, 2)\n",
      "(2, 'prod_id', 'char(10)', 1, None, 0)\n",
      "(3, 'quantity', 'int', 1, None, 0)\n",
      "(4, 'item_price', 'decimal(8,2)', 1, None, 0)\n",
      "Orders\n",
      "(0, 'order_num', 'int', 1, None, 1)\n",
      "(1, 'order_date', 'datetime', 1, None, 0)\n",
      "(2, 'cust_id', 'char(10)', 1, None, 0)\n",
      "Products\n",
      "(0, 'prod_id', 'char(10)', 1, None, 1)\n",
      "(1, 'vend_id', 'char(10)', 1, None, 0)\n",
      "(2, 'prod_name', 'char(255)', 1, None, 0)\n",
      "(3, 'prod_price', 'decimal(8,2)', 1, None, 0)\n",
      "(4, 'prod_desc', 'text', 0, None, 0)\n",
      "Vendors\n",
      "(0, 'vend_id', 'char(10)', 1, None, 1)\n",
      "(1, 'vend_name', 'char(50)', 1, None, 0)\n",
      "(2, 'vend_address', 'char(50)', 0, None, 0)\n",
      "(3, 'vend_city', 'char(50)', 0, None, 0)\n",
      "(4, 'vend_state', 'char(5)', 0, None, 0)\n",
      "(5, 'vend_zip', 'char(10)', 0, None, 0)\n",
      "(6, 'vend_country', 'char(50)', 0, None, 0)\n"
     ]
    }
   ],
   "source": [
    "conn=sqlite3.connect('tysql.sqlite')\n",
    "curs=conn.cursor()\n",
    "tables=[]\n",
    "script=\"\"\"SELECT name \n",
    "          FROM sqlite_master \n",
    "          WHERE type='table';\"\"\"\n",
    "res = conn.execute(script)\n",
    "for name in res:\n",
    "    tables.append(name[0])\n",
    "for i in range(len(tables)):    \n",
    "    print(tables[i])\n",
    "    name=tables[i]\n",
    "    s=f\"pragma table_info({name});\"\n",
    "    curs.execute(s)\n",
    "    while True:\n",
    "        next_row = curs.fetchone()\n",
    "        if next_row:\n",
    "            print(next_row)\n",
    "        else:\n",
    "            break"
   ]
  },
  {
   "cell_type": "markdown",
   "metadata": {},
   "source": [
    "2. Виведіть перелік всіх таблиць."
   ]
  },
  {
   "cell_type": "code",
   "execution_count": 16,
   "metadata": {},
   "outputs": [
    {
     "name": "stdout",
     "output_type": "stream",
     "text": [
      "Customers\n",
      "OrderItems\n",
      "Orders\n",
      "Products\n",
      "Vendors\n"
     ]
    }
   ],
   "source": [
    "script=\"\"\"SELECT name \n",
    "          FROM sqlite_master \n",
    "          WHERE type='table';\"\"\"\n",
    "res = conn.execute(script)\n",
    "for name in res:\n",
    "    print(name[0])"
   ]
  },
  {
   "cell_type": "markdown",
   "metadata": {},
   "source": [
    "3. Список всіх cust_id з таблиці Customers table."
   ]
  },
  {
   "cell_type": "code",
   "execution_count": 17,
   "metadata": {},
   "outputs": [
    {
     "name": "stdout",
     "output_type": "stream",
     "text": [
      "[('1000000001',), ('1000000002',), ('1000000003',), ('1000000004',), ('1000000005',)]\n"
     ]
    }
   ],
   "source": [
    "script=\"\"\"SELECT cust_id \n",
    "          FROM Customers \n",
    "          ;\"\"\"\n",
    "res = conn.execute(script)\n",
    "print(res.fetchall())\n",
    "for name in res:\n",
    "    print(name[0])"
   ]
  },
  {
   "cell_type": "markdown",
   "metadata": {},
   "source": [
    "4. Всю таблицю Customers table"
   ]
  },
  {
   "cell_type": "code",
   "execution_count": 18,
   "metadata": {},
   "outputs": [
    {
     "name": "stdout",
     "output_type": "stream",
     "text": [
      "('1000000001', 'Village Toys', '200 Maple Lane', 'Detroit', 'MI', '44444', 'USA', 'John Smith', 'sales@villagetoys.com')\n",
      "('1000000002', 'Kids Place', '333 South Lake Drive', 'Columbus', 'OH', '43333', 'USA', 'Michelle Green', None)\n",
      "('1000000003', 'Fun4All', '1 Sunny Place', 'Muncie', 'IN', '42222', 'USA', 'Jim Jones', 'jjones@fun4all.com')\n",
      "('1000000004', 'Fun4All', '829 Riverside Drive', 'Phoenix', 'AZ', '88888', 'USA', 'Denise L. Stephens', 'dstephens@fun4all.com')\n",
      "('1000000005', 'The Toy Store', '4545 53rd Street', 'Chicago', 'IL', '54545', 'USA', 'Kim Howard', None)\n"
     ]
    }
   ],
   "source": [
    "curs.execute(\"\"\"SELECT * \n",
    "                FROM Customers;\"\"\")\n",
    "while True:\n",
    "    next_row = curs.fetchone()\n",
    "    if next_row:\n",
    "        print(next_row)\n",
    "    else:\n",
    "        break"
   ]
  },
  {
   "cell_type": "markdown",
   "metadata": {},
   "source": [
    "5. Список клієнтів (cust_names) відсортованих від Z до A"
   ]
  },
  {
   "cell_type": "code",
   "execution_count": 20,
   "metadata": {},
   "outputs": [
    {
     "name": "stdout",
     "output_type": "stream",
     "text": [
      "('Village Toys',)\n",
      "('The Toy Store',)\n",
      "('Kids Place',)\n",
      "('Fun4All',)\n",
      "('Fun4All',)\n"
     ]
    }
   ],
   "source": [
    "curs.execute(\"\"\"SELECT cust_name \n",
    "                FROM Customers\n",
    "                ORDER BY cust_name DESC;\"\"\")\n",
    "while True:\n",
    "    next_row = curs.fetchone()\n",
    "    if next_row:\n",
    "        print(next_row)\n",
    "    else:\n",
    "        break"
   ]
  },
  {
   "cell_type": "markdown",
   "metadata": {},
   "source": [
    "6. Таблицю клієнтів та замовлень (cust_id і order_num) . Відсортуйте по клієнту і потім по даті замовлення"
   ]
  },
  {
   "cell_type": "code",
   "execution_count": 21,
   "metadata": {},
   "outputs": [
    {
     "name": "stdout",
     "output_type": "stream",
     "text": [
      "('1000000001', 20009)\n",
      "('1000000001', 20005)\n",
      "('1000000003', 20006)\n",
      "('1000000004', 20007)\n",
      "('1000000005', 20008)\n"
     ]
    }
   ],
   "source": [
    "curs.execute(\"\"\"SELECT cust_id, order_num \n",
    "                FROM Orders\n",
    "                ORDER BY cust_id, order_date;\"\"\")\n",
    "while True:\n",
    "    next_row = curs.fetchone()\n",
    "    if next_row:\n",
    "        print(next_row)\n",
    "    else:\n",
    "        break"
   ]
  },
  {
   "cell_type": "markdown",
   "metadata": {},
   "source": [
    "7. Таблицю (на основі Items) з кількість та вартістю товару. Відсортуйте в порядку спадання по кількості та вартості"
   ]
  },
  {
   "cell_type": "code",
   "execution_count": 22,
   "metadata": {},
   "outputs": [
    {
     "name": "stdout",
     "output_type": "stream",
     "text": [
      "(250, 2.49)\n",
      "(250, 2.49)\n",
      "(250, 2.49)\n",
      "(100, 10.99)\n",
      "(100, 5.49)\n",
      "(100, 2.99)\n",
      "(100, 2.99)\n",
      "(100, 2.99)\n",
      "(50, 11.49)\n",
      "(50, 4.49)\n",
      "(20, 5.99)\n",
      "(10, 11.99)\n",
      "(10, 8.99)\n",
      "(10, 3.49)\n",
      "(10, 3.49)\n",
      "(10, 3.49)\n",
      "(5, 11.99)\n",
      "(5, 4.99)\n"
     ]
    }
   ],
   "source": [
    "curs.execute(\"\"\"SELECT quantity, item_price\n",
    "                FROM OrderItems\n",
    "                ORDER BY quantity DESC, item_price DESC;\"\"\")\n",
    "while True:\n",
    "    next_row = curs.fetchone()\n",
    "    if next_row:\n",
    "        print(next_row)\n",
    "    else:\n",
    "        break"
   ]
  },
  {
   "cell_type": "markdown",
   "metadata": {},
   "source": [
    "8. Товар (з таблиці Products), ціна якого становить 9.49"
   ]
  },
  {
   "cell_type": "code",
   "execution_count": 23,
   "metadata": {},
   "outputs": [
    {
     "name": "stdout",
     "output_type": "stream",
     "text": [
      "('King doll', 9.49)\n",
      "('Queen doll', 9.49)\n"
     ]
    }
   ],
   "source": [
    "curs.execute(\"\"\"SELECT prod_name, prod_price\n",
    "                FROM Products\n",
    "                WHERE prod_price=9.49;\"\"\")\n",
    "while True:\n",
    "    next_row = curs.fetchone()\n",
    "    if next_row:\n",
    "        print(next_row)\n",
    "    else:\n",
    "        break"
   ]
  },
  {
   "cell_type": "markdown",
   "metadata": {},
   "source": [
    "9. Виведіть назву товару та ціну, яка лежить в діапазоні від  3 до 6. Відсортуйте результат в по ціні в порядку зростання"
   ]
  },
  {
   "cell_type": "code",
   "execution_count": 24,
   "metadata": {},
   "outputs": [
    {
     "name": "stdout",
     "output_type": "stream",
     "text": [
      "('Fish bean bag toy', 3.49)\n",
      "('Raggedy Ann', 4.99)\n",
      "('8 inch teddy bear', 5.99)\n"
     ]
    }
   ],
   "source": [
    "curs.execute(\"\"\"SELECT prod_name, prod_price\n",
    "                FROM Products\n",
    "                WHERE prod_price BETWEEN 3 AND 6\n",
    "                GROUP BY prod_price;\"\"\")\n",
    "while True:\n",
    "    next_row = curs.fetchone()\n",
    "    if next_row:\n",
    "        print(next_row)\n",
    "    else:\n",
    "        break"
   ]
  },
  {
   "cell_type": "markdown",
   "metadata": {},
   "source": [
    "10. Кількість товару, що було продано"
   ]
  },
  {
   "cell_type": "code",
   "execution_count": 25,
   "metadata": {},
   "outputs": [
    {
     "name": "stdout",
     "output_type": "stream",
     "text": [
      "(1430,)\n"
     ]
    }
   ],
   "source": [
    "curs.execute(\"\"\"SELECT SUM(quantity)\n",
    "                FROM OrderItems;\"\"\")\n",
    "while True:\n",
    "    next_row = curs.fetchone()\n",
    "    if next_row:\n",
    "        print(next_row)\n",
    "    else:\n",
    "        break"
   ]
  },
  {
   "cell_type": "markdown",
   "metadata": {},
   "source": [
    "11. Кількість найменувань товару, ціна якого більша за 4"
   ]
  },
  {
   "cell_type": "code",
   "execution_count": 26,
   "metadata": {},
   "outputs": [
    {
     "name": "stdout",
     "output_type": "stream",
     "text": [
      "(6,)\n"
     ]
    }
   ],
   "source": [
    "curs.execute(\"\"\"SELECT COUNT(prod_price)\n",
    "                FROM Products\n",
    "                WHERE prod_price>4;\"\"\")\n",
    "while True:\n",
    "    next_row = curs.fetchone()\n",
    "    if next_row:\n",
    "        print(next_row)\n",
    "    else:\n",
    "        break"
   ]
  },
  {
   "cell_type": "markdown",
   "metadata": {},
   "source": [
    "12. Розробіть алгоритм для виведення 3 найдорожчих товарів в базі"
   ]
  },
  {
   "cell_type": "code",
   "execution_count": 27,
   "metadata": {},
   "outputs": [
    {
     "name": "stdout",
     "output_type": "stream",
     "text": [
      "('12 inch teddy bear', 8.99)\n",
      "('King doll', 9.49)\n",
      "('18 inch teddy bear', 11.99)\n"
     ]
    }
   ],
   "source": [
    "curs.execute(\"\"\"SELECT prod_name, prod_price \n",
    "                FROM Products\n",
    "                GROUP BY prod_price\n",
    "                HAVING prod_price IN (SELECT DISTINCT prod_price \n",
    "                                     FROM Products\n",
    "                                     ORDER BY prod_price DESC LIMIT 3)\n",
    "                             \n",
    "                ;\"\"\")\n",
    "while True:\n",
    "    next_row = curs.fetchone()\n",
    "    if next_row:\n",
    "        print(next_row)\n",
    "    else:\n",
    "        break\n"
   ]
  },
  {
   "cell_type": "markdown",
   "metadata": {},
   "source": [
    "13. Підрахуйте кількість замовлень для кожного клієнта використовуючи підзапити"
   ]
  },
  {
   "cell_type": "code",
   "execution_count": 28,
   "metadata": {},
   "outputs": [
    {
     "name": "stdout",
     "output_type": "stream",
     "text": [
      "('1000000001', 2)\n",
      "('1000000002', 0)\n",
      "('1000000003', 1)\n",
      "('1000000004', 1)\n",
      "('1000000005', 1)\n"
     ]
    }
   ],
   "source": [
    "curs.execute(\"\"\"SELECT cust_id, COUNT(order_num)\n",
    "                FROM (SELECT Customers.cust_id, Orders.order_num\n",
    "                      FROM Customers\n",
    "                      LEFT JOIN Orders ON Customers.cust_id=Orders.cust_id) as t1\n",
    "                GROUP BY cust_id;\"\"\")\n",
    "\n",
    "while True:\n",
    "    next_row = curs.fetchone()\n",
    "    if next_row:\n",
    "        print(next_row)\n",
    "    else:\n",
    "        break"
   ]
  },
  {
   "cell_type": "markdown",
   "metadata": {},
   "source": [
    "14. Виведіть список клієнтів та їх замовлення (використайте JOIN)"
   ]
  },
  {
   "cell_type": "code",
   "execution_count": 29,
   "metadata": {},
   "outputs": [
    {
     "name": "stdout",
     "output_type": "stream",
     "text": [
      "('Village Toys', 20005, '2012-05-01')\n",
      "('Fun4All', 20006, '2012-01-12')\n",
      "('Fun4All', 20007, '2012-01-30')\n",
      "('The Toy Store', 20008, '2012-02-03')\n",
      "('Village Toys', 20009, '2012-02-08')\n"
     ]
    }
   ],
   "source": [
    "curs.execute(\"\"\"SELECT cust_name, order_num, order_date\n",
    "                FROM Orders\n",
    "                JOIN Customers ON Orders.cust_id=Customers.cust_id;\"\"\")\n",
    "while True:\n",
    "    next_row = curs.fetchone()\n",
    "    if next_row:\n",
    "        print(next_row)\n",
    "    else:\n",
    "        break"
   ]
  },
  {
   "cell_type": "markdown",
   "metadata": {},
   "source": [
    "15. Зробіть два запити: список товарів, ціна яких менша 5 та список товарів, ціна який більша рівна 5. Використайте UNION для об'єднання цих запитів"
   ]
  },
  {
   "cell_type": "code",
   "execution_count": 30,
   "metadata": {},
   "outputs": [
    {
     "name": "stdout",
     "output_type": "stream",
     "text": [
      "('Bird bean bag toy', 3.49)\n",
      "('Fish bean bag toy', 3.49)\n",
      "('Rabbit bean bag toy', 3.49)\n",
      "('Raggedy Ann', 4.99)\n",
      "('8 inch teddy bear', 5.99)\n",
      "('12 inch teddy bear', 8.99)\n",
      "('King doll', 9.49)\n",
      "('Queen doll', 9.49)\n",
      "('18 inch teddy bear', 11.99)\n"
     ]
    }
   ],
   "source": [
    "curs.execute(\"\"\"SELECT prod_name, prod_price\n",
    "                FROM Products\n",
    "                WHERE prod_price<5\n",
    "                UNION\n",
    "                SELECT prod_name, prod_price\n",
    "                FROM Products\n",
    "                WHERE prod_price>=5\n",
    "                ORDER BY prod_price\n",
    "                ;\"\"\")\n",
    "while True:\n",
    "    next_row = curs.fetchone()\n",
    "    if next_row:\n",
    "        print(next_row)\n",
    "    else:\n",
    "        break"
   ]
  },
  {
   "cell_type": "markdown",
   "metadata": {},
   "source": [
    "### Завдання 4: "
   ]
  },
  {
   "cell_type": "markdown",
   "metadata": {},
   "source": [
    "Зареєструйтеся на сайті  http://www.sql-ex.ru/\n",
    "\n",
    "Виконайте завдання із блоку SELECT; з 1 по 30 завдання\n",
    "\n",
    "Код запитів вставляйте сюди\n"
   ]
  },
  {
   "cell_type": "code",
   "execution_count": null,
   "metadata": {},
   "outputs": [],
   "source": [
    "#1\n",
    "SELECT model, speed,  hd\n",
    "FROM PC\n",
    "WHERE price < 500\n",
    "#2\n",
    "SELECT DISTINCT maker\n",
    "FROM Product \n",
    "WHERE type = 'Printer'\n",
    "#3\n",
    "SELECT model, ram, screen\n",
    "FROM laptop\n",
    "WHERE price > 1000\n",
    "#4\n",
    "SELECT *\n",
    "FROM printer\n",
    "WHERE color = 'y'\n",
    "#5\n",
    "SELECT model, speed, hd\n",
    "FROM pc\n",
    "WHERE (cd = '12x' OR cd = '24x') AND price < 600\n",
    "#6\n",
    "SELECT DISTINCT Product.maker, Laptop.speed \n",
    "FROM Product INNER JOIN \n",
    " Laptop ON Laptop.model = Product.model\n",
    "WHERE Laptop.hd >= 10\n",
    "#7\n",
    "select s.model, s.price \n",
    "from \n",
    "(SELECT model, price FROM laptop\n",
    "UNION \n",
    "SELECT model, price FROM pc\n",
    "UNION\n",
    "SELECT model, price FROM printer) as s\n",
    "JOIN product on s.model=product.model\n",
    "WHERE maker ='B'\n",
    "#8\n",
    "SELECT maker FROM product\n",
    "WHERE type = 'pc' AND maker NOT IN\n",
    "(SELECT maker FROM product WHERE type = 'laptop')\n",
    "GROUP BY maker\n",
    "#9\n",
    "SELECT DISTINCT maker FROM product\n",
    "WHERE model in (SELECT model FROM pc WHERE speed >= 450)\n",
    "#10\n",
    "SELECT model, price  \n",
    "FROM Printer  \n",
    "WHERE price = (SELECT MAX(price) \n",
    "               FROM Printer\n",
    "               )\n",
    "#11\n",
    "SELECT AVG(speed) AS Avg_speed\n",
    "FROM pc\n",
    "#12\n",
    "SELECT AVG(speed) AS Avg_speed\n",
    "FROM LAPTOP\n",
    "WHERE price > 1000\n",
    "#13\n",
    "SELECT AVG(pc.speed) AS Avg_speed\n",
    "FROM pc\n",
    "INNER JOIN product ON product.model = pc.model\n",
    "WHERE product.maker = 'A'\n",
    "#14\n",
    "SELECT DISTINCT classes.class, ships.name, classes.country FROM Ships\n",
    "INNER JOIN classes ON classes.class = ships.class\n",
    "WHERE classes.numGuns >= 10\n",
    "#15\n",
    "SELECT DISTINCT hd FROM pc\n",
    "GROUP BY hd\n",
    "HAVING COUNT(hd) > = 2\n"
   ]
  }
 ],
 "metadata": {
  "kernelspec": {
   "display_name": "Python 3",
   "language": "python",
   "name": "python3"
  },
  "language_info": {
   "codemirror_mode": {
    "name": "ipython",
    "version": 3
   },
   "file_extension": ".py",
   "mimetype": "text/x-python",
   "name": "python",
   "nbconvert_exporter": "python",
   "pygments_lexer": "ipython3",
   "version": "3.8.5"
  }
 },
 "nbformat": 4,
 "nbformat_minor": 2
}
