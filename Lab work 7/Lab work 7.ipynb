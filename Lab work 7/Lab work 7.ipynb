{
 "cells": [
  {
   "cell_type": "markdown",
   "metadata": {},
   "source": [
    "___\n",
    "\n",
    "<a href='https://mainacademy.ua/'> <img src='https://mainacademy.ua/wp-content/uploads/2019/03/logo-main.png' alt = 'Хмм, щось з інтернетом'/></a>\n",
    "___\n",
    "\n",
    "# Module 7: Supervised learning"
   ]
  },
  {
   "cell_type": "markdown",
   "metadata": {},
   "source": [
    "## Lab work 7\n",
    "\n"
   ]
  },
  {
   "cell_type": "markdown",
   "metadata": {},
   "source": [
    "#### Мета: \n",
    "\n",
    "* навчитися використовувати моделі з учителем"
   ]
  },
  {
   "cell_type": "markdown",
   "metadata": {},
   "source": [
    "### Завдання 1:"
   ]
  },
  {
   "cell_type": "markdown",
   "metadata": {},
   "source": [
    "Для цього завдання ми будемо вивчати загальнодоступні дані з [LendingClub.com](www.lendingclub.com). \n",
    "\n",
    "Кредитний клуб пов'язує людей, яким потрібні гроші (позичальники), та людей, які мають гроші (інвесторів). Сподіваємось, як інвестор ви хотіли б інвестувати в людей, які продемонстрували, що вони мають високу ймовірність повернути вам гроші. Ми спробуємо створити модель, яка допоможе це передбачити."
   ]
  },
  {
   "cell_type": "markdown",
   "metadata": {},
   "source": [
    "Кредитний клуб мав [дуже цікавий 2016 рік](https://en.wikipedia.org/wiki/Lending_Club#2016), тож давайте перевіримо деякі їх дані.\n",
    "\n",
    "Ми використовуватимемо дані про позики за 2007-2010 роки та намагатимемося класифікувати та прогнозувати, чи повертав позичальник їх повністю."
   ]
  },
  {
   "cell_type": "markdown",
   "metadata": {},
   "source": [
    "Ось що представляють стовпці:\n",
    "* `credit.policy`: 1, якщо клієнт відповідає критеріям андеррайтингу кредитів LendingClub.com, і 0 в іншому випадку.\n",
    "\n",
    "* `purpose`: мета позики (приймає значення \"кредитна_карта\", \"консолідація боргу\", \"освітня\", \"основна_покупка\", \"малий бізнес\" та \"всі_інші\").\n",
    "\n",
    "* `int.rate`: процентна ставка позики, пропорційно (ставка 11% зберігатиметься як 0,11). Позичальникам, які LendingClub.com вважає більш ризикованими, призначаються вищі процентні ставки.\n",
    "\n",
    "* `installment`: щомісячні виплати позичальника, якщо позика фінансується.\n",
    "\n",
    "* `log.annual.inc`: журнал річного доходу позичальника, який самостійно звітується.\n",
    "\n",
    "* `dti`: відношення боргу до доходу позичальника (сума боргу, поділена на річний дохід).\n",
    "\n",
    "* `fico`: кредитний рейтинг позичальника FICO.\n",
    "\n",
    "* `days.with.cr.line`: кількість днів, коли позичальник мав кредитну лінію.\n",
    "\n",
    "* `revol.bal`: кредитний залишок позичальника (сума не виплачена в кінці циклу виставлення рахунків за кредитною карткою).\n",
    "\n",
    "* `revol.util`: коефіцієнт використання кридитної лінії позичальника (сума використаної кредитної лінії відносно загальної кількості доступних кредитів).\n",
    "\n",
    "* `inq.last.6mths`: кількість запитів позичальників з боку кредиторів за останні 6 місяців.\n",
    "\n",
    "* `delinq.2yrs`: кількість разів, протягом яких позичальник прострочував платежі протягом останніх 2 років понад 30 днів.\n",
    "\n",
    "* `pub.rec`: кількість публічних записів (заяви про банкрутство, податкова застава або рішення)."
   ]
  },
  {
   "cell_type": "code",
   "execution_count": 4,
   "metadata": {},
   "outputs": [],
   "source": [
    "import pandas as pd\n",
    "import matplotlib.pyplot as plt\n",
    "%matplotlib inline\n",
    "import numpy as np\n",
    "import seaborn as sns"
   ]
  },
  {
   "cell_type": "markdown",
   "metadata": {},
   "source": [
    "Алгоритм виконання та проміжні завдання:\n",
    "1. Відкрийте файл та виведіть описову статистику\n",
    "\n",
    "2. Створіть дві гістограми по полю fico (перша для значень not.fully.paid=0, друга = 1). Гістограми накладіть одна на одну.\n",
    "\n",
    "3. Відобразіть тенденцію між оцінкою fico та int.rate. Використайте jointplot\n",
    "\n",
    "4. Побудуйте графік lmplot на основі int.rate та fico. Коліром розідліть по полю credit.policy. Розбийте по значеннях цільової функції\n",
    "\n",
    "5. purpose є категорієї, тому варто перетворити за допомогою pd.get_dummies\n",
    "\n",
    "6. Розбийте датасет на тестві та трейнові дані\n",
    "\n",
    "7. Використайте для задачі класифікації такі моделі: дерево рішень, логістична регресія, random forest, XGBoost\n",
    "\n",
    "8. Для кожної з моделей виведіть матрицю, основні метрики\n",
    "\n",
    "8. *Використейте бібіотеку dtreeviz для візуалізації (там, де актуально)\n",
    "\n",
    "9. Використайте ансамбель voting для всіх моделей\n",
    "\n",
    "10. Порівняйте результати моделей та зробіть висновки"
   ]
  },
  {
   "cell_type": "code",
   "execution_count": 2,
   "metadata": {},
   "outputs": [
    {
     "data": {
      "text/html": [
       "<div>\n",
       "<style scoped>\n",
       "    .dataframe tbody tr th:only-of-type {\n",
       "        vertical-align: middle;\n",
       "    }\n",
       "\n",
       "    .dataframe tbody tr th {\n",
       "        vertical-align: top;\n",
       "    }\n",
       "\n",
       "    .dataframe thead th {\n",
       "        text-align: right;\n",
       "    }\n",
       "</style>\n",
       "<table border=\"1\" class=\"dataframe\">\n",
       "  <thead>\n",
       "    <tr style=\"text-align: right;\">\n",
       "      <th></th>\n",
       "      <th>credit.policy</th>\n",
       "      <th>purpose</th>\n",
       "      <th>int.rate</th>\n",
       "      <th>installment</th>\n",
       "      <th>log.annual.inc</th>\n",
       "      <th>dti</th>\n",
       "      <th>fico</th>\n",
       "      <th>days.with.cr.line</th>\n",
       "      <th>revol.bal</th>\n",
       "      <th>revol.util</th>\n",
       "      <th>inq.last.6mths</th>\n",
       "      <th>delinq.2yrs</th>\n",
       "      <th>pub.rec</th>\n",
       "      <th>not.fully.paid</th>\n",
       "    </tr>\n",
       "  </thead>\n",
       "  <tbody>\n",
       "    <tr>\n",
       "      <th>0</th>\n",
       "      <td>1</td>\n",
       "      <td>debt_consolidation</td>\n",
       "      <td>0.1189</td>\n",
       "      <td>829.10</td>\n",
       "      <td>11.350407</td>\n",
       "      <td>19.48</td>\n",
       "      <td>737</td>\n",
       "      <td>5639.958333</td>\n",
       "      <td>28854</td>\n",
       "      <td>52.1</td>\n",
       "      <td>0</td>\n",
       "      <td>0</td>\n",
       "      <td>0</td>\n",
       "      <td>0</td>\n",
       "    </tr>\n",
       "    <tr>\n",
       "      <th>1</th>\n",
       "      <td>1</td>\n",
       "      <td>credit_card</td>\n",
       "      <td>0.1071</td>\n",
       "      <td>228.22</td>\n",
       "      <td>11.082143</td>\n",
       "      <td>14.29</td>\n",
       "      <td>707</td>\n",
       "      <td>2760.000000</td>\n",
       "      <td>33623</td>\n",
       "      <td>76.7</td>\n",
       "      <td>0</td>\n",
       "      <td>0</td>\n",
       "      <td>0</td>\n",
       "      <td>0</td>\n",
       "    </tr>\n",
       "    <tr>\n",
       "      <th>2</th>\n",
       "      <td>1</td>\n",
       "      <td>debt_consolidation</td>\n",
       "      <td>0.1357</td>\n",
       "      <td>366.86</td>\n",
       "      <td>10.373491</td>\n",
       "      <td>11.63</td>\n",
       "      <td>682</td>\n",
       "      <td>4710.000000</td>\n",
       "      <td>3511</td>\n",
       "      <td>25.6</td>\n",
       "      <td>1</td>\n",
       "      <td>0</td>\n",
       "      <td>0</td>\n",
       "      <td>0</td>\n",
       "    </tr>\n",
       "    <tr>\n",
       "      <th>3</th>\n",
       "      <td>1</td>\n",
       "      <td>debt_consolidation</td>\n",
       "      <td>0.1008</td>\n",
       "      <td>162.34</td>\n",
       "      <td>11.350407</td>\n",
       "      <td>8.10</td>\n",
       "      <td>712</td>\n",
       "      <td>2699.958333</td>\n",
       "      <td>33667</td>\n",
       "      <td>73.2</td>\n",
       "      <td>1</td>\n",
       "      <td>0</td>\n",
       "      <td>0</td>\n",
       "      <td>0</td>\n",
       "    </tr>\n",
       "    <tr>\n",
       "      <th>4</th>\n",
       "      <td>1</td>\n",
       "      <td>credit_card</td>\n",
       "      <td>0.1426</td>\n",
       "      <td>102.92</td>\n",
       "      <td>11.299732</td>\n",
       "      <td>14.97</td>\n",
       "      <td>667</td>\n",
       "      <td>4066.000000</td>\n",
       "      <td>4740</td>\n",
       "      <td>39.5</td>\n",
       "      <td>0</td>\n",
       "      <td>1</td>\n",
       "      <td>0</td>\n",
       "      <td>0</td>\n",
       "    </tr>\n",
       "  </tbody>\n",
       "</table>\n",
       "</div>"
      ],
      "text/plain": [
       "   credit.policy             purpose  int.rate  installment  log.annual.inc  \\\n",
       "0              1  debt_consolidation    0.1189       829.10       11.350407   \n",
       "1              1         credit_card    0.1071       228.22       11.082143   \n",
       "2              1  debt_consolidation    0.1357       366.86       10.373491   \n",
       "3              1  debt_consolidation    0.1008       162.34       11.350407   \n",
       "4              1         credit_card    0.1426       102.92       11.299732   \n",
       "\n",
       "     dti  fico  days.with.cr.line  revol.bal  revol.util  inq.last.6mths  \\\n",
       "0  19.48   737        5639.958333      28854        52.1               0   \n",
       "1  14.29   707        2760.000000      33623        76.7               0   \n",
       "2  11.63   682        4710.000000       3511        25.6               1   \n",
       "3   8.10   712        2699.958333      33667        73.2               1   \n",
       "4  14.97   667        4066.000000       4740        39.5               0   \n",
       "\n",
       "   delinq.2yrs  pub.rec  not.fully.paid  \n",
       "0            0        0               0  \n",
       "1            0        0               0  \n",
       "2            0        0               0  \n",
       "3            0        0               0  \n",
       "4            1        0               0  "
      ]
     },
     "execution_count": 2,
     "metadata": {},
     "output_type": "execute_result"
    }
   ],
   "source": [
    "all_data = pd.read_csv('loan_data.csv')\n",
    "all_data.head()"
   ]
  },
  {
   "cell_type": "code",
   "execution_count": 3,
   "metadata": {
    "scrolled": false
   },
   "outputs": [
    {
     "data": {
      "text/html": [
       "<div>\n",
       "<style scoped>\n",
       "    .dataframe tbody tr th:only-of-type {\n",
       "        vertical-align: middle;\n",
       "    }\n",
       "\n",
       "    .dataframe tbody tr th {\n",
       "        vertical-align: top;\n",
       "    }\n",
       "\n",
       "    .dataframe thead th {\n",
       "        text-align: right;\n",
       "    }\n",
       "</style>\n",
       "<table border=\"1\" class=\"dataframe\">\n",
       "  <thead>\n",
       "    <tr style=\"text-align: right;\">\n",
       "      <th></th>\n",
       "      <th>count</th>\n",
       "      <th>mean</th>\n",
       "      <th>std</th>\n",
       "      <th>min</th>\n",
       "      <th>25%</th>\n",
       "      <th>50%</th>\n",
       "      <th>75%</th>\n",
       "      <th>max</th>\n",
       "    </tr>\n",
       "  </thead>\n",
       "  <tbody>\n",
       "    <tr>\n",
       "      <th>credit.policy</th>\n",
       "      <td>9578.0</td>\n",
       "      <td>0.804970</td>\n",
       "      <td>0.396245</td>\n",
       "      <td>0.000000</td>\n",
       "      <td>1.000000</td>\n",
       "      <td>1.000000</td>\n",
       "      <td>1.000000</td>\n",
       "      <td>1.000000e+00</td>\n",
       "    </tr>\n",
       "    <tr>\n",
       "      <th>int.rate</th>\n",
       "      <td>9578.0</td>\n",
       "      <td>0.122640</td>\n",
       "      <td>0.026847</td>\n",
       "      <td>0.060000</td>\n",
       "      <td>0.103900</td>\n",
       "      <td>0.122100</td>\n",
       "      <td>0.140700</td>\n",
       "      <td>2.164000e-01</td>\n",
       "    </tr>\n",
       "    <tr>\n",
       "      <th>installment</th>\n",
       "      <td>9578.0</td>\n",
       "      <td>319.089413</td>\n",
       "      <td>207.071301</td>\n",
       "      <td>15.670000</td>\n",
       "      <td>163.770000</td>\n",
       "      <td>268.950000</td>\n",
       "      <td>432.762500</td>\n",
       "      <td>9.401400e+02</td>\n",
       "    </tr>\n",
       "    <tr>\n",
       "      <th>log.annual.inc</th>\n",
       "      <td>9578.0</td>\n",
       "      <td>10.932117</td>\n",
       "      <td>0.614813</td>\n",
       "      <td>7.547502</td>\n",
       "      <td>10.558414</td>\n",
       "      <td>10.928884</td>\n",
       "      <td>11.291293</td>\n",
       "      <td>1.452835e+01</td>\n",
       "    </tr>\n",
       "    <tr>\n",
       "      <th>dti</th>\n",
       "      <td>9578.0</td>\n",
       "      <td>12.606679</td>\n",
       "      <td>6.883970</td>\n",
       "      <td>0.000000</td>\n",
       "      <td>7.212500</td>\n",
       "      <td>12.665000</td>\n",
       "      <td>17.950000</td>\n",
       "      <td>2.996000e+01</td>\n",
       "    </tr>\n",
       "    <tr>\n",
       "      <th>fico</th>\n",
       "      <td>9578.0</td>\n",
       "      <td>710.846314</td>\n",
       "      <td>37.970537</td>\n",
       "      <td>612.000000</td>\n",
       "      <td>682.000000</td>\n",
       "      <td>707.000000</td>\n",
       "      <td>737.000000</td>\n",
       "      <td>8.270000e+02</td>\n",
       "    </tr>\n",
       "    <tr>\n",
       "      <th>days.with.cr.line</th>\n",
       "      <td>9578.0</td>\n",
       "      <td>4560.767197</td>\n",
       "      <td>2496.930377</td>\n",
       "      <td>178.958333</td>\n",
       "      <td>2820.000000</td>\n",
       "      <td>4139.958333</td>\n",
       "      <td>5730.000000</td>\n",
       "      <td>1.763996e+04</td>\n",
       "    </tr>\n",
       "    <tr>\n",
       "      <th>revol.bal</th>\n",
       "      <td>9578.0</td>\n",
       "      <td>16913.963876</td>\n",
       "      <td>33756.189557</td>\n",
       "      <td>0.000000</td>\n",
       "      <td>3187.000000</td>\n",
       "      <td>8596.000000</td>\n",
       "      <td>18249.500000</td>\n",
       "      <td>1.207359e+06</td>\n",
       "    </tr>\n",
       "    <tr>\n",
       "      <th>revol.util</th>\n",
       "      <td>9578.0</td>\n",
       "      <td>46.799236</td>\n",
       "      <td>29.014417</td>\n",
       "      <td>0.000000</td>\n",
       "      <td>22.600000</td>\n",
       "      <td>46.300000</td>\n",
       "      <td>70.900000</td>\n",
       "      <td>1.190000e+02</td>\n",
       "    </tr>\n",
       "    <tr>\n",
       "      <th>inq.last.6mths</th>\n",
       "      <td>9578.0</td>\n",
       "      <td>1.577469</td>\n",
       "      <td>2.200245</td>\n",
       "      <td>0.000000</td>\n",
       "      <td>0.000000</td>\n",
       "      <td>1.000000</td>\n",
       "      <td>2.000000</td>\n",
       "      <td>3.300000e+01</td>\n",
       "    </tr>\n",
       "    <tr>\n",
       "      <th>delinq.2yrs</th>\n",
       "      <td>9578.0</td>\n",
       "      <td>0.163708</td>\n",
       "      <td>0.546215</td>\n",
       "      <td>0.000000</td>\n",
       "      <td>0.000000</td>\n",
       "      <td>0.000000</td>\n",
       "      <td>0.000000</td>\n",
       "      <td>1.300000e+01</td>\n",
       "    </tr>\n",
       "    <tr>\n",
       "      <th>pub.rec</th>\n",
       "      <td>9578.0</td>\n",
       "      <td>0.062122</td>\n",
       "      <td>0.262126</td>\n",
       "      <td>0.000000</td>\n",
       "      <td>0.000000</td>\n",
       "      <td>0.000000</td>\n",
       "      <td>0.000000</td>\n",
       "      <td>5.000000e+00</td>\n",
       "    </tr>\n",
       "    <tr>\n",
       "      <th>not.fully.paid</th>\n",
       "      <td>9578.0</td>\n",
       "      <td>0.160054</td>\n",
       "      <td>0.366676</td>\n",
       "      <td>0.000000</td>\n",
       "      <td>0.000000</td>\n",
       "      <td>0.000000</td>\n",
       "      <td>0.000000</td>\n",
       "      <td>1.000000e+00</td>\n",
       "    </tr>\n",
       "  </tbody>\n",
       "</table>\n",
       "</div>"
      ],
      "text/plain": [
       "                    count          mean           std         min  \\\n",
       "credit.policy      9578.0      0.804970      0.396245    0.000000   \n",
       "int.rate           9578.0      0.122640      0.026847    0.060000   \n",
       "installment        9578.0    319.089413    207.071301   15.670000   \n",
       "log.annual.inc     9578.0     10.932117      0.614813    7.547502   \n",
       "dti                9578.0     12.606679      6.883970    0.000000   \n",
       "fico               9578.0    710.846314     37.970537  612.000000   \n",
       "days.with.cr.line  9578.0   4560.767197   2496.930377  178.958333   \n",
       "revol.bal          9578.0  16913.963876  33756.189557    0.000000   \n",
       "revol.util         9578.0     46.799236     29.014417    0.000000   \n",
       "inq.last.6mths     9578.0      1.577469      2.200245    0.000000   \n",
       "delinq.2yrs        9578.0      0.163708      0.546215    0.000000   \n",
       "pub.rec            9578.0      0.062122      0.262126    0.000000   \n",
       "not.fully.paid     9578.0      0.160054      0.366676    0.000000   \n",
       "\n",
       "                           25%          50%           75%           max  \n",
       "credit.policy         1.000000     1.000000      1.000000  1.000000e+00  \n",
       "int.rate              0.103900     0.122100      0.140700  2.164000e-01  \n",
       "installment         163.770000   268.950000    432.762500  9.401400e+02  \n",
       "log.annual.inc       10.558414    10.928884     11.291293  1.452835e+01  \n",
       "dti                   7.212500    12.665000     17.950000  2.996000e+01  \n",
       "fico                682.000000   707.000000    737.000000  8.270000e+02  \n",
       "days.with.cr.line  2820.000000  4139.958333   5730.000000  1.763996e+04  \n",
       "revol.bal          3187.000000  8596.000000  18249.500000  1.207359e+06  \n",
       "revol.util           22.600000    46.300000     70.900000  1.190000e+02  \n",
       "inq.last.6mths        0.000000     1.000000      2.000000  3.300000e+01  \n",
       "delinq.2yrs           0.000000     0.000000      0.000000  1.300000e+01  \n",
       "pub.rec               0.000000     0.000000      0.000000  5.000000e+00  \n",
       "not.fully.paid        0.000000     0.000000      0.000000  1.000000e+00  "
      ]
     },
     "execution_count": 3,
     "metadata": {},
     "output_type": "execute_result"
    }
   ],
   "source": [
    "all_data.describe().T"
   ]
  },
  {
   "cell_type": "code",
   "execution_count": 7,
   "metadata": {},
   "outputs": [
    {
     "data": {
      "text/plain": [
       "(array([[   6.,  244., 1058., 2039., 1450., 1199., 1151.,  519.,  292.,\n",
       "           87.],\n",
       "        [   6.,  106.,  316.,  446.,  285.,  193.,  118.,   39.,   21.,\n",
       "            3.]]),\n",
       " array([612. , 633.5, 655. , 676.5, 698. , 719.5, 741. , 762.5, 784. ,\n",
       "        805.5, 827. ]),\n",
       " <a list of 2 BarContainer objects>)"
      ]
     },
     "execution_count": 7,
     "metadata": {},
     "output_type": "execute_result"
    },
    {
     "data": {
      "image/png": "[encoded data removed]",
      "text/plain": [
       "<Figure size 432x288 with 1 Axes>"
      ]
     },
     "metadata": {
      "needs_background": "light"
     },
     "output_type": "display_data"
    }
   ],
   "source": [
    "y1 = all_data.loc[(all_data['not.fully.paid'] == 0), 'fico']\n",
    "y2 = all_data.loc[(all_data['not.fully.paid'] == 1), 'fico']\n",
    "colors = ['b','g']\n",
    "\n",
    "fig, ax1 = plt.subplots()\n",
    "ax1.hist([y1,y2],color=colors)\n",
    "\n"
   ]
  },
  {
   "cell_type": "code",
   "execution_count": 8,
   "metadata": {},
   "outputs": [
    {
     "name": "stderr",
     "output_type": "stream",
     "text": [
      "C:\\ProgramData\\Anaconda3\\lib\\site-packages\\seaborn\\_decorators.py:36: FutureWarning: Pass the following variables as keyword args: x, y. From version 0.12, the only valid positional argument will be `data`, and passing other arguments without an explicit keyword will result in an error or misinterpretation.\n",
      "  warnings.warn(\n"
     ]
    },
    {
     "data": {
      "image/png": "[encoded data removed]",
      "text/plain": [
       "<Figure size 432x432 with 3 Axes>"
      ]
     },
     "metadata": {
      "needs_background": "light"
     },
     "output_type": "display_data"
    }
   ],
   "source": [
    "axs = sns.jointplot('fico', 'int.rate', data=all_data)\n",
    "\n",
    "# df1 = all_data['fico']\n",
    "# df2 = all_data['int.rate']\n",
    "\n",
    "# graph = sns.jointplot(x=df1.x1, y=df1.y1, color='r')"
   ]
  },
  {
   "cell_type": "code",
   "execution_count": 20,
   "metadata": {},
   "outputs": [
    {
     "data": {
      "image/png": "[encoded data removed]",
      "text/plain": [
       "<Figure size 432x288 with 1 Axes>"
      ]
     },
     "metadata": {
      "needs_background": "light"
     },
     "output_type": "display_data"
    }
   ],
   "source": [
    "# Побудуйте графік lmplot на основі int.rate та fico. Коліром розідліть по полю credit.policy. Розбийте по значеннях цільової функції\n",
    "base1=all_data[['int.rate','fico','credit.policy']]\n",
    "base2 = base1[base1['credit.policy'] == 1]\n",
    "base3 = base1[base1['credit.policy'] == 0]\n",
    "\n",
    "fig = plt.figure()\n",
    "ax = fig.add_subplot(111)\n",
    "\n",
    "ax.scatter(base2['int.rate'], base2['fico'], s=10, c='b', marker=\"s\", label='credit.policy=1')\n",
    "ax.scatter(base3['int.rate'], base3['fico'], s=10, c='r', marker=\"o\", label='credit.policy=0')\n",
    "plt.legend(loc='upper right');\n",
    "ax.set_xlabel('int.rate')\n",
    "ax.set_ylabel('fico')\n",
    "plt.show()"
   ]
  },
  {
   "cell_type": "code",
   "execution_count": 21,
   "metadata": {},
   "outputs": [
    {
     "data": {
      "text/html": [
       "<div>\n",
       "<style scoped>\n",
       "    .dataframe tbody tr th:only-of-type {\n",
       "        vertical-align: middle;\n",
       "    }\n",
       "\n",
       "    .dataframe tbody tr th {\n",
       "        vertical-align: top;\n",
       "    }\n",
       "\n",
       "    .dataframe thead th {\n",
       "        text-align: right;\n",
       "    }\n",
       "</style>\n",
       "<table border=\"1\" class=\"dataframe\">\n",
       "  <thead>\n",
       "    <tr style=\"text-align: right;\">\n",
       "      <th></th>\n",
       "      <th>credit.policy</th>\n",
       "      <th>int.rate</th>\n",
       "      <th>installment</th>\n",
       "      <th>log.annual.inc</th>\n",
       "      <th>dti</th>\n",
       "      <th>fico</th>\n",
       "      <th>days.with.cr.line</th>\n",
       "      <th>revol.bal</th>\n",
       "      <th>revol.util</th>\n",
       "      <th>inq.last.6mths</th>\n",
       "      <th>delinq.2yrs</th>\n",
       "      <th>pub.rec</th>\n",
       "      <th>not.fully.paid</th>\n",
       "      <th>all_other</th>\n",
       "      <th>credit_card</th>\n",
       "      <th>debt_consolidation</th>\n",
       "      <th>educational</th>\n",
       "      <th>home_improvement</th>\n",
       "      <th>major_purchase</th>\n",
       "      <th>small_business</th>\n",
       "    </tr>\n",
       "  </thead>\n",
       "  <tbody>\n",
       "    <tr>\n",
       "      <th>0</th>\n",
       "      <td>1</td>\n",
       "      <td>0.1189</td>\n",
       "      <td>829.10</td>\n",
       "      <td>11.350407</td>\n",
       "      <td>19.48</td>\n",
       "      <td>737</td>\n",
       "      <td>5639.958333</td>\n",
       "      <td>28854</td>\n",
       "      <td>52.1</td>\n",
       "      <td>0</td>\n",
       "      <td>0</td>\n",
       "      <td>0</td>\n",
       "      <td>0</td>\n",
       "      <td>0</td>\n",
       "      <td>0</td>\n",
       "      <td>1</td>\n",
       "      <td>0</td>\n",
       "      <td>0</td>\n",
       "      <td>0</td>\n",
       "      <td>0</td>\n",
       "    </tr>\n",
       "    <tr>\n",
       "      <th>1</th>\n",
       "      <td>1</td>\n",
       "      <td>0.1071</td>\n",
       "      <td>228.22</td>\n",
       "      <td>11.082143</td>\n",
       "      <td>14.29</td>\n",
       "      <td>707</td>\n",
       "      <td>2760.000000</td>\n",
       "      <td>33623</td>\n",
       "      <td>76.7</td>\n",
       "      <td>0</td>\n",
       "      <td>0</td>\n",
       "      <td>0</td>\n",
       "      <td>0</td>\n",
       "      <td>0</td>\n",
       "      <td>1</td>\n",
       "      <td>0</td>\n",
       "      <td>0</td>\n",
       "      <td>0</td>\n",
       "      <td>0</td>\n",
       "      <td>0</td>\n",
       "    </tr>\n",
       "    <tr>\n",
       "      <th>2</th>\n",
       "      <td>1</td>\n",
       "      <td>0.1357</td>\n",
       "      <td>366.86</td>\n",
       "      <td>10.373491</td>\n",
       "      <td>11.63</td>\n",
       "      <td>682</td>\n",
       "      <td>4710.000000</td>\n",
       "      <td>3511</td>\n",
       "      <td>25.6</td>\n",
       "      <td>1</td>\n",
       "      <td>0</td>\n",
       "      <td>0</td>\n",
       "      <td>0</td>\n",
       "      <td>0</td>\n",
       "      <td>0</td>\n",
       "      <td>1</td>\n",
       "      <td>0</td>\n",
       "      <td>0</td>\n",
       "      <td>0</td>\n",
       "      <td>0</td>\n",
       "    </tr>\n",
       "    <tr>\n",
       "      <th>3</th>\n",
       "      <td>1</td>\n",
       "      <td>0.1008</td>\n",
       "      <td>162.34</td>\n",
       "      <td>11.350407</td>\n",
       "      <td>8.10</td>\n",
       "      <td>712</td>\n",
       "      <td>2699.958333</td>\n",
       "      <td>33667</td>\n",
       "      <td>73.2</td>\n",
       "      <td>1</td>\n",
       "      <td>0</td>\n",
       "      <td>0</td>\n",
       "      <td>0</td>\n",
       "      <td>0</td>\n",
       "      <td>0</td>\n",
       "      <td>1</td>\n",
       "      <td>0</td>\n",
       "      <td>0</td>\n",
       "      <td>0</td>\n",
       "      <td>0</td>\n",
       "    </tr>\n",
       "    <tr>\n",
       "      <th>4</th>\n",
       "      <td>1</td>\n",
       "      <td>0.1426</td>\n",
       "      <td>102.92</td>\n",
       "      <td>11.299732</td>\n",
       "      <td>14.97</td>\n",
       "      <td>667</td>\n",
       "      <td>4066.000000</td>\n",
       "      <td>4740</td>\n",
       "      <td>39.5</td>\n",
       "      <td>0</td>\n",
       "      <td>1</td>\n",
       "      <td>0</td>\n",
       "      <td>0</td>\n",
       "      <td>0</td>\n",
       "      <td>1</td>\n",
       "      <td>0</td>\n",
       "      <td>0</td>\n",
       "      <td>0</td>\n",
       "      <td>0</td>\n",
       "      <td>0</td>\n",
       "    </tr>\n",
       "  </tbody>\n",
       "</table>\n",
       "</div>"
      ],
      "text/plain": [
       "   credit.policy  int.rate  installment  log.annual.inc    dti  fico  \\\n",
       "0              1    0.1189       829.10       11.350407  19.48   737   \n",
       "1              1    0.1071       228.22       11.082143  14.29   707   \n",
       "2              1    0.1357       366.86       10.373491  11.63   682   \n",
       "3              1    0.1008       162.34       11.350407   8.10   712   \n",
       "4              1    0.1426       102.92       11.299732  14.97   667   \n",
       "\n",
       "   days.with.cr.line  revol.bal  revol.util  inq.last.6mths  delinq.2yrs  \\\n",
       "0        5639.958333      28854        52.1               0            0   \n",
       "1        2760.000000      33623        76.7               0            0   \n",
       "2        4710.000000       3511        25.6               1            0   \n",
       "3        2699.958333      33667        73.2               1            0   \n",
       "4        4066.000000       4740        39.5               0            1   \n",
       "\n",
       "   pub.rec  not.fully.paid  all_other  credit_card  debt_consolidation  \\\n",
       "0        0               0          0            0                   1   \n",
       "1        0               0          0            1                   0   \n",
       "2        0               0          0            0                   1   \n",
       "3        0               0          0            0                   1   \n",
       "4        0               0          0            1                   0   \n",
       "\n",
       "   educational  home_improvement  major_purchase  small_business  \n",
       "0            0                 0               0               0  \n",
       "1            0                 0               0               0  \n",
       "2            0                 0               0               0  \n",
       "3            0                 0               0               0  \n",
       "4            0                 0               0               0  "
      ]
     },
     "execution_count": 21,
     "metadata": {},
     "output_type": "execute_result"
    }
   ],
   "source": [
    "# purpose є категорієї, тому варто перетворити за допомогою pd.get_dummies\n",
    "\n",
    "all_data1=pd.get_dummies(all_data[\"purpose\"])\n",
    "del all_data[\"purpose\"]\n",
    "\n",
    "all_data = pd.concat([all_data, all_data1],axis=1, join=\"inner\")\n",
    "all_data.head()"
   ]
  },
  {
   "cell_type": "code",
   "execution_count": 22,
   "metadata": {},
   "outputs": [],
   "source": [
    "# Розбийте датасет на тестві та трейнові дані\n",
    "from sklearn.model_selection import train_test_split\n",
    "\n",
    "y = all_data[\"credit.policy\"]\n",
    "X = all_data.drop('credit.policy',axis=1)\n",
    "X_train, X_test, y_train, y_test = train_test_split(X, y, test_size=0.33)"
   ]
  },
  {
   "cell_type": "markdown",
   "metadata": {},
   "source": [
    "# Логістична регресія"
   ]
  },
  {
   "cell_type": "code",
   "execution_count": 23,
   "metadata": {},
   "outputs": [
    {
     "data": {
      "text/plain": [
       "LogisticRegression(max_iter=200)"
      ]
     },
     "execution_count": 23,
     "metadata": {},
     "output_type": "execute_result"
    }
   ],
   "source": [
    "from sklearn.linear_model import LogisticRegression\n",
    "\n",
    "\n",
    "\n",
    "logmodel = LogisticRegression(max_iter=200)\n",
    "logmodel.fit(X_train,y_train)"
   ]
  },
  {
   "cell_type": "code",
   "execution_count": 24,
   "metadata": {},
   "outputs": [
    {
     "data": {
      "text/plain": [
       "0.8994857410004675"
      ]
     },
     "execution_count": 24,
     "metadata": {},
     "output_type": "execute_result"
    }
   ],
   "source": [
    "logmodel.score(X_train,y_train)"
   ]
  },
  {
   "cell_type": "code",
   "execution_count": 25,
   "metadata": {},
   "outputs": [
    {
     "data": {
      "text/plain": [
       "0.8937045238848466"
      ]
     },
     "execution_count": 25,
     "metadata": {},
     "output_type": "execute_result"
    }
   ],
   "source": [
    "logmodel.score(X_test,y_test)"
   ]
  },
  {
   "cell_type": "code",
   "execution_count": 26,
   "metadata": {},
   "outputs": [],
   "source": [
    "y_predictions = logmodel.predict(X_test)"
   ]
  },
  {
   "cell_type": "code",
   "execution_count": 27,
   "metadata": {},
   "outputs": [
    {
     "data": {
      "text/plain": [
       "0.8937045238848466"
      ]
     },
     "execution_count": 27,
     "metadata": {},
     "output_type": "execute_result"
    }
   ],
   "source": [
    "from sklearn import metrics\n",
    "metrics.accuracy_score(y_test,y_predictions)"
   ]
  },
  {
   "cell_type": "code",
   "execution_count": 28,
   "metadata": {},
   "outputs": [
    {
     "name": "stdout",
     "output_type": "stream",
     "text": [
      "              precision    recall  f1-score   support\n",
      "\n",
      "           0       0.85      0.55      0.67       613\n",
      "           1       0.90      0.98      0.94      2548\n",
      "\n",
      "    accuracy                           0.89      3161\n",
      "   macro avg       0.88      0.76      0.80      3161\n",
      "weighted avg       0.89      0.89      0.88      3161\n",
      "\n"
     ]
    }
   ],
   "source": [
    "from sklearn.metrics import classification_report,confusion_matrix\n",
    "\n",
    "print(classification_report(y_test,y_predictions))"
   ]
  },
  {
   "cell_type": "code",
   "execution_count": 29,
   "metadata": {},
   "outputs": [
    {
     "name": "stdout",
     "output_type": "stream",
     "text": [
      "[[ 336  277]\n",
      " [  59 2489]]\n"
     ]
    }
   ],
   "source": [
    "m1=confusion_matrix(y_test,y_predictions)\n",
    "print(m1)"
   ]
  },
  {
   "cell_type": "markdown",
   "metadata": {},
   "source": [
    "# Дерево рішень"
   ]
  },
  {
   "cell_type": "code",
   "execution_count": 30,
   "metadata": {},
   "outputs": [
    {
     "name": "stdout",
     "output_type": "stream",
     "text": [
      "qty_depth = 1 Score = 0.9005765934237182\n",
      "qty_depth = 2 Score = 0.9496649524700016\n",
      "qty_depth = 3 Score = 0.9678977715443353\n",
      "qty_depth = 4 Score = 0.9797413121396291\n",
      "qty_depth = 5 Score = 0.9878447872837774\n",
      "qty_depth = 6 Score = 0.9914290166744585\n",
      "qty_depth = 7 Score = 0.9922081969767804\n",
      "qty_depth = 8 Score = 0.9940782297023532\n",
      "qty_depth = 9 Score = 0.9961040984883902\n",
      "qty_depth = 10 Score = 0.9970391148511766\n",
      "qty_depth = 11 Score = 0.9985974754558204\n",
      "qty_depth = 12 Score = 0.9990649836372136\n",
      "qty_depth = 13 Score = 0.9995324918186068\n",
      "qty_depth = 14 Score = 0.9998441639395356\n",
      "qty_depth = 15 Score = 1.0\n",
      "qty_depth = 16 Score = 1.0\n",
      "qty_depth = 17 Score = 1.0\n",
      "qty_depth = 18 Score = 1.0\n",
      "qty_depth = 19 Score = 1.0\n"
     ]
    }
   ],
   "source": [
    "from sklearn import tree\n",
    "from sklearn.tree import DecisionTreeClassifier\n",
    "\n",
    "\n",
    "\n",
    "for i in range(1,20):\n",
    "    dtree = DecisionTreeClassifier(max_depth=i)\n",
    "    dtree.fit(X_train,y_train)\n",
    "    print(f'qty_depth = {i} Score = {dtree.score(X_train,y_train)}')"
   ]
  },
  {
   "cell_type": "code",
   "execution_count": 31,
   "metadata": {},
   "outputs": [
    {
     "data": {
      "text/plain": [
       "DecisionTreeClassifier(max_depth=17)"
      ]
     },
     "execution_count": 31,
     "metadata": {},
     "output_type": "execute_result"
    }
   ],
   "source": [
    "dtree = DecisionTreeClassifier(max_depth=17)\n",
    "dtree.fit(X_train,y_train)"
   ]
  },
  {
   "cell_type": "code",
   "execution_count": 32,
   "metadata": {},
   "outputs": [],
   "source": [
    "predictions = dtree.predict(X_test)"
   ]
  },
  {
   "cell_type": "code",
   "execution_count": 33,
   "metadata": {},
   "outputs": [
    {
     "data": {
      "text/plain": [
       "1.0"
      ]
     },
     "execution_count": 33,
     "metadata": {},
     "output_type": "execute_result"
    }
   ],
   "source": [
    "dtree.score(X_train,y_train)"
   ]
  },
  {
   "cell_type": "code",
   "execution_count": 34,
   "metadata": {},
   "outputs": [
    {
     "data": {
      "text/plain": [
       "0.9879784878203101"
      ]
     },
     "execution_count": 34,
     "metadata": {},
     "output_type": "execute_result"
    }
   ],
   "source": [
    "dtree.score(X_test,y_test)"
   ]
  },
  {
   "cell_type": "code",
   "execution_count": 35,
   "metadata": {},
   "outputs": [
    {
     "name": "stdout",
     "output_type": "stream",
     "text": [
      "Collecting dtreeviz\n",
      "  Downloading dtreeviz-1.3.tar.gz (60 kB)\n",
      "Collecting graphviz>=0.9\n",
      "  Downloading graphviz-0.16-py2.py3-none-any.whl (19 kB)\n",
      "Requirement already satisfied: pandas in c:\\programdata\\anaconda3\\lib\\site-packages (from dtreeviz) (1.1.3)\n",
      "Requirement already satisfied: numpy in c:\\programdata\\anaconda3\\lib\\site-packages (from dtreeviz) (1.19.2)\n",
      "Requirement already satisfied: scikit-learn in c:\\programdata\\anaconda3\\lib\\site-packages (from dtreeviz) (0.23.2)\n",
      "Requirement already satisfied: matplotlib in c:\\programdata\\anaconda3\\lib\\site-packages (from dtreeviz) (3.3.2)\n",
      "Collecting colour\n",
      "  Downloading colour-0.1.5-py2.py3-none-any.whl (23 kB)\n",
      "Requirement already satisfied: pytest in c:\\programdata\\anaconda3\\lib\\site-packages (from dtreeviz) (0.0.0)\n",
      "Requirement already satisfied: python-dateutil>=2.7.3 in c:\\programdata\\anaconda3\\lib\\site-packages (from pandas->dtreeviz) (2.8.1)\n",
      "Requirement already satisfied: pytz>=2017.2 in c:\\programdata\\anaconda3\\lib\\site-packages (from pandas->dtreeviz) (2020.1)\n",
      "Requirement already satisfied: joblib>=0.11 in c:\\programdata\\anaconda3\\lib\\site-packages (from scikit-learn->dtreeviz) (0.17.0)\n",
      "Requirement already satisfied: threadpoolctl>=2.0.0 in c:\\programdata\\anaconda3\\lib\\site-packages (from scikit-learn->dtreeviz) (2.1.0)\n",
      "Requirement already satisfied: scipy>=0.19.1 in c:\\programdata\\anaconda3\\lib\\site-packages (from scikit-learn->dtreeviz) (1.5.2)\n",
      "Requirement already satisfied: cycler>=0.10 in c:\\programdata\\anaconda3\\lib\\site-packages (from matplotlib->dtreeviz) (0.10.0)\n",
      "Requirement already satisfied: certifi>=2020.06.20 in c:\\programdata\\anaconda3\\lib\\site-packages (from matplotlib->dtreeviz) (2020.6.20)\n",
      "Requirement already satisfied: pyparsing!=2.0.4,!=2.1.2,!=2.1.6,>=2.0.3 in c:\\programdata\\anaconda3\\lib\\site-packages (from matplotlib->dtreeviz) (2.4.7)\n",
      "Requirement already satisfied: pillow>=6.2.0 in c:\\programdata\\anaconda3\\lib\\site-packages (from matplotlib->dtreeviz) (8.0.1)\n",
      "Requirement already satisfied: kiwisolver>=1.0.1 in c:\\programdata\\anaconda3\\lib\\site-packages (from matplotlib->dtreeviz) (1.3.0)\n",
      "Requirement already satisfied: attrs>=17.4.0 in c:\\programdata\\anaconda3\\lib\\site-packages (from pytest->dtreeviz) (20.3.0)\n",
      "Requirement already satisfied: iniconfig in c:\\programdata\\anaconda3\\lib\\site-packages (from pytest->dtreeviz) (1.1.1)\n",
      "Requirement already satisfied: packaging in c:\\programdata\\anaconda3\\lib\\site-packages (from pytest->dtreeviz) (20.4)\n",
      "Requirement already satisfied: pluggy<1.0,>=0.12 in c:\\programdata\\anaconda3\\lib\\site-packages (from pytest->dtreeviz) (0.13.1)\n",
      "Requirement already satisfied: py>=1.8.2 in c:\\programdata\\anaconda3\\lib\\site-packages (from pytest->dtreeviz) (1.9.0)\n",
      "Requirement already satisfied: toml in c:\\programdata\\anaconda3\\lib\\site-packages (from pytest->dtreeviz) (0.10.1)\n",
      "Requirement already satisfied: atomicwrites>=1.0 in c:\\programdata\\anaconda3\\lib\\site-packages (from pytest->dtreeviz) (1.4.0)\n",
      "Requirement already satisfied: colorama in c:\\programdata\\anaconda3\\lib\\site-packages (from pytest->dtreeviz) (0.4.4)\n",
      "Requirement already satisfied: six>=1.5 in c:\\programdata\\anaconda3\\lib\\site-packages (from python-dateutil>=2.7.3->pandas->dtreeviz) (1.15.0)\n",
      "Building wheels for collected packages: dtreeviz\n",
      "  Building wheel for dtreeviz (setup.py): started\n",
      "  Building wheel for dtreeviz (setup.py): finished with status 'done'\n",
      "  Created wheel for dtreeviz: filename=dtreeviz-1.3-py3-none-any.whl size=66643 sha256=0e94fceedfb68451b58c5920714e4866ce6a8df9cf579399a5316983230c2d96\n",
      "  Stored in directory: c:\\users\\алекс\\appdata\\local\\pip\\cache\\wheels\\9e\\37\\2c\\3b30269ca762b6bb992fd0abb640f3e384c290e719597fddbc\n",
      "Successfully built dtreeviz\n",
      "Installing collected packages: graphviz, colour, dtreeviz\n",
      "Successfully installed colour-0.1.5 dtreeviz-1.3 graphviz-0.16\n",
      "Note: you may need to restart the kernel to use updated packages.\n"
     ]
    }
   ],
   "source": [
    "pip install dtreeviz"
   ]
  },
  {
   "cell_type": "code",
   "execution_count": null,
   "metadata": {},
   "outputs": [],
   "source": [
    "from dtreeviz.trees import *\n",
    "viz = dtreeviz(dtree,\n",
    "               X,\n",
    "               y,\n",
    "               target_name='credit.policy',\n",
    "               )\n",
    "              \n",
    "viz.view()"
   ]
  },
  {
   "cell_type": "code",
   "execution_count": 38,
   "metadata": {},
   "outputs": [
    {
     "data": {
      "text/plain": [
       "[Text(528.3665477362205, 631.9350000000001, 'X[8] <= 3.5\\ngini = 0.315\\nsamples = 6417\\nvalue = [1255, 5162]'),\n",
       " Text(429.31262303149606, 591.1650000000001, 'X[4] <= 659.5\\ngini = 0.172\\nsamples = 5588\\nvalue = [532, 5056]'),\n",
       " Text(391.39635826771655, 550.395, 'X[4] <= 634.5\\ngini = 0.017\\nsamples = 229\\nvalue = [227, 2]'),\n",
       " Text(380.85147637795274, 509.625, 'X[2] <= 10.085\\ngini = 0.48\\nsamples = 5\\nvalue = [3, 2]'),\n",
       " Text(370.306594488189, 468.855, 'gini = 0.0\\nsamples = 3\\nvalue = [3, 0]'),\n",
       " Text(391.39635826771655, 468.855, 'gini = 0.0\\nsamples = 2\\nvalue = [0, 2]'),\n",
       " Text(401.9412401574803, 509.625, 'gini = 0.0\\nsamples = 224\\nvalue = [224, 0]'),\n",
       " Text(467.22888779527557, 550.395, 'X[5] <= 1109.5\\ngini = 0.107\\nsamples = 5359\\nvalue = [305, 5054]'),\n",
       " Text(456.6840059055118, 509.625, 'gini = 0.0\\nsamples = 111\\nvalue = [111, 0]'),\n",
       " Text(477.7737696850394, 509.625, 'X[6] <= 116508.5\\ngini = 0.071\\nsamples = 5248\\nvalue = [194, 5054]'),\n",
       " Text(412.48612204724407, 468.855, 'X[3] <= 24.995\\ngini = 0.043\\nsamples = 5155\\nvalue = [112, 5043]'),\n",
       " Text(366.2698818897638, 428.08500000000004, 'X[7] <= 99.85\\ngini = 0.022\\nsamples = 5099\\nvalue = [58, 5041]'),\n",
       " Text(305.4720472440945, 387.31500000000005, 'X[6] <= 74929.5\\ngini = 0.019\\nsamples = 5088\\nvalue = [48, 5040]'),\n",
       " Text(215.51102362204725, 346.545, 'X[6] <= 40516.0\\ngini = 0.013\\nsamples = 5012\\nvalue = [32, 4980]'),\n",
       " Text(125.22047244094487, 305.77500000000003, 'X[6] <= 7.5\\ngini = 0.007\\nsamples = 4759\\nvalue = [16, 4743]'),\n",
       " Text(52.724409448818896, 265.005, 'X[7] <= 0.07\\ngini = 0.104\\nsamples = 163\\nvalue = [9, 154]'),\n",
       " Text(31.634645669291338, 224.235, 'X[2] <= 9.346\\ngini = 0.016\\nsamples = 128\\nvalue = [1, 127]'),\n",
       " Text(21.08976377952756, 183.46500000000003, 'X[2] <= 9.293\\ngini = 0.5\\nsamples = 2\\nvalue = [1, 1]'),\n",
       " Text(10.54488188976378, 142.695, 'gini = 0.0\\nsamples = 1\\nvalue = [0, 1]'),\n",
       " Text(31.634645669291338, 142.695, 'gini = 0.0\\nsamples = 1\\nvalue = [1, 0]'),\n",
       " Text(42.17952755905512, 183.46500000000003, 'gini = 0.0\\nsamples = 126\\nvalue = [0, 126]'),\n",
       " Text(73.81417322834645, 224.235, 'X[0] <= 0.105\\ngini = 0.353\\nsamples = 35\\nvalue = [8, 27]'),\n",
       " Text(63.269291338582676, 183.46500000000003, 'X[6] <= 0.5\\ngini = 0.32\\nsamples = 10\\nvalue = [8, 2]'),\n",
       " Text(52.724409448818896, 142.695, 'gini = 0.0\\nsamples = 7\\nvalue = [7, 0]'),\n",
       " Text(73.81417322834645, 142.695, 'X[5] <= 5828.979\\ngini = 0.444\\nsamples = 3\\nvalue = [1, 2]'),\n",
       " Text(63.269291338582676, 101.92499999999995, 'gini = 0.0\\nsamples = 2\\nvalue = [0, 2]'),\n",
       " Text(84.35905511811023, 101.92499999999995, 'gini = 0.0\\nsamples = 1\\nvalue = [1, 0]'),\n",
       " Text(84.35905511811023, 183.46500000000003, 'gini = 0.0\\nsamples = 25\\nvalue = [0, 25]'),\n",
       " Text(197.71653543307087, 265.005, 'X[2] <= 9.964\\ngini = 0.003\\nsamples = 4596\\nvalue = [7, 4589]'),\n",
       " Text(147.6283464566929, 224.235, 'X[6] <= 18628.5\\ngini = 0.037\\nsamples = 213\\nvalue = [4, 209]'),\n",
       " Text(137.08346456692914, 183.46500000000003, 'X[6] <= 14708.0\\ngini = 0.019\\nsamples = 211\\nvalue = [2, 209]'),\n",
       " Text(115.99370078740156, 142.695, 'X[3] <= 1.315\\ngini = 0.01\\nsamples = 208\\nvalue = [1, 207]'),\n",
       " Text(105.44881889763779, 101.92499999999995, 'X[4] <= 679.5\\ngini = 0.278\\nsamples = 6\\nvalue = [1, 5]'),\n",
       " Text(94.90393700787402, 61.15499999999997, 'gini = 0.0\\nsamples = 1\\nvalue = [1, 0]'),\n",
       " Text(115.99370078740156, 61.15499999999997, 'gini = 0.0\\nsamples = 5\\nvalue = [0, 5]'),\n",
       " Text(126.53858267716535, 101.92499999999995, 'gini = 0.0\\nsamples = 202\\nvalue = [0, 202]'),\n",
       " Text(158.17322834645668, 142.695, 'X[6] <= 15640.0\\ngini = 0.444\\nsamples = 3\\nvalue = [1, 2]'),\n",
       " Text(147.6283464566929, 101.92499999999995, 'gini = 0.0\\nsamples = 1\\nvalue = [1, 0]'),\n",
       " Text(168.71811023622047, 101.92499999999995, 'gini = 0.0\\nsamples = 2\\nvalue = [0, 2]'),\n",
       " Text(158.17322834645668, 183.46500000000003, 'gini = 0.0\\nsamples = 2\\nvalue = [2, 0]'),\n",
       " Text(247.80472440944882, 224.235, 'X[2] <= 10.441\\ngini = 0.001\\nsamples = 4383\\nvalue = [3, 4380]'),\n",
       " Text(237.25984251968504, 183.46500000000003, 'X[6] <= 27265.5\\ngini = 0.009\\nsamples = 635\\nvalue = [3, 632]'),\n",
       " Text(210.89763779527559, 142.695, 'X[2] <= 10.44\\ngini = 0.006\\nsamples = 632\\nvalue = [2, 630]'),\n",
       " Text(189.80787401574804, 101.92499999999995, 'X[3] <= 0.51\\ngini = 0.003\\nsamples = 629\\nvalue = [1, 628]'),\n",
       " Text(179.26299212598425, 61.15499999999997, 'X[3] <= 0.41\\ngini = 0.165\\nsamples = 11\\nvalue = [1, 10]'),\n",
       " Text(168.71811023622047, 20.38499999999999, 'gini = 0.0\\nsamples = 10\\nvalue = [0, 10]'),\n",
       " Text(189.80787401574804, 20.38499999999999, 'gini = 0.0\\nsamples = 1\\nvalue = [1, 0]'),\n",
       " Text(200.3527559055118, 61.15499999999997, 'gini = 0.0\\nsamples = 618\\nvalue = [0, 618]'),\n",
       " Text(231.98740157480313, 101.92499999999995, 'X[7] <= 92.6\\ngini = 0.444\\nsamples = 3\\nvalue = [1, 2]'),\n",
       " Text(221.44251968503937, 61.15499999999997, 'gini = 0.0\\nsamples = 2\\nvalue = [0, 2]'),\n",
       " Text(242.53228346456692, 61.15499999999997, 'gini = 0.0\\nsamples = 1\\nvalue = [1, 0]'),\n",
       " Text(263.62204724409446, 142.695, 'X[8] <= 1.5\\ngini = 0.444\\nsamples = 3\\nvalue = [1, 2]'),\n",
       " Text(253.0771653543307, 101.92499999999995, 'gini = 0.0\\nsamples = 1\\nvalue = [1, 0]'),\n",
       " Text(274.1669291338583, 101.92499999999995, 'gini = 0.0\\nsamples = 2\\nvalue = [0, 2]'),\n",
       " Text(258.3496062992126, 183.46500000000003, 'gini = 0.0\\nsamples = 3748\\nvalue = [0, 3748]'),\n",
       " Text(305.8015748031496, 305.77500000000003, 'X[2] <= 10.849\\ngini = 0.118\\nsamples = 253\\nvalue = [16, 237]'),\n",
       " Text(279.4393700787401, 265.005, 'X[4] <= 739.5\\ngini = 0.346\\nsamples = 18\\nvalue = [14, 4]'),\n",
       " Text(268.89448818897637, 224.235, 'gini = 0.0\\nsamples = 14\\nvalue = [14, 0]'),\n",
       " Text(289.98425196850394, 224.235, 'gini = 0.0\\nsamples = 4\\nvalue = [0, 4]'),\n",
       " Text(332.16377952755903, 265.005, 'X[2] <= 10.916\\ngini = 0.017\\nsamples = 235\\nvalue = [2, 233]'),\n",
       " Text(311.0740157480315, 224.235, 'X[5] <= 7080.042\\ngini = 0.375\\nsamples = 4\\nvalue = [1, 3]'),\n",
       " Text(300.5291338582677, 183.46500000000003, 'gini = 0.0\\nsamples = 3\\nvalue = [0, 3]'),\n",
       " Text(321.61889763779527, 183.46500000000003, 'gini = 0.0\\nsamples = 1\\nvalue = [1, 0]'),\n",
       " Text(353.2535433070866, 224.235, 'X[6] <= 72533.0\\ngini = 0.009\\nsamples = 231\\nvalue = [1, 230]'),\n",
       " Text(342.70866141732284, 183.46500000000003, 'gini = 0.0\\nsamples = 220\\nvalue = [0, 220]'),\n",
       " Text(363.79842519685036, 183.46500000000003, 'X[2] <= 11.161\\ngini = 0.165\\nsamples = 11\\nvalue = [1, 10]'),\n",
       " Text(353.2535433070866, 142.695, 'gini = 0.0\\nsamples = 1\\nvalue = [1, 0]'),\n",
       " Text(374.3433070866142, 142.695, 'gini = 0.0\\nsamples = 10\\nvalue = [0, 10]'),\n",
       " Text(395.43307086614175, 346.545, 'X[2] <= 11.329\\ngini = 0.332\\nsamples = 76\\nvalue = [16, 60]'),\n",
       " Text(374.3433070866142, 305.77500000000003, 'X[4] <= 739.5\\ngini = 0.305\\nsamples = 16\\nvalue = [13, 3]'),\n",
       " Text(363.79842519685036, 265.005, 'gini = 0.0\\nsamples = 13\\nvalue = [13, 0]'),\n",
       " Text(384.88818897637793, 265.005, 'gini = 0.0\\nsamples = 3\\nvalue = [0, 3]'),\n",
       " Text(416.52283464566926, 305.77500000000003, 'X[2] <= 11.571\\ngini = 0.095\\nsamples = 60\\nvalue = [3, 57]'),\n",
       " Text(405.9779527559055, 265.005, 'X[4] <= 724.5\\ngini = 0.375\\nsamples = 12\\nvalue = [3, 9]'),\n",
       " Text(395.43307086614175, 224.235, 'X[4] <= 674.5\\ngini = 0.375\\nsamples = 4\\nvalue = [3, 1]'),\n",
       " Text(384.88818897637793, 183.46500000000003, 'gini = 0.0\\nsamples = 1\\nvalue = [0, 1]'),\n",
       " Text(405.9779527559055, 183.46500000000003, 'gini = 0.0\\nsamples = 3\\nvalue = [3, 0]'),\n",
       " Text(416.52283464566926, 224.235, 'gini = 0.0\\nsamples = 8\\nvalue = [0, 8]'),\n",
       " Text(427.0677165354331, 265.005, 'gini = 0.0\\nsamples = 48\\nvalue = [0, 48]'),\n",
       " Text(427.0677165354331, 387.31500000000005, 'X[0] <= 0.18\\ngini = 0.165\\nsamples = 11\\nvalue = [10, 1]'),\n",
       " Text(416.52283464566926, 346.545, 'gini = 0.0\\nsamples = 10\\nvalue = [10, 0]'),\n",
       " Text(437.61259842519684, 346.545, 'gini = 0.0\\nsamples = 1\\nvalue = [0, 1]'),\n",
       " Text(458.7023622047244, 428.08500000000004, 'X[6] <= 1066.5\\ngini = 0.069\\nsamples = 56\\nvalue = [54, 2]'),\n",
       " Text(448.1574803149606, 387.31500000000005, 'gini = 0.0\\nsamples = 1\\nvalue = [0, 1]'),\n",
       " Text(469.24724409448817, 387.31500000000005, 'X[4] <= 747.0\\ngini = 0.036\\nsamples = 55\\nvalue = [54, 1]'),\n",
       " Text(458.7023622047244, 346.545, 'gini = 0.0\\nsamples = 53\\nvalue = [53, 0]'),\n",
       " Text(479.792125984252, 346.545, 'X[7] <= 47.5\\ngini = 0.5\\nsamples = 2\\nvalue = [1, 1]'),\n",
       " Text(469.24724409448817, 305.77500000000003, 'gini = 0.0\\nsamples = 1\\nvalue = [0, 1]'),\n",
       " Text(490.33700787401574, 305.77500000000003, 'gini = 0.0\\nsamples = 1\\nvalue = [1, 0]'),\n",
       " Text(543.0614173228346, 468.855, 'X[6] <= 145651.0\\ngini = 0.209\\nsamples = 93\\nvalue = [82, 11]'),\n",
       " Text(532.5165354330709, 428.08500000000004, 'X[2] <= 11.864\\ngini = 0.444\\nsamples = 33\\nvalue = [22, 11]'),\n",
       " Text(511.4267716535433, 387.31500000000005, 'X[4] <= 754.5\\ngini = 0.091\\nsamples = 21\\nvalue = [20, 1]'),\n",
       " Text(500.8818897637795, 346.545, 'gini = 0.0\\nsamples = 20\\nvalue = [20, 0]'),\n",
       " Text(521.9716535433071, 346.545, 'gini = 0.0\\nsamples = 1\\nvalue = [0, 1]'),\n",
       " Text(553.6062992125984, 387.31500000000005, 'X[3] <= 24.575\\ngini = 0.278\\nsamples = 12\\nvalue = [2, 10]'),\n",
       " Text(543.0614173228346, 346.545, 'gini = 0.0\\nsamples = 10\\nvalue = [0, 10]'),\n",
       " Text(564.1511811023622, 346.545, 'gini = 0.0\\nsamples = 2\\nvalue = [2, 0]'),\n",
       " Text(553.6062992125984, 428.08500000000004, 'gini = 0.0\\nsamples = 60\\nvalue = [60, 0]'),\n",
       " Text(627.4204724409449, 591.1650000000001, 'X[4] <= 739.5\\ngini = 0.223\\nsamples = 829\\nvalue = [723, 106]'),\n",
       " Text(616.8755905511811, 550.395, 'gini = 0.0\\nsamples = 707\\nvalue = [707, 0]'),\n",
       " Text(637.9653543307087, 550.395, 'X[8] <= 8.5\\ngini = 0.228\\nsamples = 122\\nvalue = [16, 106]'),\n",
       " Text(627.4204724409449, 509.625, 'X[6] <= 182002.0\\ngini = 0.158\\nsamples = 116\\nvalue = [10, 106]'),\n",
       " Text(616.8755905511811, 468.855, 'X[6] <= 12.0\\ngini = 0.116\\nsamples = 113\\nvalue = [7, 106]'),\n",
       " Text(585.2409448818897, 428.08500000000004, 'X[0] <= 0.079\\ngini = 0.5\\nsamples = 10\\nvalue = [5, 5]'),\n",
       " Text(574.6960629921259, 387.31500000000005, 'gini = 0.0\\nsamples = 4\\nvalue = [4, 0]'),\n",
       " Text(595.7858267716535, 387.31500000000005, 'X[4] <= 747.0\\ngini = 0.278\\nsamples = 6\\nvalue = [1, 5]'),\n",
       " Text(585.2409448818897, 346.545, 'gini = 0.0\\nsamples = 1\\nvalue = [1, 0]'),\n",
       " Text(606.3307086614174, 346.545, 'gini = 0.0\\nsamples = 5\\nvalue = [0, 5]'),\n",
       " Text(648.5102362204724, 428.08500000000004, 'X[3] <= 25.985\\ngini = 0.038\\nsamples = 103\\nvalue = [2, 101]'),\n",
       " Text(637.9653543307087, 387.31500000000005, 'X[2] <= 10.039\\ngini = 0.019\\nsamples = 102\\nvalue = [1, 101]'),\n",
       " Text(627.4204724409449, 346.545, 'X[0] <= 0.093\\ngini = 0.444\\nsamples = 3\\nvalue = [1, 2]'),\n",
       " Text(616.8755905511811, 305.77500000000003, 'gini = 0.0\\nsamples = 1\\nvalue = [1, 0]'),\n",
       " Text(637.9653543307087, 305.77500000000003, 'gini = 0.0\\nsamples = 2\\nvalue = [0, 2]'),\n",
       " Text(648.5102362204724, 346.545, 'gini = 0.0\\nsamples = 99\\nvalue = [0, 99]'),\n",
       " Text(659.0551181102362, 387.31500000000005, 'gini = 0.0\\nsamples = 1\\nvalue = [1, 0]'),\n",
       " Text(637.9653543307087, 468.855, 'gini = 0.0\\nsamples = 3\\nvalue = [3, 0]'),\n",
       " Text(648.5102362204724, 509.625, 'gini = 0.0\\nsamples = 6\\nvalue = [6, 0]')]"
      ]
     },
     "execution_count": 38,
     "metadata": {},
     "output_type": "execute_result"
    },
    {
     "data": {
      "image/png": "[encoded data removed]",
      "text/plain": [
       "<Figure size 864x864 with 1 Axes>"
      ]
     },
     "metadata": {
      "needs_background": "light"
     },
     "output_type": "display_data"
    }
   ],
   "source": [
    "\n",
    "from sklearn import tree\n",
    "plt.figure(figsize=(12,12)) \n",
    "tree.plot_tree(dtree, filled=True,  rounded=True)\n"
   ]
  },
  {
   "cell_type": "code",
   "execution_count": 39,
   "metadata": {},
   "outputs": [
    {
     "name": "stdout",
     "output_type": "stream",
     "text": [
      "              precision    recall  f1-score   support\n",
      "\n",
      "           0       0.97      0.97      0.97       613\n",
      "           1       0.99      0.99      0.99      2548\n",
      "\n",
      "    accuracy                           0.99      3161\n",
      "   macro avg       0.98      0.98      0.98      3161\n",
      "weighted avg       0.99      0.99      0.99      3161\n",
      "\n"
     ]
    }
   ],
   "source": [
    "print(classification_report(y_test,predictions))"
   ]
  },
  {
   "cell_type": "code",
   "execution_count": 40,
   "metadata": {},
   "outputs": [
    {
     "name": "stdout",
     "output_type": "stream",
     "text": [
      "[[ 593   20]\n",
      " [  18 2530]]\n"
     ]
    }
   ],
   "source": [
    "m2=confusion_matrix(y_test,predictions)\n",
    "print(m2)"
   ]
  },
  {
   "cell_type": "markdown",
   "metadata": {},
   "source": [
    "# random forest"
   ]
  },
  {
   "cell_type": "code",
   "execution_count": 41,
   "metadata": {},
   "outputs": [
    {
     "data": {
      "text/plain": [
       "RandomForestClassifier(max_depth=10, n_estimators=10, random_state=40)"
      ]
     },
     "execution_count": 41,
     "metadata": {},
     "output_type": "execute_result"
    }
   ],
   "source": [
    "\n",
    "from sklearn.ensemble import RandomForestClassifier\n",
    "rfc = RandomForestClassifier(n_estimators=10, max_depth=10, random_state=40)\n",
    "rfc.fit(X_train, y_train)"
   ]
  },
  {
   "cell_type": "code",
   "execution_count": 42,
   "metadata": {},
   "outputs": [],
   "source": [
    "rfc_pred = rfc.predict(X_test)"
   ]
  },
  {
   "cell_type": "code",
   "execution_count": 43,
   "metadata": {},
   "outputs": [
    {
     "data": {
      "text/plain": [
       "0.9890914757674926"
      ]
     },
     "execution_count": 43,
     "metadata": {},
     "output_type": "execute_result"
    }
   ],
   "source": [
    "rfc.score(X_train,y_train)"
   ]
  },
  {
   "cell_type": "code",
   "execution_count": 44,
   "metadata": {},
   "outputs": [
    {
     "data": {
      "text/plain": [
       "0.981651376146789"
      ]
     },
     "execution_count": 44,
     "metadata": {},
     "output_type": "execute_result"
    }
   ],
   "source": [
    "rfc.score(X_test,y_test)"
   ]
  },
  {
   "cell_type": "code",
   "execution_count": 45,
   "metadata": {},
   "outputs": [
    {
     "name": "stdout",
     "output_type": "stream",
     "text": [
      "              precision    recall  f1-score   support\n",
      "\n",
      "           0       0.98      0.92      0.95       613\n",
      "           1       0.98      1.00      0.99      2548\n",
      "\n",
      "    accuracy                           0.98      3161\n",
      "   macro avg       0.98      0.96      0.97      3161\n",
      "weighted avg       0.98      0.98      0.98      3161\n",
      "\n"
     ]
    }
   ],
   "source": [
    "print(classification_report(y_test,rfc_pred))"
   ]
  },
  {
   "cell_type": "code",
   "execution_count": 46,
   "metadata": {},
   "outputs": [
    {
     "name": "stdout",
     "output_type": "stream",
     "text": [
      "[[ 566   47]\n",
      " [  11 2537]]\n"
     ]
    }
   ],
   "source": [
    "m3=confusion_matrix(y_test,rfc_pred)\n",
    "print(m3)"
   ]
  },
  {
   "cell_type": "markdown",
   "metadata": {},
   "source": [
    "# XGBoost"
   ]
  },
  {
   "cell_type": "code",
   "execution_count": 47,
   "metadata": {},
   "outputs": [
    {
     "name": "stdout",
     "output_type": "stream",
     "text": [
      "Collecting xgboost\n",
      "  Downloading xgboost-1.4.2-py3-none-win_amd64.whl (97.8 MB)\n",
      "Requirement already satisfied: numpy in c:\\programdata\\anaconda3\\lib\\site-packages (from xgboost) (1.19.2)\n",
      "Requirement already satisfied: scipy in c:\\programdata\\anaconda3\\lib\\site-packages (from xgboost) (1.5.2)\n",
      "Installing collected packages: xgboost\n",
      "Successfully installed xgboost-1.4.2\n",
      "Note: you may need to restart the kernel to use updated packages.\n"
     ]
    }
   ],
   "source": [
    "pip install xgboost"
   ]
  },
  {
   "cell_type": "code",
   "execution_count": 48,
   "metadata": {},
   "outputs": [
    {
     "name": "stdout",
     "output_type": "stream",
     "text": [
      "[15:33:08] WARNING: C:/Users/Administrator/workspace/xgboost-win64_release_1.4.0/src/learner.cc:1095: Starting in XGBoost 1.3.0, the default evaluation metric used with the objective 'binary:logistic' was changed from 'error' to 'logloss'. Explicitly set eval_metric if you'd like to restore the old behavior.\n"
     ]
    },
    {
     "data": {
      "text/plain": [
       "XGBClassifier(base_score=0.5, booster='gbtree', colsample_bylevel=1,\n",
       "              colsample_bynode=1, colsample_bytree=1, gamma=0, gpu_id=-1,\n",
       "              importance_type='gain', interaction_constraints='',\n",
       "              learning_rate=0.300000012, max_delta_step=0, max_depth=6,\n",
       "              min_child_weight=1, missing=nan, monotone_constraints='()',\n",
       "              n_estimators=100, n_jobs=2, num_parallel_tree=1, random_state=0,\n",
       "              reg_alpha=0, reg_lambda=1, scale_pos_weight=1, subsample=1,\n",
       "              tree_method='exact', use_label_encoder=False,\n",
       "              validate_parameters=1, verbosity=None)"
      ]
     },
     "execution_count": 48,
     "metadata": {},
     "output_type": "execute_result"
    }
   ],
   "source": [
    "from xgboost import XGBClassifier\n",
    "from sklearn.metrics import accuracy_score\n",
    "\n",
    "model = XGBClassifier(use_label_encoder=False)\n",
    "model.fit(X_train, y_train)"
   ]
  },
  {
   "cell_type": "code",
   "execution_count": 49,
   "metadata": {},
   "outputs": [],
   "source": [
    "y_prediction = model.predict(X_test)"
   ]
  },
  {
   "cell_type": "code",
   "execution_count": 50,
   "metadata": {},
   "outputs": [
    {
     "data": {
      "text/plain": [
       "1.0"
      ]
     },
     "execution_count": 50,
     "metadata": {},
     "output_type": "execute_result"
    }
   ],
   "source": [
    "model.score(X_train,y_train)"
   ]
  },
  {
   "cell_type": "code",
   "execution_count": 51,
   "metadata": {},
   "outputs": [
    {
     "data": {
      "text/plain": [
       "0.9908256880733946"
      ]
     },
     "execution_count": 51,
     "metadata": {},
     "output_type": "execute_result"
    }
   ],
   "source": [
    "model.score(X_test,y_test)"
   ]
  },
  {
   "cell_type": "code",
   "execution_count": 52,
   "metadata": {
    "scrolled": true
   },
   "outputs": [
    {
     "name": "stdout",
     "output_type": "stream",
     "text": [
      "              precision    recall  f1-score   support\n",
      "\n",
      "           0       0.99      0.96      0.98       613\n",
      "           1       0.99      1.00      0.99      2548\n",
      "\n",
      "    accuracy                           0.99      3161\n",
      "   macro avg       0.99      0.98      0.99      3161\n",
      "weighted avg       0.99      0.99      0.99      3161\n",
      "\n"
     ]
    }
   ],
   "source": [
    "print(classification_report(y_test,y_prediction))"
   ]
  },
  {
   "cell_type": "code",
   "execution_count": 54,
   "metadata": {},
   "outputs": [
    {
     "name": "stdout",
     "output_type": "stream",
     "text": [
      "[[ 591   22]\n",
      " [   7 2541]]\n"
     ]
    }
   ],
   "source": [
    "\n",
    "m4=confusion_matrix(y_test,y_prediction)\n",
    "print(m4)\n"
   ]
  },
  {
   "cell_type": "code",
   "execution_count": 55,
   "metadata": {},
   "outputs": [
    {
     "name": "stdout",
     "output_type": "stream",
     "text": [
      "[15:35:19] WARNING: C:/Users/Administrator/workspace/xgboost-win64_release_1.4.0/src/learner.cc:1095: Starting in XGBoost 1.3.0, the default evaluation metric used with the objective 'binary:logistic' was changed from 'error' to 'logloss'. Explicitly set eval_metric if you'd like to restore the old behavior.\n"
     ]
    },
    {
     "data": {
      "text/plain": [
       "VotingClassifier(estimators=[('1', LogisticRegression(max_iter=200)),\n",
       "                             ('2', DecisionTreeClassifier(max_depth=17)),\n",
       "                             ('3',\n",
       "                              RandomForestClassifier(max_depth=10,\n",
       "                                                     n_estimators=10,\n",
       "                                                     random_state=40)),\n",
       "                             ('4',\n",
       "                              XGBClassifier(base_score=0.5, booster='gbtree',\n",
       "                                            colsample_bylevel=1,\n",
       "                                            colsample_bynode=1,\n",
       "                                            colsample_bytree=1, gamma=0,\n",
       "                                            gpu_id=-1, importance_type='gain',\n",
       "                                            interaction_constraints='',\n",
       "                                            learning_rate=0.300000012,\n",
       "                                            max_delta_step=0, max_depth=6,\n",
       "                                            min_child_weight=1, missing=nan,\n",
       "                                            monotone_constraints='()',\n",
       "                                            n_estimators=100, n_jobs=2,\n",
       "                                            num_parallel_tree=1, random_state=0,\n",
       "                                            reg_alpha=0, reg_lambda=1,\n",
       "                                            scale_pos_weight=1, subsample=1,\n",
       "                                            tree_method='exact',\n",
       "                                            use_label_encoder=False,\n",
       "                                            validate_parameters=1,\n",
       "                                            verbosity=None))])"
      ]
     },
     "execution_count": 55,
     "metadata": {},
     "output_type": "execute_result"
    }
   ],
   "source": [
    "# Використайте ансамбель voting для всіх моделей\n",
    "\n",
    "from sklearn.ensemble import VotingClassifier\n",
    "\n",
    "VR=VotingClassifier(estimators=[('1',logmodel),('2', dtree),('3', rfc),('4', model)])\n",
    "VR.fit(X,y)"
   ]
  },
  {
   "cell_type": "code",
   "execution_count": 56,
   "metadata": {},
   "outputs": [
    {
     "data": {
      "text/plain": [
       "1.0"
      ]
     },
     "execution_count": 56,
     "metadata": {},
     "output_type": "execute_result"
    }
   ],
   "source": [
    "VR.score(X_train,y_train)"
   ]
  },
  {
   "cell_type": "code",
   "execution_count": 57,
   "metadata": {},
   "outputs": [
    {
     "data": {
      "text/plain": [
       "1.0"
      ]
     },
     "execution_count": 57,
     "metadata": {},
     "output_type": "execute_result"
    }
   ],
   "source": [
    "VR.score(X_test,y_test)"
   ]
  },
  {
   "cell_type": "code",
   "execution_count": 58,
   "metadata": {},
   "outputs": [
    {
     "name": "stdout",
     "output_type": "stream",
     "text": [
      "[[ 613    0]\n",
      " [   0 2548]]\n"
     ]
    }
   ],
   "source": [
    "y_prediction = VR.predict(X_test)\n",
    "m5=confusion_matrix(y_test,y_prediction)\n",
    "print(m5)"
   ]
  },
  {
   "cell_type": "code",
   "execution_count": 60,
   "metadata": {},
   "outputs": [
    {
     "name": "stdout",
     "output_type": "stream",
     "text": [
      "Logistic regression:\n",
      "[[ 336  277]\n",
      " [  59 2489]]\n",
      "Decision tree:\n",
      "[[ 593   20]\n",
      " [  18 2530]]\n",
      "Random forest:\n",
      "[[ 566   47]\n",
      " [  11 2537]]\n",
      "XGBoost:\n",
      "[[ 591   22]\n",
      " [   7 2541]]\n",
      "Voting Regressor:\n",
      "[[ 613    0]\n",
      " [   0 2548]]\n"
     ]
    }
   ],
   "source": [
    "# Порівняйте результати моделей та зробіть висновки\n",
    "\n",
    "print('Logistic regression:')\n",
    "print(m1)\n",
    "print('Decision tree:')\n",
    "print(m2)\n",
    "print('Random forest:')\n",
    "print(m3)\n",
    "print('XGBoost:')\n",
    "print(m4)\n",
    "print('Voting Regressor:')\n",
    "print(m5)"
   ]
  },
  {
   "cell_type": "markdown",
   "metadata": {},
   "source": [
    "### Завдання 2:"
   ]
  },
  {
   "cell_type": "markdown",
   "metadata": {},
   "source": [
    "Просте завдання на обробку часових рядів."
   ]
  },
  {
   "cell_type": "markdown",
   "metadata": {},
   "source": [
    "Потрібно вивести наступну інформацію: \n",
    "1. Виведіть список унікальних міст з датасету\n",
    "2. Виведіть дату початку та кінця ведення даних\n",
    "3. Яка середня конценрація $NO_2$ для кожного дня тижня і міста (виведіть таблицю)?\n",
    "4. Яке середнє значення для кожної години (виведіть стовбчикову діаграму)?"
   ]
  },
  {
   "cell_type": "code",
   "execution_count": 64,
   "metadata": {},
   "outputs": [],
   "source": [
    "url = \"https://raw.githubusercontent.com/dm-fedorov/pandas_basic/master/%D0%B1%D1%8B%D1%81%D1%82%D1%80%D0%BE%D0%B5%20%D0%B2%D0%B2%D0%B5%D0%B4%D0%B5%D0%BD%D0%B8%D0%B5%20%D0%B2%20pandas/data/air_quality_no2_long.csv\""
   ]
  },
  {
   "cell_type": "code",
   "execution_count": 65,
   "metadata": {
    "scrolled": true
   },
   "outputs": [
    {
     "data": {
      "text/html": [
       "<div>\n",
       "<style scoped>\n",
       "    .dataframe tbody tr th:only-of-type {\n",
       "        vertical-align: middle;\n",
       "    }\n",
       "\n",
       "    .dataframe tbody tr th {\n",
       "        vertical-align: top;\n",
       "    }\n",
       "\n",
       "    .dataframe thead th {\n",
       "        text-align: right;\n",
       "    }\n",
       "</style>\n",
       "<table border=\"1\" class=\"dataframe\">\n",
       "  <thead>\n",
       "    <tr style=\"text-align: right;\">\n",
       "      <th></th>\n",
       "      <th>city</th>\n",
       "      <th>country</th>\n",
       "      <th>date.utc</th>\n",
       "      <th>location</th>\n",
       "      <th>parameter</th>\n",
       "      <th>value</th>\n",
       "      <th>unit</th>\n",
       "    </tr>\n",
       "  </thead>\n",
       "  <tbody>\n",
       "    <tr>\n",
       "      <th>0</th>\n",
       "      <td>Paris</td>\n",
       "      <td>FR</td>\n",
       "      <td>2019-06-21 00:00:00+00:00</td>\n",
       "      <td>FR04014</td>\n",
       "      <td>no2</td>\n",
       "      <td>20.0</td>\n",
       "      <td>µg/m³</td>\n",
       "    </tr>\n",
       "    <tr>\n",
       "      <th>1</th>\n",
       "      <td>Paris</td>\n",
       "      <td>FR</td>\n",
       "      <td>2019-06-20 23:00:00+00:00</td>\n",
       "      <td>FR04014</td>\n",
       "      <td>no2</td>\n",
       "      <td>21.8</td>\n",
       "      <td>µg/m³</td>\n",
       "    </tr>\n",
       "    <tr>\n",
       "      <th>2</th>\n",
       "      <td>Paris</td>\n",
       "      <td>FR</td>\n",
       "      <td>2019-06-20 22:00:00+00:00</td>\n",
       "      <td>FR04014</td>\n",
       "      <td>no2</td>\n",
       "      <td>26.5</td>\n",
       "      <td>µg/m³</td>\n",
       "    </tr>\n",
       "    <tr>\n",
       "      <th>3</th>\n",
       "      <td>Paris</td>\n",
       "      <td>FR</td>\n",
       "      <td>2019-06-20 21:00:00+00:00</td>\n",
       "      <td>FR04014</td>\n",
       "      <td>no2</td>\n",
       "      <td>24.9</td>\n",
       "      <td>µg/m³</td>\n",
       "    </tr>\n",
       "    <tr>\n",
       "      <th>4</th>\n",
       "      <td>Paris</td>\n",
       "      <td>FR</td>\n",
       "      <td>2019-06-20 20:00:00+00:00</td>\n",
       "      <td>FR04014</td>\n",
       "      <td>no2</td>\n",
       "      <td>21.4</td>\n",
       "      <td>µg/m³</td>\n",
       "    </tr>\n",
       "    <tr>\n",
       "      <th>...</th>\n",
       "      <td>...</td>\n",
       "      <td>...</td>\n",
       "      <td>...</td>\n",
       "      <td>...</td>\n",
       "      <td>...</td>\n",
       "      <td>...</td>\n",
       "      <td>...</td>\n",
       "    </tr>\n",
       "    <tr>\n",
       "      <th>2063</th>\n",
       "      <td>London</td>\n",
       "      <td>GB</td>\n",
       "      <td>2019-05-07 06:00:00+00:00</td>\n",
       "      <td>London Westminster</td>\n",
       "      <td>no2</td>\n",
       "      <td>26.0</td>\n",
       "      <td>µg/m³</td>\n",
       "    </tr>\n",
       "    <tr>\n",
       "      <th>2064</th>\n",
       "      <td>London</td>\n",
       "      <td>GB</td>\n",
       "      <td>2019-05-07 04:00:00+00:00</td>\n",
       "      <td>London Westminster</td>\n",
       "      <td>no2</td>\n",
       "      <td>16.0</td>\n",
       "      <td>µg/m³</td>\n",
       "    </tr>\n",
       "    <tr>\n",
       "      <th>2065</th>\n",
       "      <td>London</td>\n",
       "      <td>GB</td>\n",
       "      <td>2019-05-07 03:00:00+00:00</td>\n",
       "      <td>London Westminster</td>\n",
       "      <td>no2</td>\n",
       "      <td>19.0</td>\n",
       "      <td>µg/m³</td>\n",
       "    </tr>\n",
       "    <tr>\n",
       "      <th>2066</th>\n",
       "      <td>London</td>\n",
       "      <td>GB</td>\n",
       "      <td>2019-05-07 02:00:00+00:00</td>\n",
       "      <td>London Westminster</td>\n",
       "      <td>no2</td>\n",
       "      <td>19.0</td>\n",
       "      <td>µg/m³</td>\n",
       "    </tr>\n",
       "    <tr>\n",
       "      <th>2067</th>\n",
       "      <td>London</td>\n",
       "      <td>GB</td>\n",
       "      <td>2019-05-07 01:00:00+00:00</td>\n",
       "      <td>London Westminster</td>\n",
       "      <td>no2</td>\n",
       "      <td>23.0</td>\n",
       "      <td>µg/m³</td>\n",
       "    </tr>\n",
       "  </tbody>\n",
       "</table>\n",
       "<p>2068 rows × 7 columns</p>\n",
       "</div>"
      ],
      "text/plain": [
       "        city country                   date.utc            location parameter  \\\n",
       "0      Paris      FR  2019-06-21 00:00:00+00:00             FR04014       no2   \n",
       "1      Paris      FR  2019-06-20 23:00:00+00:00             FR04014       no2   \n",
       "2      Paris      FR  2019-06-20 22:00:00+00:00             FR04014       no2   \n",
       "3      Paris      FR  2019-06-20 21:00:00+00:00             FR04014       no2   \n",
       "4      Paris      FR  2019-06-20 20:00:00+00:00             FR04014       no2   \n",
       "...      ...     ...                        ...                 ...       ...   \n",
       "2063  London      GB  2019-05-07 06:00:00+00:00  London Westminster       no2   \n",
       "2064  London      GB  2019-05-07 04:00:00+00:00  London Westminster       no2   \n",
       "2065  London      GB  2019-05-07 03:00:00+00:00  London Westminster       no2   \n",
       "2066  London      GB  2019-05-07 02:00:00+00:00  London Westminster       no2   \n",
       "2067  London      GB  2019-05-07 01:00:00+00:00  London Westminster       no2   \n",
       "\n",
       "      value   unit  \n",
       "0      20.0  µg/m³  \n",
       "1      21.8  µg/m³  \n",
       "2      26.5  µg/m³  \n",
       "3      24.9  µg/m³  \n",
       "4      21.4  µg/m³  \n",
       "...     ...    ...  \n",
       "2063   26.0  µg/m³  \n",
       "2064   16.0  µg/m³  \n",
       "2065   19.0  µg/m³  \n",
       "2066   19.0  µg/m³  \n",
       "2067   23.0  µg/m³  \n",
       "\n",
       "[2068 rows x 7 columns]"
      ]
     },
     "execution_count": 65,
     "metadata": {},
     "output_type": "execute_result"
    }
   ],
   "source": [
    "\n",
    "df = pd.read_csv('air_quality_no2_long.csv')\n",
    "df\n",
    "\n"
   ]
  },
  {
   "cell_type": "code",
   "execution_count": 66,
   "metadata": {},
   "outputs": [
    {
     "data": {
      "text/plain": [
       "3"
      ]
     },
     "execution_count": 66,
     "metadata": {},
     "output_type": "execute_result"
    }
   ],
   "source": [
    "len(df['city'].unique())"
   ]
  },
  {
   "cell_type": "code",
   "execution_count": 67,
   "metadata": {},
   "outputs": [
    {
     "name": "stdout",
     "output_type": "stream",
     "text": [
      "start:  2019-05-07 01:00:00+00:00 , finish: 2019-06-21 00:00:00+00:00\n"
     ]
    }
   ],
   "source": [
    "\n",
    "start=min(df['date.utc'])\n",
    "finish=max(df['date.utc'])\n",
    "print('start: ', start, ', finish:',finish)"
   ]
  },
  {
   "cell_type": "code",
   "execution_count": 68,
   "metadata": {},
   "outputs": [
    {
     "data": {
      "text/html": [
       "<div>\n",
       "<style scoped>\n",
       "    .dataframe tbody tr th:only-of-type {\n",
       "        vertical-align: middle;\n",
       "    }\n",
       "\n",
       "    .dataframe tbody tr th {\n",
       "        vertical-align: top;\n",
       "    }\n",
       "\n",
       "    .dataframe thead th {\n",
       "        text-align: right;\n",
       "    }\n",
       "</style>\n",
       "<table border=\"1\" class=\"dataframe\">\n",
       "  <thead>\n",
       "    <tr style=\"text-align: right;\">\n",
       "      <th></th>\n",
       "      <th>Paris</th>\n",
       "      <th>London</th>\n",
       "      <th>Antwerpen</th>\n",
       "    </tr>\n",
       "    <tr>\n",
       "      <th>day</th>\n",
       "      <th></th>\n",
       "      <th></th>\n",
       "      <th></th>\n",
       "    </tr>\n",
       "  </thead>\n",
       "  <tbody>\n",
       "    <tr>\n",
       "      <th>0</th>\n",
       "      <td>24.856250</td>\n",
       "      <td>23.969697</td>\n",
       "      <td>27.875000</td>\n",
       "    </tr>\n",
       "    <tr>\n",
       "      <th>1</th>\n",
       "      <td>30.999359</td>\n",
       "      <td>24.885714</td>\n",
       "      <td>22.214286</td>\n",
       "    </tr>\n",
       "    <tr>\n",
       "      <th>2</th>\n",
       "      <td>29.165753</td>\n",
       "      <td>23.460432</td>\n",
       "      <td>21.125000</td>\n",
       "    </tr>\n",
       "    <tr>\n",
       "      <th>3</th>\n",
       "      <td>28.600690</td>\n",
       "      <td>24.780142</td>\n",
       "      <td>27.500000</td>\n",
       "    </tr>\n",
       "    <tr>\n",
       "      <th>4</th>\n",
       "      <td>31.617986</td>\n",
       "      <td>26.446809</td>\n",
       "      <td>28.400000</td>\n",
       "    </tr>\n",
       "    <tr>\n",
       "      <th>5</th>\n",
       "      <td>25.266154</td>\n",
       "      <td>24.977612</td>\n",
       "      <td>33.500000</td>\n",
       "    </tr>\n",
       "    <tr>\n",
       "      <th>6</th>\n",
       "      <td>23.274306</td>\n",
       "      <td>24.859155</td>\n",
       "      <td>21.896552</td>\n",
       "    </tr>\n",
       "  </tbody>\n",
       "</table>\n",
       "</div>"
      ],
      "text/plain": [
       "         Paris     London  Antwerpen\n",
       "day                                 \n",
       "0    24.856250  23.969697  27.875000\n",
       "1    30.999359  24.885714  22.214286\n",
       "2    29.165753  23.460432  21.125000\n",
       "3    28.600690  24.780142  27.500000\n",
       "4    31.617986  26.446809  28.400000\n",
       "5    25.266154  24.977612  33.500000\n",
       "6    23.274306  24.859155  21.896552"
      ]
     },
     "execution_count": 68,
     "metadata": {},
     "output_type": "execute_result"
    }
   ],
   "source": [
    "\n",
    "\n",
    "import datetime as dt\n",
    "\n",
    "df['day'] = (pd.to_datetime(df['date.utc'])).dt.dayofweek\n",
    "df1=df[df['city']==\"Paris\"].groupby('day')['value'].mean()\n",
    "df2=df[df['city']==\"London\"].groupby('day')['value'].mean()\n",
    "df3=df[df['city']==\"Antwerpen\"].groupby('day')['value'].mean()\n",
    "\n",
    "data={\"Paris\": df1, \"London\":df2, \"Antwerpen\":df3}\n",
    "frame = pd.DataFrame(data)\n",
    "frame"
   ]
  },
  {
   "cell_type": "code",
   "execution_count": 80,
   "metadata": {},
   "outputs": [
    {
     "data": {
      "image/png": "[encoded data removed]",
      "text/plain": [
       "<Figure size 432x288 with 1 Axes>"
      ]
     },
     "metadata": {
      "needs_background": "light"
     },
     "output_type": "display_data"
    }
   ],
   "source": [
    "import datetime as dt\n",
    "df['hour'] = (pd.to_datetime(df['date.utc'])).dt.hour\n",
    "df1=df.groupby('hour')['value'].mean()\n",
    "df=df.drop('hour', 1)\n",
    "\n",
    "fig, ax = plt.subplots()\n",
    "ax.bar(df1.index,df1)\n",
    "ax.set_xlabel('hour')\n",
    "ax.set_ylabel('Mean NO2 concentration')\n",
    "plt.show()"
   ]
  },
  {
   "cell_type": "code",
   "execution_count": null,
   "metadata": {},
   "outputs": [],
   "source": []
  }
 ],
 "metadata": {
  "kernelspec": {
   "display_name": "Python 3",
   "language": "python",
   "name": "python3"
  },
  "language_info": {
   "codemirror_mode": {
    "name": "ipython",
    "version": 3
   },
   "file_extension": ".py",
   "mimetype": "text/x-python",
   "name": "python",
   "nbconvert_exporter": "python",
   "pygments_lexer": "ipython3",
   "version": "3.8.5"
  }
 },
 "nbformat": 4,
 "nbformat_minor": 2
}
