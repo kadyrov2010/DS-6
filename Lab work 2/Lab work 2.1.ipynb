{
 "cells": [
  {
   "cell_type": "markdown",
   "metadata": {},
   "source": [
    "___\n",
    "\n",
    "<a href='https://mainacademy.ua/'> <img src='https://mainacademy.ua/wp-content/uploads/2019/03/logo-main.png' alt = 'Хмм, щось з інтернетом'/></a>\n",
    "___\n",
    "\n",
    "# Module 2: Basic Python"
   ]
  },
  {
   "cell_type": "markdown",
   "metadata": {},
   "source": [
    "## Lab work 2.1\n",
    "\n"
   ]
  },
  {
   "cell_type": "markdown",
   "metadata": {},
   "source": [
    "#### Мета: \n",
    "\n",
    "* навчитися працювати із основними типами та структурами даних в Python;\n",
    "* ознайомитися із базовими алгоритмами;"
   ]
  },
  {
   "cell_type": "markdown",
   "metadata": {},
   "source": [
    "#### Завдання 1"
   ]
  },
  {
   "cell_type": "markdown",
   "metadata": {},
   "source": [
    "Обчислити площу трикутника, коли відома сторона та проведена висота до неї"
   ]
  },
  {
   "cell_type": "code",
   "execution_count": 9,
   "metadata": {},
   "outputs": [
    {
     "name": "stdout",
     "output_type": "stream",
     "text": [
      "7\n",
      "5\n",
      "17.5\n"
     ]
    }
   ],
   "source": [
    "a = int(input())\n",
    "h = int(input())\n",
    "print((a * h) / 2)\n",
    "\n"
   ]
  },
  {
   "cell_type": "markdown",
   "metadata": {},
   "source": [
    "#### Завдання 2"
   ]
  },
  {
   "cell_type": "markdown",
   "metadata": {},
   "source": [
    "Дано трицифрове число. Виведіть окремо кожну цифру числа та суми цифр число\n",
    "\n",
    "Реалізуйте завдання двома способами (використовуючи стрічки та оператори `%`, `//`)"
   ]
  },
  {
   "cell_type": "code",
   "execution_count": 15,
   "metadata": {},
   "outputs": [
    {
     "name": "stdout",
     "output_type": "stream",
     "text": [
      "123\n",
      "1\n",
      "2\n",
      "3\n",
      "Сумма:  6\n"
     ]
    }
   ],
   "source": [
    "# перший спосіб \n",
    "N = input()\n",
    "\n",
    "print(N[0])\n",
    "print(N[1])\n",
    "print(N[2])\n",
    "print('Сумма: ', int(N[0]) + int(N[1]) + int(N[2]))\n",
    "\n"
   ]
  },
  {
   "cell_type": "code",
   "execution_count": 11,
   "metadata": {},
   "outputs": [
    {
     "name": "stdout",
     "output_type": "stream",
     "text": [
      "123\n",
      "1\n",
      "2\n",
      "3\n",
      "Сумма:  6\n"
     ]
    }
   ],
   "source": [
    "# другий спосіб\n",
    "N = int(input())\n",
    "a = N // 100\n",
    "b = N // 10 % 10\n",
    "c = N % 10\n",
    "print(a)\n",
    "print(b)\n",
    "print(c)\n",
    "print('Сумма: ', a + b +c)\n"
   ]
  },
  {
   "cell_type": "markdown",
   "metadata": {},
   "source": [
    "#### Завдання 3"
   ]
  },
  {
   "cell_type": "markdown",
   "metadata": {},
   "source": [
    "Дано речення (стрічка). \n",
    "* Розбийте речення по словах і помістіть їх у список. \n",
    "* Виведіть кількість слів у речені.\n",
    "* Утворіть нове речення, що складається з першого та останнього слова із початкового речення."
   ]
  },
  {
   "cell_type": "code",
   "execution_count": 15,
   "metadata": {},
   "outputs": [
    {
     "name": "stdout",
     "output_type": "stream",
     "text": [
      "['My', 'favourite', 'tutor', 'in', 'academy', 'is', 'Ihor']\n",
      "7\n",
      "My Ihor\n"
     ]
    }
   ],
   "source": [
    "# Первый способ  с циклом\n",
    "sentence = 'My favourite tutor in academy is Ihor'\n",
    "sent_list = []    \n",
    "word = ''\n",
    "for i in range(len(sentence)):\n",
    "    word += sentence[i] if sentence[i] != ' ' else '' #використовуємо тернарний if щоб не додавались пробіли\n",
    "    if sentence[i] == ' ' or i == len(sentence) - 1: #використовуємо пробіли як роздільники слів\n",
    "        sent_list.append(word[:i]) # додаємо слово до списку\n",
    "        word = '' # обнуляємо змінну \n",
    "    \n",
    "print(sent_list) # Виводимо речення по словах у вигляді списка\n",
    "print(len(sent_list)) # Виводимо кількість слів\n",
    "New_sentence = str(sent_list[0] + ' ' + sent_list[- 1]) # створення нового речення \n",
    "print(New_sentence) # Виводимо нове речення"
   ]
  },
  {
   "cell_type": "code",
   "execution_count": 21,
   "metadata": {},
   "outputs": [
    {
     "name": "stdout",
     "output_type": "stream",
     "text": [
      "['My', 'favourite', 'tutor', 'in', 'academy', 'is', 'Ihor']\n",
      "7\n",
      "My Ihor\n"
     ]
    }
   ],
   "source": [
    "# второй способ метод split\n",
    "sentence = 'My favourite tutor in academy is Ihor'\n",
    "list_sentence = sentence.split() # За допомогою метода split отримаємо список\n",
    "print(list_sentence) # виводимо список\n",
    "print(len(list_sentence)) # виводимо кількість слів\n",
    "New_senten = str(list_sentence[0] + ' ' + list_sentence[len(list_sentence) - 1]) # створення нового речення\n",
    "print(New_senten) # Виводимо нове речення"
   ]
  },
  {
   "cell_type": "markdown",
   "metadata": {},
   "source": [
    "#### Завдання 4"
   ]
  },
  {
   "cell_type": "markdown",
   "metadata": {},
   "source": [
    "Перевірте, чи справджується формула: $$ sin^2x + cos^2x = 1$$\n",
    "\n",
    "Напишіть код, що реалізує цю формулу. Нагадую, що тригонометричні функції приймають аргументи в радіанній мірі"
   ]
  },
  {
   "cell_type": "code",
   "execution_count": 43,
   "metadata": {},
   "outputs": [
    {
     "name": "stdout",
     "output_type": "stream",
     "text": [
      "2\n",
      "1.0\n"
     ]
    }
   ],
   "source": [
    "import math\n",
    "x = int(input())\n",
    "y = math.sin(x) ** 2 + math.cos(x) ** 2\n",
    "\n",
    "print(y)\n"
   ]
  },
  {
   "cell_type": "markdown",
   "metadata": {},
   "source": [
    "#### Завдання 5"
   ]
  },
  {
   "cell_type": "markdown",
   "metadata": {},
   "source": [
    "Напишіть програму для обчислення коренів квадратного рівняння.\n",
    "\n",
    "Нагадую, що `n`-го степеня має `n` коренів. (Корені можуть бути комплексні)"
   ]
  },
  {
   "cell_type": "code",
   "execution_count": 44,
   "metadata": {},
   "outputs": [
    {
     "name": "stdout",
     "output_type": "stream",
     "text": [
      "5\n",
      "5\n",
      "8\n"
     ]
    },
    {
     "data": {
      "text/plain": [
       "(-5-29.047375096555626j)"
      ]
     },
     "execution_count": 44,
     "metadata": {},
     "output_type": "execute_result"
    }
   ],
   "source": [
    " import cmath\n",
    "a = int(input())\n",
    "b = int(input())\n",
    "c = int(input())\n",
    "\n",
    "x1 = -b + cmath.sqrt(b ** 2 - 4*a*c) / 2 * a\n",
    "x2 = -b - cmath.sqrt(b ** 2 - 4*a*c) / 2 * a\n",
    "x1\n",
    "x2"
   ]
  },
  {
   "cell_type": "markdown",
   "metadata": {},
   "source": [
    "#### Завдання 6"
   ]
  },
  {
   "cell_type": "markdown",
   "metadata": {},
   "source": [
    "Напишіть програму, що виводить речення: <i>\"Діаметр планети `Planet` дорівнює` Diament`\"</i>, \n",
    "\n",
    "де `Planet` та `Diament` вводить користувач"
   ]
  },
  {
   "cell_type": "code",
   "execution_count": 46,
   "metadata": {},
   "outputs": [
    {
     "name": "stdout",
     "output_type": "stream",
     "text": [
      "марс\n",
      "120\n",
      "Діаметр планети марс дорівнює 120\n"
     ]
    }
   ],
   "source": [
    "# Перший спосіб\n",
    "Planet = input()\n",
    "Diament = input()\n",
    "\n",
    "print(f'Діаметр планети {Planet} дорівнює {Diament}')"
   ]
  },
  {
   "cell_type": "code",
   "execution_count": 48,
   "metadata": {},
   "outputs": [
    {
     "name": "stdout",
     "output_type": "stream",
     "text": [
      "Mars\n",
      "3478983749870897\n",
      "Діаметр планети Mars дорівнює 3478983749870897\n"
     ]
    }
   ],
   "source": [
    "# Другий спосіб\n",
    "Planet = input()\n",
    "Diament = input()\n",
    "\n",
    "print('Діаметр планети {} дорівнює {}'.format(Planet, Diament))"
   ]
  },
  {
   "cell_type": "code",
   "execution_count": null,
   "metadata": {},
   "outputs": [],
   "source": []
  }
 ],
 "metadata": {
  "kernelspec": {
   "display_name": "Python 3",
   "language": "python",
   "name": "python3"
  },
  "language_info": {
   "codemirror_mode": {
    "name": "ipython",
    "version": 3
   },
   "file_extension": ".py",
   "mimetype": "text/x-python",
   "name": "python",
   "nbconvert_exporter": "python",
   "pygments_lexer": "ipython3",
   "version": "3.8.5"
  }
 },
 "nbformat": 4,
 "nbformat_minor": 2
}
