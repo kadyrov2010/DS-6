{
 "cells": [
  {
   "cell_type": "code",
   "execution_count": 1,
   "metadata": {},
   "outputs": [
    {
     "name": "stdout",
     "output_type": "stream",
     "text": [
      "кількість товарних позицій: 426\n",
      "кількість товарів що є в наявності: 353\n",
      "найдорожчий товар: 1623.0 Масло Liqui Moly TOP TEC 4600 5W-30 5л\n"
     ]
    }
   ],
   "source": [
    "# Задаэмо змінну, щоб пропустити першу строчку\n",
    "first_row = True\n",
    "\n",
    "# створюємо пусті словник та список для парсингу \n",
    "db = {}\n",
    "db_list = []\n",
    "\n",
    "# парсимо файл і наповнюємо список\n",
    "for string in open('Homework-06-base.txt', encoding='UTF-8'):\n",
    "    if first_row == False:\n",
    "        tmp = string.split('|')\n",
    "        db['part'] = tmp[0]\n",
    "        db['name'] = tmp[1]\n",
    "        db['status'] = tmp[2]\n",
    "        db['price'] = float(tmp[-1].rstrip(' грн\\n'))\n",
    "        db_list.append(db)\n",
    "        db = {}\n",
    "    else:\n",
    "        first_row = False\n",
    "\n",
    "# кількість товарних позицій у файлі\n",
    "print(f'кількість товарних позицій: {len(db_list)}')\n",
    "\n",
    "# кількість товарних позицій, що в є наявності\n",
    "num = 0\n",
    "for i in db_list:\n",
    "    if i['status'] == 'В наличии':\n",
    "        num += 1\n",
    "print(f'кількість товарів що є в наявності: {num}')\n",
    "\n",
    "#ціна та назва найдорожчої товарної позиції\n",
    "item_expensiv = []\n",
    "count_expensive = 0\n",
    "for i in db_list:\n",
    "    if i['price'] > count_expensive:\n",
    "        count_expensive = i['price']\n",
    "        item_expensiv = i\n",
    "print(f\"найдорожчий товар: {item_expensiv['price']} {item_expensiv['name']}\")\n"
   ]
  },
  {
   "cell_type": "code",
   "execution_count": 2,
   "metadata": {},
   "outputs": [],
   "source": [
    "# серіалізація pickle\n",
    "import pickle\n",
    "\n",
    "with open(r'data_base', 'wb') as f:\n",
    "    pickle.dump(db_list, f)"
   ]
  },
  {
   "cell_type": "code",
   "execution_count": 4,
   "metadata": {},
   "outputs": [],
   "source": [
    "# серіалізація json\n",
    "import json\n",
    "\n",
    "with open('data_b.json', 'w') as f:     \n",
    "    json.dump(db_list, f) "
   ]
  },
  {
   "cell_type": "code",
   "execution_count": 5,
   "metadata": {},
   "outputs": [],
   "source": [
    "# відкриття серіалізованого файлу\n",
    "with open('data_b.json') as f:\n",
    "    res = json.load(f)"
   ]
  },
  {
   "cell_type": "code",
   "execution_count": 8,
   "metadata": {},
   "outputs": [
    {
     "name": "stdout",
     "output_type": "stream",
     "text": [
      "Введіть артикул запчастини VMP-38-Y-01\n"
     ]
    },
    {
     "data": {
      "text/plain": [
       "{'part': 'VMP-38-Y-01',\n",
       " 'name': 'Антифриз ВАМП жёлтый -38C 1кг',\n",
       " 'status': 'В наличии',\n",
       " 'price': 38.0}"
      ]
     },
     "execution_count": 8,
     "metadata": {},
     "output_type": "execute_result"
    }
   ],
   "source": [
    "# Напишіть програму, що запитує артикул товарної позиції, а повертає стрічку json   \n",
    "def req_art(db_list):\n",
    "    a = input('Введіть артикул запчастини ')\n",
    "    for i in db_list:\n",
    "        if i['part'] == a:\n",
    "            return i\n",
    "    else:\n",
    "        print('Такого товару не знайдено')\n",
    "        \n",
    "req_art(res)"
   ]
  },
  {
   "cell_type": "code",
   "execution_count": 7,
   "metadata": {},
   "outputs": [
    {
     "data": {
      "text/plain": [
       "[{'part': '7611',\n",
       "  'name': 'Омыватель стекла летний (концентрат) яблоко 0.25л Liqui Moly',\n",
       "  'status': 'В наличии',\n",
       "  'price': 196.0},\n",
       " {'part': '36001',\n",
       "  'name': 'Омыватель стекла летний аромат яблока 1л (концентрат) Liqui Moly',\n",
       "  'status': 'В наличии',\n",
       "  'price': 73.0},\n",
       " {'part': '8820',\n",
       "  'name': 'Омыватель стекла летний аромат яблока 2л Liqui Moly',\n",
       "  'status': 'В наличии',\n",
       "  'price': 85.0},\n",
       " {'part': 'AFAM-007',\n",
       "  'name': 'Освежитель воздуха Areon Mon Classic аромат яблока',\n",
       "  'status': 'Нет в наличии',\n",
       "  'price': 17.0},\n",
       " {'part': 'AFA-019',\n",
       "  'name': 'Освежитель воздуха гелевый Areon аромат яблока',\n",
       "  'status': 'В наличии',\n",
       "  'price': 35.0},\n",
       " {'part': 'F07AP',\n",
       "  'name': 'Освежитель воздуха ёлка (ароматизатор) Zollex аромат яблока',\n",
       "  'status': 'Нет в наличии',\n",
       "  'price': 10.0}]"
      ]
     },
     "execution_count": 7,
     "metadata": {},
     "output_type": "execute_result"
    }
   ],
   "source": [
    "# Знайдіть всі товари, у яких аромат яблука, та виведіть їх.\n",
    "\n",
    "items_list = []\n",
    "for i in res:\n",
    "    if 'яблок' in i['name']:\n",
    "        items_list.append(i)\n",
    "items_list"
   ]
  }
 ],
 "metadata": {
  "kernelspec": {
   "display_name": "Python 3",
   "language": "python",
   "name": "python3"
  },
  "language_info": {
   "codemirror_mode": {
    "name": "ipython",
    "version": 3
   },
   "file_extension": ".py",
   "mimetype": "text/x-python",
   "name": "python",
   "nbconvert_exporter": "python",
   "pygments_lexer": "ipython3",
   "version": "3.8.5"
  }
 },
 "nbformat": 4,
 "nbformat_minor": 4
}
